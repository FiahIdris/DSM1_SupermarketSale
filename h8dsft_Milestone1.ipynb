{
 "cells": [
  {
   "cell_type": "markdown",
   "metadata": {},
   "source": [
    "<p style=\"font-family: Arials; font-size: 20px; font-style: normal; font-weight: bold; letter-spacing: 3px; color: #808080; line-height:1.0\">TABLE OF CONTENT</p>\n",
    "\n",
    "<p style=\"font-family: Arials; font-size: 16px; font-style: normal; font-weight: bold; letter-spacing: 2px; color: #808080; line-height:1.3\"><a href=\"#part1\" style=\"color:#808080\">0 PROLOGUE</a></p>\n",
    "\n",
    "<p style=\"font-family: Arials; font-size: 16px; font-style: normal; font-weight: bold; letter-spacing: 2px; color: #808080; line-height:1.3\"><a href=\"#part2\" style=\"color:#808080\">1 IMPORTING LIBRARIES</a></p>\n",
    "\n",
    "<p style=\"font-family: Arials; font-size: 16px; font-style: normal; font-weight: bold; letter-spacing: 2px; color: #808080; line-height:1.3\"><a href=\"#part3\" style=\"color:#808080\">2 DATA WRANGLING</a></p>\n",
    "\n",
    "<p style=\"text-indent: 1vw; font-family: Arials; font-size: 14px; font-style: normal; font-weight: bold; letter-spacing: 2px; color: #808080; line-height:1.3\">\n",
    "<a href=\"#part4\" style=\"color:#808080\">2.1 Data types</a></p>\n",
    "\n",
    "<p style=\"text-indent: 1vw; font-family: Arials; font-size: 14px; font-style: normal; font-weight: bold; letter-spacing: 2px; color: #808080; line-height:1.3\">\n",
    "<a href=\"#part5\" style=\"color:#808080\">2.2 Missing values</a></p>\n",
    "\n",
    "<p style=\"text-indent: 1vw; font-family: Arials; font-size: 14px; font-style: normal; font-weight: bold; letter-spacing: 2px; color: #808080; line-height:1.3\">\n",
    "<a href=\"#part6\" style=\"color:#808080\">2.3 Duplicates</a></p>\n",
    "\n",
    "<p style=\"text-indent: 1vw; font-family: Arials; font-size: 14px; font-style: normal; font-weight: bold; letter-spacing: 2px; color: #808080; line-height:1.3\">\n",
    "<a href=\"#part7\" style=\"color:#808080\">2.4 Data processing and Answer questions</a></p>\n",
    "\n",
    "<p style=\"font-family: Arials; font-size: 16px; font-style: normal; font-weight: bold; letter-spacing: 2px; color: #808080; line-height:1.3\"><a href=\"#part9\" style=\"color:#808080\">3 TESTING HYPOTHESES</a></p>\n",
    "\n",
    "<p style=\"font-family: Arials; font-size: 16px; font-style: normal; font-weight: bold; letter-spacing: 2px; color: #808080; line-height:1.3\"><a href=\"#part10\" style=\"color:#808080\">4 FINAL CONCLUSIONS</a></p>\n"
   ]
  },
  {
   "cell_type": "markdown",
   "metadata": {},
   "source": [
    "<p id=\"part1\"></p>\n",
    "<p style=\"font-family: Arials; font-size: 16px; font-style: bold; font-weight: bold; letter-spacing: 3px; color: #FF8C00\">0 PROLOGUE</p>\n",
    "<hr style=\"height: 0.5px; border: 0; background-color: #808080\">\n",
    "<h4 style=\"font-family: Arials; font-size: 16px; font-style: bold; font-weight: bold; letter-spacing: 3px; color: #FF8C00\">Context</h4>\n",
    "\n",
    "<p style=\"font-family: Arials, sans-serif; font-size: 14px; line-height:1.0; color: rgba(0,0,0,.7)\">\n",
    "The growth of supermarkets in most populated cities are increasing and market competitions are also high. The dataset is one of the historical sales of supermarket company which has recorded in 3 different branches for 3 months data.\n",
    "</p>\n",
    "<h4>Attribute information</h4>\n",
    "<table>\n",
    "  <tr>\n",
    "    <th>Header</th>\n",
    "    <th>Defenition</th>\n",
    "  </tr>\n",
    "  <tr>\n",
    "    <td>Invoice id</td>\n",
    "    <td>Computer generated sales slip invoice identification number</td>\n",
    "  </tr>\n",
    "  <tr>\n",
    "    <td>Branch</td>\n",
    "    <td>Branch of supercenter (3 branches are available identified by A, B and C).</td>\n",
    "  </tr>\n",
    "    <tr>\n",
    "    <td>City</td>\n",
    "    <td>Location of supercenters.</td>\n",
    "  </tr>\n",
    "  <tr>\n",
    "    <td>Gender</td>\n",
    "    <td>Gender type of customer.</td>\n",
    "  </tr>\n",
    "  <tr>\n",
    "    <td>Product line</td>\n",
    "    <td>General item categorization groups - Electronic accessories, Fashion accessories, Food and beverages, Health and beauty, Home and lifestyle, Sports and travel.</td>\n",
    "  </tr>\n",
    "     <tr>\n",
    "    <td>Unit price</td>\n",
    "    <td>Price of each product in $.</td>\n",
    "  </tr>\n",
    "       <tr>\n",
    "    <td>Quantity</td>\n",
    "    <td>Number of products purchased by customer.</td>\n",
    "  </tr>\n",
    "      <tr>\n",
    "    <td>Tax</td>\n",
    "    <td>5% tax fee for customer buying.</td>\n",
    "  </tr>\n",
    "     <tr>\n",
    "    <td>Total</td>\n",
    "    <td>Total price including tax.</td>\n",
    "  </tr>\n",
    "     <tr>\n",
    "    <td>Date</td>\n",
    "    <td>Date of purchase (Record available from January 2019 to March 2019).</td>\n",
    "  </tr>\n",
    "     <tr>\n",
    "    <td>Time</td>\n",
    "    <td>Purchase time (10am to 9pm).</td>\n",
    "  </tr>\n",
    "    </tr>\n",
    "     <tr>\n",
    "    <td>Payment</td>\n",
    "    <td>Payment used by customer for purchase (3 methods are available – Cash, Credit card and Ewallet).</td>\n",
    "  </tr>\n",
    "    </tr>\n",
    "     <tr>\n",
    "    <td>COGS</td>\n",
    "    <td>Cost of goods sold.</td>\n",
    "  </tr>\n",
    "      <tr>\n",
    "    <td>Gross margin percentage</td>\n",
    "    <td>Gross margin percentage.</td>\n",
    "  </tr>\n",
    "      <tr>\n",
    "    <td>Gross income</td>\n",
    "    <td>Gross income.</td>\n",
    "  </tr>\n",
    "       <tr>\n",
    "    <td>Rating</td>\n",
    "    <td>Customer stratification rating on their overall shopping experience (On a scale of 1 to 10).</td>\n",
    "  </tr>\n",
    "</table>\n",
    "\n"
   ]
  },
  {
   "cell_type": "markdown",
   "metadata": {},
   "source": [
    "<p id=\"part2\"></p>\n",
    "<span style=\"font-family: Arials; font-size: 16px; font-style: normal; font-weight: bold; letter-spacing: 3px; color: #FF8C00\">1 IMPORTING LIBRARIES</span>\n",
    "<hr style=\"height: 0.5px; border: 0; background-color: #808080\">\n",
    "<p style=\"font-family: Arials, sans-serif; font-size: 14px; line-height:1.0; color: rgba(0,0,0,.7)\"><strong>LIBRARIES:</strong></p>\n",
    "\n",
    "<ol style=\"font-family: Arials, sans-serif; font-size: 14px; line-height:1.5; color: rgba(0,0,0,.7)\">\n",
    "<li>Library <strong>pandas</strong> required for doing data analysis.</li>\n",
    "<p></p>\n",
    "<li>Library <strong>numpy</strong> required to work with fundamental mathematical calculation.</li>\n",
    "<p></p>    \n",
    "<li>Library <strong>matplotlib, plotly</strong> required for data visualization.</li>\n",
    "<p></p>\n",
    "<li>Library <strong>scipy</strong> required in hypothesis testing.</li>\n",
    "<p></p>\n",
    "<p></p>\n",
    "<li>Library <strong>wordcloud</strong> required for word visualisation.</li>\n",
    "<p></p>\n",
    "</ol>\n"
   ]
  },
  {
   "cell_type": "markdown",
   "metadata": {},
   "source": []
  },
  {
   "cell_type": "code",
   "execution_count": 33,
   "metadata": {},
   "outputs": [],
   "source": [
    "# Import all libraries\n",
    "import pandas as pd\n",
    "import numpy as np\n",
    "import matplotlib.pyplot as plt\n",
    "import scipy.stats as stats\n",
    "from wordcloud import WordCloud, STOPWORDS\n"
   ]
  },
  {
   "cell_type": "markdown",
   "metadata": {},
   "source": [
    "<p id=\"part3\"></p>\n",
    "\n",
    "# <span style=\"font-family: Arials; font-size: 16px; font-style: normal; font-weight: bold; letter-spacing: 3px; color: #FF8C00\">2 DATA WRANGLING</span>\n",
    "\n",
    "<hr style=\"height: 0.5px; border: 0; background-color: #808080\">\n"
   ]
  },
  {
   "cell_type": "markdown",
   "metadata": {},
   "source": [
    "<p id=\"part4\"></p>\n",
    "\n",
    "<p style=\"font-family: Arials; font-size: 16px; font-style: normal; font-weight: normal; letter-spacing: 3px; color: #FF8C00; line-height:1.0\">2.1 Data loading and Data types</p>\n",
    "<p style=\"font-family: Arials, sans-serif; font-size: 14px; line-height:1.0; color: rgba(0,0,0,.7)\">We have import all the libararies we need and now we are good to for. Now let's read our data first.</p>\n"
   ]
  },
  {
   "cell_type": "code",
   "execution_count": 34,
   "metadata": {},
   "outputs": [
    {
     "data": {
      "text/html": [
       "<div>\n",
       "<style scoped>\n",
       "    .dataframe tbody tr th:only-of-type {\n",
       "        vertical-align: middle;\n",
       "    }\n",
       "\n",
       "    .dataframe tbody tr th {\n",
       "        vertical-align: top;\n",
       "    }\n",
       "\n",
       "    .dataframe thead th {\n",
       "        text-align: right;\n",
       "    }\n",
       "</style>\n",
       "<table border=\"1\" class=\"dataframe\">\n",
       "  <thead>\n",
       "    <tr style=\"text-align: right;\">\n",
       "      <th></th>\n",
       "      <th>Invoice ID</th>\n",
       "      <th>Branch</th>\n",
       "      <th>City</th>\n",
       "      <th>Customer type</th>\n",
       "      <th>Gender</th>\n",
       "      <th>Product line</th>\n",
       "      <th>Unit price</th>\n",
       "      <th>Quantity</th>\n",
       "      <th>Tax 5%</th>\n",
       "      <th>Total</th>\n",
       "      <th>Date</th>\n",
       "      <th>Time</th>\n",
       "      <th>Payment</th>\n",
       "      <th>cogs</th>\n",
       "      <th>gross margin percentage</th>\n",
       "      <th>gross income</th>\n",
       "      <th>Rating</th>\n",
       "    </tr>\n",
       "  </thead>\n",
       "  <tbody>\n",
       "    <tr>\n",
       "      <th>0</th>\n",
       "      <td>750-67-8428</td>\n",
       "      <td>A</td>\n",
       "      <td>Yangon</td>\n",
       "      <td>Member</td>\n",
       "      <td>Female</td>\n",
       "      <td>Health and beauty</td>\n",
       "      <td>74.69</td>\n",
       "      <td>7</td>\n",
       "      <td>26.1415</td>\n",
       "      <td>548.9715</td>\n",
       "      <td>1/5/2019</td>\n",
       "      <td>13:08</td>\n",
       "      <td>Ewallet</td>\n",
       "      <td>522.83</td>\n",
       "      <td>4.761905</td>\n",
       "      <td>26.1415</td>\n",
       "      <td>9.1</td>\n",
       "    </tr>\n",
       "    <tr>\n",
       "      <th>1</th>\n",
       "      <td>226-31-3081</td>\n",
       "      <td>C</td>\n",
       "      <td>Naypyitaw</td>\n",
       "      <td>Normal</td>\n",
       "      <td>Female</td>\n",
       "      <td>Electronic accessories</td>\n",
       "      <td>15.28</td>\n",
       "      <td>5</td>\n",
       "      <td>3.8200</td>\n",
       "      <td>80.2200</td>\n",
       "      <td>3/8/2019</td>\n",
       "      <td>10:29</td>\n",
       "      <td>Cash</td>\n",
       "      <td>76.40</td>\n",
       "      <td>4.761905</td>\n",
       "      <td>3.8200</td>\n",
       "      <td>9.6</td>\n",
       "    </tr>\n",
       "    <tr>\n",
       "      <th>2</th>\n",
       "      <td>631-41-3108</td>\n",
       "      <td>A</td>\n",
       "      <td>Yangon</td>\n",
       "      <td>Normal</td>\n",
       "      <td>Male</td>\n",
       "      <td>Home and lifestyle</td>\n",
       "      <td>46.33</td>\n",
       "      <td>7</td>\n",
       "      <td>16.2155</td>\n",
       "      <td>340.5255</td>\n",
       "      <td>3/3/2019</td>\n",
       "      <td>13:23</td>\n",
       "      <td>Credit card</td>\n",
       "      <td>324.31</td>\n",
       "      <td>4.761905</td>\n",
       "      <td>16.2155</td>\n",
       "      <td>7.4</td>\n",
       "    </tr>\n",
       "    <tr>\n",
       "      <th>3</th>\n",
       "      <td>123-19-1176</td>\n",
       "      <td>A</td>\n",
       "      <td>Yangon</td>\n",
       "      <td>Member</td>\n",
       "      <td>Male</td>\n",
       "      <td>Health and beauty</td>\n",
       "      <td>58.22</td>\n",
       "      <td>8</td>\n",
       "      <td>23.2880</td>\n",
       "      <td>489.0480</td>\n",
       "      <td>1/27/2019</td>\n",
       "      <td>20:33</td>\n",
       "      <td>Ewallet</td>\n",
       "      <td>465.76</td>\n",
       "      <td>4.761905</td>\n",
       "      <td>23.2880</td>\n",
       "      <td>8.4</td>\n",
       "    </tr>\n",
       "    <tr>\n",
       "      <th>4</th>\n",
       "      <td>373-73-7910</td>\n",
       "      <td>A</td>\n",
       "      <td>Yangon</td>\n",
       "      <td>Normal</td>\n",
       "      <td>Male</td>\n",
       "      <td>Sports and travel</td>\n",
       "      <td>86.31</td>\n",
       "      <td>7</td>\n",
       "      <td>30.2085</td>\n",
       "      <td>634.3785</td>\n",
       "      <td>2/8/2019</td>\n",
       "      <td>10:37</td>\n",
       "      <td>Ewallet</td>\n",
       "      <td>604.17</td>\n",
       "      <td>4.761905</td>\n",
       "      <td>30.2085</td>\n",
       "      <td>5.3</td>\n",
       "    </tr>\n",
       "  </tbody>\n",
       "</table>\n",
       "</div>"
      ],
      "text/plain": [
       "    Invoice ID Branch       City Customer type  Gender  \\\n",
       "0  750-67-8428      A     Yangon        Member  Female   \n",
       "1  226-31-3081      C  Naypyitaw        Normal  Female   \n",
       "2  631-41-3108      A     Yangon        Normal    Male   \n",
       "3  123-19-1176      A     Yangon        Member    Male   \n",
       "4  373-73-7910      A     Yangon        Normal    Male   \n",
       "\n",
       "             Product line  Unit price  Quantity   Tax 5%     Total       Date  \\\n",
       "0       Health and beauty       74.69         7  26.1415  548.9715   1/5/2019   \n",
       "1  Electronic accessories       15.28         5   3.8200   80.2200   3/8/2019   \n",
       "2      Home and lifestyle       46.33         7  16.2155  340.5255   3/3/2019   \n",
       "3       Health and beauty       58.22         8  23.2880  489.0480  1/27/2019   \n",
       "4       Sports and travel       86.31         7  30.2085  634.3785   2/8/2019   \n",
       "\n",
       "    Time      Payment    cogs  gross margin percentage  gross income  Rating  \n",
       "0  13:08      Ewallet  522.83                 4.761905       26.1415     9.1  \n",
       "1  10:29         Cash   76.40                 4.761905        3.8200     9.6  \n",
       "2  13:23  Credit card  324.31                 4.761905       16.2155     7.4  \n",
       "3  20:33      Ewallet  465.76                 4.761905       23.2880     8.4  \n",
       "4  10:37      Ewallet  604.17                 4.761905       30.2085     5.3  "
      ]
     },
     "execution_count": 34,
     "metadata": {},
     "output_type": "execute_result"
    }
   ],
   "source": [
    "# Read data\n",
    "df = pd.read_csv(\n",
    "    '/Users/nurfiahidris/Desktop/DS-Hacktiv8/Hacktiv8-Assignment/PO/Milestone1/deploy/assets/supermarket_sales.csv')\n",
    "# Display first 5 lines\n",
    "df.head()\n"
   ]
  },
  {
   "cell_type": "code",
   "execution_count": 35,
   "metadata": {},
   "outputs": [
    {
     "name": "stdout",
     "output_type": "stream",
     "text": [
      "Data contains 1000 rows and 17 columns.\n"
     ]
    }
   ],
   "source": [
    "# Display the dimension of the data\n",
    "print(f'Data contains {df.shape[0]} rows and {df.shape[1]} columns.')"
   ]
  },
  {
   "cell_type": "markdown",
   "metadata": {},
   "source": [
    "<p style = \"font-family: Inter, sans-serif; font-size: 14px; color: rgba(0,0,0,.7)\">Firstly, let's change all the column name to be easier to access</p>"
   ]
  },
  {
   "cell_type": "code",
   "execution_count": 36,
   "metadata": {},
   "outputs": [
    {
     "data": {
      "text/html": [
       "<div>\n",
       "<style scoped>\n",
       "    .dataframe tbody tr th:only-of-type {\n",
       "        vertical-align: middle;\n",
       "    }\n",
       "\n",
       "    .dataframe tbody tr th {\n",
       "        vertical-align: top;\n",
       "    }\n",
       "\n",
       "    .dataframe thead th {\n",
       "        text-align: right;\n",
       "    }\n",
       "</style>\n",
       "<table border=\"1\" class=\"dataframe\">\n",
       "  <thead>\n",
       "    <tr style=\"text-align: right;\">\n",
       "      <th></th>\n",
       "      <th>invoice_id</th>\n",
       "      <th>branch</th>\n",
       "      <th>city</th>\n",
       "      <th>customer_type</th>\n",
       "      <th>gender</th>\n",
       "      <th>product_line</th>\n",
       "      <th>unit_price</th>\n",
       "      <th>quantity</th>\n",
       "      <th>tax_5%</th>\n",
       "      <th>total</th>\n",
       "      <th>date</th>\n",
       "      <th>time</th>\n",
       "      <th>payment</th>\n",
       "      <th>cogs</th>\n",
       "      <th>gross_margin_percentage</th>\n",
       "      <th>gross_income</th>\n",
       "      <th>rating</th>\n",
       "    </tr>\n",
       "  </thead>\n",
       "  <tbody>\n",
       "    <tr>\n",
       "      <th>995</th>\n",
       "      <td>233-67-5758</td>\n",
       "      <td>C</td>\n",
       "      <td>Naypyitaw</td>\n",
       "      <td>Normal</td>\n",
       "      <td>Male</td>\n",
       "      <td>Health and beauty</td>\n",
       "      <td>40.35</td>\n",
       "      <td>1</td>\n",
       "      <td>2.0175</td>\n",
       "      <td>42.3675</td>\n",
       "      <td>1/29/2019</td>\n",
       "      <td>13:46</td>\n",
       "      <td>Ewallet</td>\n",
       "      <td>40.35</td>\n",
       "      <td>4.761905</td>\n",
       "      <td>2.0175</td>\n",
       "      <td>6.2</td>\n",
       "    </tr>\n",
       "    <tr>\n",
       "      <th>996</th>\n",
       "      <td>303-96-2227</td>\n",
       "      <td>B</td>\n",
       "      <td>Mandalay</td>\n",
       "      <td>Normal</td>\n",
       "      <td>Female</td>\n",
       "      <td>Home and lifestyle</td>\n",
       "      <td>97.38</td>\n",
       "      <td>10</td>\n",
       "      <td>48.6900</td>\n",
       "      <td>1022.4900</td>\n",
       "      <td>3/2/2019</td>\n",
       "      <td>17:16</td>\n",
       "      <td>Ewallet</td>\n",
       "      <td>973.80</td>\n",
       "      <td>4.761905</td>\n",
       "      <td>48.6900</td>\n",
       "      <td>4.4</td>\n",
       "    </tr>\n",
       "    <tr>\n",
       "      <th>997</th>\n",
       "      <td>727-02-1313</td>\n",
       "      <td>A</td>\n",
       "      <td>Yangon</td>\n",
       "      <td>Member</td>\n",
       "      <td>Male</td>\n",
       "      <td>Food and beverages</td>\n",
       "      <td>31.84</td>\n",
       "      <td>1</td>\n",
       "      <td>1.5920</td>\n",
       "      <td>33.4320</td>\n",
       "      <td>2/9/2019</td>\n",
       "      <td>13:22</td>\n",
       "      <td>Cash</td>\n",
       "      <td>31.84</td>\n",
       "      <td>4.761905</td>\n",
       "      <td>1.5920</td>\n",
       "      <td>7.7</td>\n",
       "    </tr>\n",
       "    <tr>\n",
       "      <th>998</th>\n",
       "      <td>347-56-2442</td>\n",
       "      <td>A</td>\n",
       "      <td>Yangon</td>\n",
       "      <td>Normal</td>\n",
       "      <td>Male</td>\n",
       "      <td>Home and lifestyle</td>\n",
       "      <td>65.82</td>\n",
       "      <td>1</td>\n",
       "      <td>3.2910</td>\n",
       "      <td>69.1110</td>\n",
       "      <td>2/22/2019</td>\n",
       "      <td>15:33</td>\n",
       "      <td>Cash</td>\n",
       "      <td>65.82</td>\n",
       "      <td>4.761905</td>\n",
       "      <td>3.2910</td>\n",
       "      <td>4.1</td>\n",
       "    </tr>\n",
       "    <tr>\n",
       "      <th>999</th>\n",
       "      <td>849-09-3807</td>\n",
       "      <td>A</td>\n",
       "      <td>Yangon</td>\n",
       "      <td>Member</td>\n",
       "      <td>Female</td>\n",
       "      <td>Fashion accessories</td>\n",
       "      <td>88.34</td>\n",
       "      <td>7</td>\n",
       "      <td>30.9190</td>\n",
       "      <td>649.2990</td>\n",
       "      <td>2/18/2019</td>\n",
       "      <td>13:28</td>\n",
       "      <td>Cash</td>\n",
       "      <td>618.38</td>\n",
       "      <td>4.761905</td>\n",
       "      <td>30.9190</td>\n",
       "      <td>6.6</td>\n",
       "    </tr>\n",
       "  </tbody>\n",
       "</table>\n",
       "</div>"
      ],
      "text/plain": [
       "      invoice_id branch       city customer_type  gender         product_line  \\\n",
       "995  233-67-5758      C  Naypyitaw        Normal    Male    Health and beauty   \n",
       "996  303-96-2227      B   Mandalay        Normal  Female   Home and lifestyle   \n",
       "997  727-02-1313      A     Yangon        Member    Male   Food and beverages   \n",
       "998  347-56-2442      A     Yangon        Normal    Male   Home and lifestyle   \n",
       "999  849-09-3807      A     Yangon        Member  Female  Fashion accessories   \n",
       "\n",
       "     unit_price  quantity   tax_5%      total       date   time  payment  \\\n",
       "995       40.35         1   2.0175    42.3675  1/29/2019  13:46  Ewallet   \n",
       "996       97.38        10  48.6900  1022.4900   3/2/2019  17:16  Ewallet   \n",
       "997       31.84         1   1.5920    33.4320   2/9/2019  13:22     Cash   \n",
       "998       65.82         1   3.2910    69.1110  2/22/2019  15:33     Cash   \n",
       "999       88.34         7  30.9190   649.2990  2/18/2019  13:28     Cash   \n",
       "\n",
       "       cogs  gross_margin_percentage  gross_income  rating  \n",
       "995   40.35                 4.761905        2.0175     6.2  \n",
       "996  973.80                 4.761905       48.6900     4.4  \n",
       "997   31.84                 4.761905        1.5920     7.7  \n",
       "998   65.82                 4.761905        3.2910     4.1  \n",
       "999  618.38                 4.761905       30.9190     6.6  "
      ]
     },
     "execution_count": 36,
     "metadata": {},
     "output_type": "execute_result"
    }
   ],
   "source": [
    "# Rename all columns \n",
    "df.columns = map(str.lower, df.columns)\n",
    "df.columns = df.columns.str.replace(' ','_')\n",
    "df.tail()"
   ]
  },
  {
   "cell_type": "code",
   "execution_count": 37,
   "metadata": {},
   "outputs": [
    {
     "data": {
      "text/plain": [
       "invoice_id                  object\n",
       "branch                      object\n",
       "city                        object\n",
       "customer_type               object\n",
       "gender                      object\n",
       "product_line                object\n",
       "unit_price                 float64\n",
       "quantity                     int64\n",
       "tax_5%                     float64\n",
       "total                      float64\n",
       "date                        object\n",
       "time                        object\n",
       "payment                     object\n",
       "cogs                       float64\n",
       "gross_margin_percentage    float64\n",
       "gross_income               float64\n",
       "rating                     float64\n",
       "dtype: object"
      ]
     },
     "execution_count": 37,
     "metadata": {},
     "output_type": "execute_result"
    }
   ],
   "source": [
    "# Display data types\n",
    "df.dtypes\n"
   ]
  },
  {
   "cell_type": "code",
   "execution_count": 38,
   "metadata": {},
   "outputs": [
    {
     "data": {
      "text/html": [
       "<div>\n",
       "<style scoped>\n",
       "    .dataframe tbody tr th:only-of-type {\n",
       "        vertical-align: middle;\n",
       "    }\n",
       "\n",
       "    .dataframe tbody tr th {\n",
       "        vertical-align: top;\n",
       "    }\n",
       "\n",
       "    .dataframe thead th {\n",
       "        text-align: right;\n",
       "    }\n",
       "</style>\n",
       "<table border=\"1\" class=\"dataframe\">\n",
       "  <thead>\n",
       "    <tr style=\"text-align: right;\">\n",
       "      <th></th>\n",
       "      <th>index</th>\n",
       "      <th>unit_price</th>\n",
       "      <th>quantity</th>\n",
       "      <th>tax_5%</th>\n",
       "      <th>total</th>\n",
       "      <th>cogs</th>\n",
       "      <th>gross_margin_percentage</th>\n",
       "      <th>gross_income</th>\n",
       "      <th>rating</th>\n",
       "    </tr>\n",
       "  </thead>\n",
       "  <tbody>\n",
       "    <tr>\n",
       "      <th>0</th>\n",
       "      <td>count</td>\n",
       "      <td>1000.000000</td>\n",
       "      <td>1000.000000</td>\n",
       "      <td>1000.000000</td>\n",
       "      <td>1000.000000</td>\n",
       "      <td>1000.00000</td>\n",
       "      <td>1.000000e+03</td>\n",
       "      <td>1000.000000</td>\n",
       "      <td>1000.00000</td>\n",
       "    </tr>\n",
       "    <tr>\n",
       "      <th>1</th>\n",
       "      <td>mean</td>\n",
       "      <td>55.672130</td>\n",
       "      <td>5.510000</td>\n",
       "      <td>15.379369</td>\n",
       "      <td>322.966749</td>\n",
       "      <td>307.58738</td>\n",
       "      <td>4.761905e+00</td>\n",
       "      <td>15.379369</td>\n",
       "      <td>6.97270</td>\n",
       "    </tr>\n",
       "    <tr>\n",
       "      <th>2</th>\n",
       "      <td>std</td>\n",
       "      <td>26.494628</td>\n",
       "      <td>2.923431</td>\n",
       "      <td>11.708825</td>\n",
       "      <td>245.885335</td>\n",
       "      <td>234.17651</td>\n",
       "      <td>6.131498e-14</td>\n",
       "      <td>11.708825</td>\n",
       "      <td>1.71858</td>\n",
       "    </tr>\n",
       "    <tr>\n",
       "      <th>3</th>\n",
       "      <td>min</td>\n",
       "      <td>10.080000</td>\n",
       "      <td>1.000000</td>\n",
       "      <td>0.508500</td>\n",
       "      <td>10.678500</td>\n",
       "      <td>10.17000</td>\n",
       "      <td>4.761905e+00</td>\n",
       "      <td>0.508500</td>\n",
       "      <td>4.00000</td>\n",
       "    </tr>\n",
       "    <tr>\n",
       "      <th>4</th>\n",
       "      <td>25%</td>\n",
       "      <td>32.875000</td>\n",
       "      <td>3.000000</td>\n",
       "      <td>5.924875</td>\n",
       "      <td>124.422375</td>\n",
       "      <td>118.49750</td>\n",
       "      <td>4.761905e+00</td>\n",
       "      <td>5.924875</td>\n",
       "      <td>5.50000</td>\n",
       "    </tr>\n",
       "    <tr>\n",
       "      <th>5</th>\n",
       "      <td>50%</td>\n",
       "      <td>55.230000</td>\n",
       "      <td>5.000000</td>\n",
       "      <td>12.088000</td>\n",
       "      <td>253.848000</td>\n",
       "      <td>241.76000</td>\n",
       "      <td>4.761905e+00</td>\n",
       "      <td>12.088000</td>\n",
       "      <td>7.00000</td>\n",
       "    </tr>\n",
       "    <tr>\n",
       "      <th>6</th>\n",
       "      <td>75%</td>\n",
       "      <td>77.935000</td>\n",
       "      <td>8.000000</td>\n",
       "      <td>22.445250</td>\n",
       "      <td>471.350250</td>\n",
       "      <td>448.90500</td>\n",
       "      <td>4.761905e+00</td>\n",
       "      <td>22.445250</td>\n",
       "      <td>8.50000</td>\n",
       "    </tr>\n",
       "    <tr>\n",
       "      <th>7</th>\n",
       "      <td>max</td>\n",
       "      <td>99.960000</td>\n",
       "      <td>10.000000</td>\n",
       "      <td>49.650000</td>\n",
       "      <td>1042.650000</td>\n",
       "      <td>993.00000</td>\n",
       "      <td>4.761905e+00</td>\n",
       "      <td>49.650000</td>\n",
       "      <td>10.00000</td>\n",
       "    </tr>\n",
       "  </tbody>\n",
       "</table>\n",
       "</div>"
      ],
      "text/plain": [
       "   index   unit_price     quantity       tax_5%        total        cogs  \\\n",
       "0  count  1000.000000  1000.000000  1000.000000  1000.000000  1000.00000   \n",
       "1   mean    55.672130     5.510000    15.379369   322.966749   307.58738   \n",
       "2    std    26.494628     2.923431    11.708825   245.885335   234.17651   \n",
       "3    min    10.080000     1.000000     0.508500    10.678500    10.17000   \n",
       "4    25%    32.875000     3.000000     5.924875   124.422375   118.49750   \n",
       "5    50%    55.230000     5.000000    12.088000   253.848000   241.76000   \n",
       "6    75%    77.935000     8.000000    22.445250   471.350250   448.90500   \n",
       "7    max    99.960000    10.000000    49.650000  1042.650000   993.00000   \n",
       "\n",
       "   gross_margin_percentage  gross_income      rating  \n",
       "0             1.000000e+03   1000.000000  1000.00000  \n",
       "1             4.761905e+00     15.379369     6.97270  \n",
       "2             6.131498e-14     11.708825     1.71858  \n",
       "3             4.761905e+00      0.508500     4.00000  \n",
       "4             4.761905e+00      5.924875     5.50000  \n",
       "5             4.761905e+00     12.088000     7.00000  \n",
       "6             4.761905e+00     22.445250     8.50000  \n",
       "7             4.761905e+00     49.650000    10.00000  "
      ]
     },
     "execution_count": 38,
     "metadata": {},
     "output_type": "execute_result"
    }
   ],
   "source": [
    "pd.DataFrame(df.describe()).reset_index()"
   ]
  },
  {
   "cell_type": "markdown",
   "metadata": {},
   "source": [
    "<p style=\"font-family: Arials, sans-serif; font-size: 14px; line-height:1.0; color: rgba(0,0,0,.7)\">Data contains 9 categorical columns and 8 columns contains numerical values. Now, let's change the date column to date type</p>"
   ]
  },
  {
   "cell_type": "code",
   "execution_count": 39,
   "metadata": {},
   "outputs": [
    {
     "data": {
      "text/html": [
       "<div>\n",
       "<style scoped>\n",
       "    .dataframe tbody tr th:only-of-type {\n",
       "        vertical-align: middle;\n",
       "    }\n",
       "\n",
       "    .dataframe tbody tr th {\n",
       "        vertical-align: top;\n",
       "    }\n",
       "\n",
       "    .dataframe thead th {\n",
       "        text-align: right;\n",
       "    }\n",
       "</style>\n",
       "<table border=\"1\" class=\"dataframe\">\n",
       "  <thead>\n",
       "    <tr style=\"text-align: right;\">\n",
       "      <th></th>\n",
       "      <th>invoice_id</th>\n",
       "      <th>branch</th>\n",
       "      <th>city</th>\n",
       "      <th>customer_type</th>\n",
       "      <th>gender</th>\n",
       "      <th>product_line</th>\n",
       "      <th>unit_price</th>\n",
       "      <th>quantity</th>\n",
       "      <th>tax_5%</th>\n",
       "      <th>total</th>\n",
       "      <th>date</th>\n",
       "      <th>time</th>\n",
       "      <th>payment</th>\n",
       "      <th>cogs</th>\n",
       "      <th>gross_margin_percentage</th>\n",
       "      <th>gross_income</th>\n",
       "      <th>rating</th>\n",
       "    </tr>\n",
       "  </thead>\n",
       "  <tbody>\n",
       "    <tr>\n",
       "      <th>856</th>\n",
       "      <td>770-42-8960</td>\n",
       "      <td>B</td>\n",
       "      <td>Mandalay</td>\n",
       "      <td>Normal</td>\n",
       "      <td>Male</td>\n",
       "      <td>Food and beverages</td>\n",
       "      <td>21.12</td>\n",
       "      <td>8</td>\n",
       "      <td>8.448</td>\n",
       "      <td>177.408</td>\n",
       "      <td>2019-01-01</td>\n",
       "      <td>19:31</td>\n",
       "      <td>Cash</td>\n",
       "      <td>168.96</td>\n",
       "      <td>4.761905</td>\n",
       "      <td>8.448</td>\n",
       "      <td>6.3</td>\n",
       "    </tr>\n",
       "    <tr>\n",
       "      <th>567</th>\n",
       "      <td>651-88-7328</td>\n",
       "      <td>A</td>\n",
       "      <td>Yangon</td>\n",
       "      <td>Normal</td>\n",
       "      <td>Female</td>\n",
       "      <td>Fashion accessories</td>\n",
       "      <td>65.74</td>\n",
       "      <td>9</td>\n",
       "      <td>29.583</td>\n",
       "      <td>621.243</td>\n",
       "      <td>2019-01-01</td>\n",
       "      <td>13:55</td>\n",
       "      <td>Cash</td>\n",
       "      <td>591.66</td>\n",
       "      <td>4.761905</td>\n",
       "      <td>29.583</td>\n",
       "      <td>7.7</td>\n",
       "    </tr>\n",
       "    <tr>\n",
       "      <th>245</th>\n",
       "      <td>530-90-9855</td>\n",
       "      <td>A</td>\n",
       "      <td>Yangon</td>\n",
       "      <td>Member</td>\n",
       "      <td>Male</td>\n",
       "      <td>Home and lifestyle</td>\n",
       "      <td>47.59</td>\n",
       "      <td>8</td>\n",
       "      <td>19.036</td>\n",
       "      <td>399.756</td>\n",
       "      <td>2019-01-01</td>\n",
       "      <td>14:47</td>\n",
       "      <td>Cash</td>\n",
       "      <td>380.72</td>\n",
       "      <td>4.761905</td>\n",
       "      <td>19.036</td>\n",
       "      <td>5.7</td>\n",
       "    </tr>\n",
       "    <tr>\n",
       "      <th>696</th>\n",
       "      <td>182-52-7000</td>\n",
       "      <td>A</td>\n",
       "      <td>Yangon</td>\n",
       "      <td>Member</td>\n",
       "      <td>Female</td>\n",
       "      <td>Sports and travel</td>\n",
       "      <td>27.04</td>\n",
       "      <td>4</td>\n",
       "      <td>5.408</td>\n",
       "      <td>113.568</td>\n",
       "      <td>2019-01-01</td>\n",
       "      <td>20:26</td>\n",
       "      <td>Ewallet</td>\n",
       "      <td>108.16</td>\n",
       "      <td>4.761905</td>\n",
       "      <td>5.408</td>\n",
       "      <td>6.9</td>\n",
       "    </tr>\n",
       "    <tr>\n",
       "      <th>523</th>\n",
       "      <td>133-14-7229</td>\n",
       "      <td>C</td>\n",
       "      <td>Naypyitaw</td>\n",
       "      <td>Normal</td>\n",
       "      <td>Male</td>\n",
       "      <td>Health and beauty</td>\n",
       "      <td>62.87</td>\n",
       "      <td>2</td>\n",
       "      <td>6.287</td>\n",
       "      <td>132.027</td>\n",
       "      <td>2019-01-01</td>\n",
       "      <td>11:43</td>\n",
       "      <td>Cash</td>\n",
       "      <td>125.74</td>\n",
       "      <td>4.761905</td>\n",
       "      <td>6.287</td>\n",
       "      <td>5.0</td>\n",
       "    </tr>\n",
       "  </tbody>\n",
       "</table>\n",
       "</div>"
      ],
      "text/plain": [
       "      invoice_id branch       city customer_type  gender         product_line  \\\n",
       "856  770-42-8960      B   Mandalay        Normal    Male   Food and beverages   \n",
       "567  651-88-7328      A     Yangon        Normal  Female  Fashion accessories   \n",
       "245  530-90-9855      A     Yangon        Member    Male   Home and lifestyle   \n",
       "696  182-52-7000      A     Yangon        Member  Female    Sports and travel   \n",
       "523  133-14-7229      C  Naypyitaw        Normal    Male    Health and beauty   \n",
       "\n",
       "     unit_price  quantity  tax_5%    total       date   time  payment    cogs  \\\n",
       "856       21.12         8   8.448  177.408 2019-01-01  19:31     Cash  168.96   \n",
       "567       65.74         9  29.583  621.243 2019-01-01  13:55     Cash  591.66   \n",
       "245       47.59         8  19.036  399.756 2019-01-01  14:47     Cash  380.72   \n",
       "696       27.04         4   5.408  113.568 2019-01-01  20:26  Ewallet  108.16   \n",
       "523       62.87         2   6.287  132.027 2019-01-01  11:43     Cash  125.74   \n",
       "\n",
       "     gross_margin_percentage  gross_income  rating  \n",
       "856                 4.761905         8.448     6.3  \n",
       "567                 4.761905        29.583     7.7  \n",
       "245                 4.761905        19.036     5.7  \n",
       "696                 4.761905         5.408     6.9  \n",
       "523                 4.761905         6.287     5.0  "
      ]
     },
     "execution_count": 39,
     "metadata": {},
     "output_type": "execute_result"
    }
   ],
   "source": [
    "# Change the date column type to datetype\n",
    "df.date = pd.to_datetime(df.date)\n",
    "df.sort_values(by='date',inplace=True, ascending=True)\n",
    "df.head(5)"
   ]
  },
  {
   "cell_type": "markdown",
   "metadata": {},
   "source": [
    "<p id=\"part5\"></p>\n",
    "\n",
    "<p style=\"font-family: Arials; font-size: 16px; font-style: normal; font-weight: normal; letter-spacing: 3px; color: #FF8C00; line-height:1.0\">2.2 Missing values</p>"
   ]
  },
  {
   "cell_type": "markdown",
   "metadata": {},
   "source": [
    "<p style=\"font-family: Arials, sans-serif; font-size: 14px; line-height:1.0; color: rgba(0,0,0,.7)\">In this section, we are goin to check missing points all over rows and column, if missing value exist we need to either drop the column or the row or fill it with other eligible values.</p>"
   ]
  },
  {
   "cell_type": "code",
   "execution_count": 40,
   "metadata": {},
   "outputs": [
    {
     "name": "stdout",
     "output_type": "stream",
     "text": [
      "invoice_id - 0.0%\n",
      "branch - 0.0%\n",
      "city - 0.0%\n",
      "customer_type - 0.0%\n",
      "gender - 0.0%\n",
      "product_line - 0.0%\n",
      "unit_price - 0.0%\n",
      "quantity - 0.0%\n",
      "tax_5% - 0.0%\n",
      "total - 0.0%\n",
      "date - 0.0%\n",
      "time - 0.0%\n",
      "payment - 0.0%\n",
      "cogs - 0.0%\n",
      "gross_margin_percentage - 0.0%\n",
      "gross_income - 0.0%\n",
      "rating - 0.0%\n"
     ]
    }
   ],
   "source": [
    "#  Lets's loop through the columns and check the missing values in percentage\n",
    "for col in df.columns:\n",
    "    missing = df[col].isnull().sum()\n",
    "    print(f'{col} - {missing/df[col].count()}%')"
   ]
  },
  {
   "cell_type": "markdown",
   "metadata": {},
   "source": [
    "<p style = \"font-family: Inter, sans-serif; font-size: 14px; color: rgba(0,0,0,.7)\">From the table above we can see that there is no missing points on dataset, so no further transformation needed.</p>"
   ]
  },
  {
   "cell_type": "markdown",
   "metadata": {},
   "source": [
    "<p id=\"part6\"></p>\n",
    "\n",
    "<p style=\"font-family: Arials; font-size: 16px; font-style: normal; font-weight: normal; letter-spacing: 3px; color: #FF8C00; line-height:1.0\">2.3 Duplicates</p>\n"
   ]
  },
  {
   "cell_type": "markdown",
   "metadata": {},
   "source": [
    "<p style = \"font-family: Inter, sans-serif; font-size: 14px; color: rgba(0,0,0,.7)\">In this case we just need to check the duplicate value exist in invoice_id column or not, no need to find the duplicate value on the others column.</p>"
   ]
  },
  {
   "cell_type": "code",
   "execution_count": 41,
   "metadata": {},
   "outputs": [
    {
     "data": {
      "text/html": [
       "<div>\n",
       "<style scoped>\n",
       "    .dataframe tbody tr th:only-of-type {\n",
       "        vertical-align: middle;\n",
       "    }\n",
       "\n",
       "    .dataframe tbody tr th {\n",
       "        vertical-align: top;\n",
       "    }\n",
       "\n",
       "    .dataframe thead th {\n",
       "        text-align: right;\n",
       "    }\n",
       "</style>\n",
       "<table border=\"1\" class=\"dataframe\">\n",
       "  <thead>\n",
       "    <tr style=\"text-align: right;\">\n",
       "      <th></th>\n",
       "      <th>invoice_id</th>\n",
       "      <th>branch</th>\n",
       "      <th>city</th>\n",
       "      <th>customer_type</th>\n",
       "      <th>gender</th>\n",
       "      <th>product_line</th>\n",
       "      <th>unit_price</th>\n",
       "      <th>quantity</th>\n",
       "      <th>tax_5%</th>\n",
       "      <th>total</th>\n",
       "      <th>date</th>\n",
       "      <th>time</th>\n",
       "      <th>payment</th>\n",
       "      <th>cogs</th>\n",
       "      <th>gross_margin_percentage</th>\n",
       "      <th>gross_income</th>\n",
       "      <th>rating</th>\n",
       "    </tr>\n",
       "  </thead>\n",
       "  <tbody>\n",
       "  </tbody>\n",
       "</table>\n",
       "</div>"
      ],
      "text/plain": [
       "Empty DataFrame\n",
       "Columns: [invoice_id, branch, city, customer_type, gender, product_line, unit_price, quantity, tax_5%, total, date, time, payment, cogs, gross_margin_percentage, gross_income, rating]\n",
       "Index: []"
      ]
     },
     "execution_count": 41,
     "metadata": {},
     "output_type": "execute_result"
    }
   ],
   "source": [
    "#Let's see the duplicates in the invoice_id column\n",
    "df[df[['invoice_id']].duplicated() == True]"
   ]
  },
  {
   "cell_type": "markdown",
   "metadata": {},
   "source": [
    "<p style = \"font-family: Inter, sans-serif; font-size: 14px; color: rgba(0,0,0,.7)\">No duplicate value found on invoice_id, means no duplicate date on dataset.</p>"
   ]
  },
  {
   "cell_type": "markdown",
   "metadata": {},
   "source": [
    "<p id=\"part7\"></p>\n",
    "\n",
    "<p style=\"font-family: Arials; font-size: 16px; font-style: normal; font-weight: normal; letter-spacing: 3px; color: #FF8C00; line-height:1.0\">2.4 Data processing and Answer questions</p>\n",
    "<p style=\"font-family: Arials, sans-serif; font-size: 14px; color: rgba(0,0,0,.7)\">In this section, we will answer the questions we have below:</p>\n",
    "<ol style=\"font-family: Arials, sans-serif; font-size: 14px; line-height:1.5; color: rgba(0,0,0,.7)\">\n",
    "<li>Which branch has the most sale.</li>\n",
    "<p></p>\n",
    "<li>Which gender make purchases more often.</li>\n",
    "<p></p>\n",
    "<li>What is the average total sale per month.</li>\n",
    "<p></p>\n",
    "<li>Which product line receive the highest rating.</li>\n",
    "<p></p>\n",
    "<li>Which product line receive the highest rating.</li>\n",
    "<p></p>\n",
    "</ol>"
   ]
  },
  {
   "cell_type": "code",
   "execution_count": 42,
   "metadata": {},
   "outputs": [],
   "source": [
    "# Let's add one column named month \n",
    "df['month'] = df['date'].dt.month"
   ]
  },
  {
   "cell_type": "code",
   "execution_count": 43,
   "metadata": {},
   "outputs": [
    {
     "data": {
      "text/plain": [
       "Index(['invoice_id', 'branch', 'city', 'customer_type', 'gender',\n",
       "       'product_line', 'unit_price', 'quantity', 'tax_5%', 'total', 'date',\n",
       "       'time', 'payment', 'cogs', 'gross_margin_percentage', 'gross_income',\n",
       "       'rating', 'month'],\n",
       "      dtype='object')"
      ]
     },
     "execution_count": 43,
     "metadata": {},
     "output_type": "execute_result"
    }
   ],
   "source": [
    "df.columns"
   ]
  },
  {
   "cell_type": "code",
   "execution_count": 44,
   "metadata": {},
   "outputs": [],
   "source": [
    "# Save clean dataset\n",
    "df.to_csv(\"clean_dataset.csv\",index = False)"
   ]
  },
  {
   "cell_type": "code",
   "execution_count": 45,
   "metadata": {},
   "outputs": [],
   "source": [
    "# Set date as index\n",
    "df.set_index('date', inplace=True)\n",
    "# Remove the index name of date\n",
    "df.index.name = None"
   ]
  },
  {
   "cell_type": "code",
   "execution_count": 46,
   "metadata": {},
   "outputs": [
    {
     "data": {
      "text/html": [
       "<div>\n",
       "<style scoped>\n",
       "    .dataframe tbody tr th:only-of-type {\n",
       "        vertical-align: middle;\n",
       "    }\n",
       "\n",
       "    .dataframe tbody tr th {\n",
       "        vertical-align: top;\n",
       "    }\n",
       "\n",
       "    .dataframe thead th {\n",
       "        text-align: right;\n",
       "    }\n",
       "</style>\n",
       "<table border=\"1\" class=\"dataframe\">\n",
       "  <thead>\n",
       "    <tr style=\"text-align: right;\">\n",
       "      <th></th>\n",
       "      <th>invoice_id</th>\n",
       "      <th>branch</th>\n",
       "      <th>city</th>\n",
       "      <th>customer_type</th>\n",
       "      <th>gender</th>\n",
       "      <th>product_line</th>\n",
       "      <th>unit_price</th>\n",
       "      <th>quantity</th>\n",
       "      <th>tax_5%</th>\n",
       "      <th>total</th>\n",
       "      <th>time</th>\n",
       "      <th>payment</th>\n",
       "      <th>cogs</th>\n",
       "      <th>gross_margin_percentage</th>\n",
       "      <th>gross_income</th>\n",
       "      <th>rating</th>\n",
       "      <th>month</th>\n",
       "    </tr>\n",
       "  </thead>\n",
       "  <tbody>\n",
       "    <tr>\n",
       "      <th>2019-01-01</th>\n",
       "      <td>770-42-8960</td>\n",
       "      <td>B</td>\n",
       "      <td>Mandalay</td>\n",
       "      <td>Normal</td>\n",
       "      <td>Male</td>\n",
       "      <td>Food and beverages</td>\n",
       "      <td>21.12</td>\n",
       "      <td>8</td>\n",
       "      <td>8.448</td>\n",
       "      <td>177.408</td>\n",
       "      <td>19:31</td>\n",
       "      <td>Cash</td>\n",
       "      <td>168.96</td>\n",
       "      <td>4.761905</td>\n",
       "      <td>8.448</td>\n",
       "      <td>6.3</td>\n",
       "      <td>1</td>\n",
       "    </tr>\n",
       "    <tr>\n",
       "      <th>2019-01-01</th>\n",
       "      <td>651-88-7328</td>\n",
       "      <td>A</td>\n",
       "      <td>Yangon</td>\n",
       "      <td>Normal</td>\n",
       "      <td>Female</td>\n",
       "      <td>Fashion accessories</td>\n",
       "      <td>65.74</td>\n",
       "      <td>9</td>\n",
       "      <td>29.583</td>\n",
       "      <td>621.243</td>\n",
       "      <td>13:55</td>\n",
       "      <td>Cash</td>\n",
       "      <td>591.66</td>\n",
       "      <td>4.761905</td>\n",
       "      <td>29.583</td>\n",
       "      <td>7.7</td>\n",
       "      <td>1</td>\n",
       "    </tr>\n",
       "    <tr>\n",
       "      <th>2019-01-01</th>\n",
       "      <td>530-90-9855</td>\n",
       "      <td>A</td>\n",
       "      <td>Yangon</td>\n",
       "      <td>Member</td>\n",
       "      <td>Male</td>\n",
       "      <td>Home and lifestyle</td>\n",
       "      <td>47.59</td>\n",
       "      <td>8</td>\n",
       "      <td>19.036</td>\n",
       "      <td>399.756</td>\n",
       "      <td>14:47</td>\n",
       "      <td>Cash</td>\n",
       "      <td>380.72</td>\n",
       "      <td>4.761905</td>\n",
       "      <td>19.036</td>\n",
       "      <td>5.7</td>\n",
       "      <td>1</td>\n",
       "    </tr>\n",
       "    <tr>\n",
       "      <th>2019-01-01</th>\n",
       "      <td>182-52-7000</td>\n",
       "      <td>A</td>\n",
       "      <td>Yangon</td>\n",
       "      <td>Member</td>\n",
       "      <td>Female</td>\n",
       "      <td>Sports and travel</td>\n",
       "      <td>27.04</td>\n",
       "      <td>4</td>\n",
       "      <td>5.408</td>\n",
       "      <td>113.568</td>\n",
       "      <td>20:26</td>\n",
       "      <td>Ewallet</td>\n",
       "      <td>108.16</td>\n",
       "      <td>4.761905</td>\n",
       "      <td>5.408</td>\n",
       "      <td>6.9</td>\n",
       "      <td>1</td>\n",
       "    </tr>\n",
       "    <tr>\n",
       "      <th>2019-01-01</th>\n",
       "      <td>133-14-7229</td>\n",
       "      <td>C</td>\n",
       "      <td>Naypyitaw</td>\n",
       "      <td>Normal</td>\n",
       "      <td>Male</td>\n",
       "      <td>Health and beauty</td>\n",
       "      <td>62.87</td>\n",
       "      <td>2</td>\n",
       "      <td>6.287</td>\n",
       "      <td>132.027</td>\n",
       "      <td>11:43</td>\n",
       "      <td>Cash</td>\n",
       "      <td>125.74</td>\n",
       "      <td>4.761905</td>\n",
       "      <td>6.287</td>\n",
       "      <td>5.0</td>\n",
       "      <td>1</td>\n",
       "    </tr>\n",
       "    <tr>\n",
       "      <th>2019-01-01</th>\n",
       "      <td>416-17-9926</td>\n",
       "      <td>A</td>\n",
       "      <td>Yangon</td>\n",
       "      <td>Member</td>\n",
       "      <td>Female</td>\n",
       "      <td>Electronic accessories</td>\n",
       "      <td>74.22</td>\n",
       "      <td>10</td>\n",
       "      <td>37.110</td>\n",
       "      <td>779.310</td>\n",
       "      <td>14:42</td>\n",
       "      <td>Credit card</td>\n",
       "      <td>742.20</td>\n",
       "      <td>4.761905</td>\n",
       "      <td>37.110</td>\n",
       "      <td>4.3</td>\n",
       "      <td>1</td>\n",
       "    </tr>\n",
       "    <tr>\n",
       "      <th>2019-01-01</th>\n",
       "      <td>556-97-7101</td>\n",
       "      <td>C</td>\n",
       "      <td>Naypyitaw</td>\n",
       "      <td>Normal</td>\n",
       "      <td>Female</td>\n",
       "      <td>Electronic accessories</td>\n",
       "      <td>63.22</td>\n",
       "      <td>2</td>\n",
       "      <td>6.322</td>\n",
       "      <td>132.762</td>\n",
       "      <td>15:51</td>\n",
       "      <td>Cash</td>\n",
       "      <td>126.44</td>\n",
       "      <td>4.761905</td>\n",
       "      <td>6.322</td>\n",
       "      <td>8.5</td>\n",
       "      <td>1</td>\n",
       "    </tr>\n",
       "    <tr>\n",
       "      <th>2019-01-01</th>\n",
       "      <td>746-04-1077</td>\n",
       "      <td>B</td>\n",
       "      <td>Mandalay</td>\n",
       "      <td>Member</td>\n",
       "      <td>Female</td>\n",
       "      <td>Food and beverages</td>\n",
       "      <td>84.63</td>\n",
       "      <td>10</td>\n",
       "      <td>42.315</td>\n",
       "      <td>888.615</td>\n",
       "      <td>11:36</td>\n",
       "      <td>Credit card</td>\n",
       "      <td>846.30</td>\n",
       "      <td>4.761905</td>\n",
       "      <td>42.315</td>\n",
       "      <td>9.0</td>\n",
       "      <td>1</td>\n",
       "    </tr>\n",
       "    <tr>\n",
       "      <th>2019-01-01</th>\n",
       "      <td>493-65-6248</td>\n",
       "      <td>C</td>\n",
       "      <td>Naypyitaw</td>\n",
       "      <td>Member</td>\n",
       "      <td>Female</td>\n",
       "      <td>Sports and travel</td>\n",
       "      <td>36.98</td>\n",
       "      <td>10</td>\n",
       "      <td>18.490</td>\n",
       "      <td>388.290</td>\n",
       "      <td>19:48</td>\n",
       "      <td>Credit card</td>\n",
       "      <td>369.80</td>\n",
       "      <td>4.761905</td>\n",
       "      <td>18.490</td>\n",
       "      <td>7.0</td>\n",
       "      <td>1</td>\n",
       "    </tr>\n",
       "    <tr>\n",
       "      <th>2019-01-01</th>\n",
       "      <td>765-26-6951</td>\n",
       "      <td>A</td>\n",
       "      <td>Yangon</td>\n",
       "      <td>Normal</td>\n",
       "      <td>Male</td>\n",
       "      <td>Sports and travel</td>\n",
       "      <td>72.61</td>\n",
       "      <td>6</td>\n",
       "      <td>21.783</td>\n",
       "      <td>457.443</td>\n",
       "      <td>10:39</td>\n",
       "      <td>Credit card</td>\n",
       "      <td>435.66</td>\n",
       "      <td>4.761905</td>\n",
       "      <td>21.783</td>\n",
       "      <td>6.9</td>\n",
       "      <td>1</td>\n",
       "    </tr>\n",
       "  </tbody>\n",
       "</table>\n",
       "</div>"
      ],
      "text/plain": [
       "             invoice_id branch       city customer_type  gender  \\\n",
       "2019-01-01  770-42-8960      B   Mandalay        Normal    Male   \n",
       "2019-01-01  651-88-7328      A     Yangon        Normal  Female   \n",
       "2019-01-01  530-90-9855      A     Yangon        Member    Male   \n",
       "2019-01-01  182-52-7000      A     Yangon        Member  Female   \n",
       "2019-01-01  133-14-7229      C  Naypyitaw        Normal    Male   \n",
       "2019-01-01  416-17-9926      A     Yangon        Member  Female   \n",
       "2019-01-01  556-97-7101      C  Naypyitaw        Normal  Female   \n",
       "2019-01-01  746-04-1077      B   Mandalay        Member  Female   \n",
       "2019-01-01  493-65-6248      C  Naypyitaw        Member  Female   \n",
       "2019-01-01  765-26-6951      A     Yangon        Normal    Male   \n",
       "\n",
       "                      product_line  unit_price  quantity  tax_5%    total  \\\n",
       "2019-01-01      Food and beverages       21.12         8   8.448  177.408   \n",
       "2019-01-01     Fashion accessories       65.74         9  29.583  621.243   \n",
       "2019-01-01      Home and lifestyle       47.59         8  19.036  399.756   \n",
       "2019-01-01       Sports and travel       27.04         4   5.408  113.568   \n",
       "2019-01-01       Health and beauty       62.87         2   6.287  132.027   \n",
       "2019-01-01  Electronic accessories       74.22        10  37.110  779.310   \n",
       "2019-01-01  Electronic accessories       63.22         2   6.322  132.762   \n",
       "2019-01-01      Food and beverages       84.63        10  42.315  888.615   \n",
       "2019-01-01       Sports and travel       36.98        10  18.490  388.290   \n",
       "2019-01-01       Sports and travel       72.61         6  21.783  457.443   \n",
       "\n",
       "             time      payment    cogs  gross_margin_percentage  gross_income  \\\n",
       "2019-01-01  19:31         Cash  168.96                 4.761905         8.448   \n",
       "2019-01-01  13:55         Cash  591.66                 4.761905        29.583   \n",
       "2019-01-01  14:47         Cash  380.72                 4.761905        19.036   \n",
       "2019-01-01  20:26      Ewallet  108.16                 4.761905         5.408   \n",
       "2019-01-01  11:43         Cash  125.74                 4.761905         6.287   \n",
       "2019-01-01  14:42  Credit card  742.20                 4.761905        37.110   \n",
       "2019-01-01  15:51         Cash  126.44                 4.761905         6.322   \n",
       "2019-01-01  11:36  Credit card  846.30                 4.761905        42.315   \n",
       "2019-01-01  19:48  Credit card  369.80                 4.761905        18.490   \n",
       "2019-01-01  10:39  Credit card  435.66                 4.761905        21.783   \n",
       "\n",
       "            rating  month  \n",
       "2019-01-01     6.3      1  \n",
       "2019-01-01     7.7      1  \n",
       "2019-01-01     5.7      1  \n",
       "2019-01-01     6.9      1  \n",
       "2019-01-01     5.0      1  \n",
       "2019-01-01     4.3      1  \n",
       "2019-01-01     8.5      1  \n",
       "2019-01-01     9.0      1  \n",
       "2019-01-01     7.0      1  \n",
       "2019-01-01     6.9      1  "
      ]
     },
     "execution_count": 46,
     "metadata": {},
     "output_type": "execute_result"
    }
   ],
   "source": [
    "df.head(10)"
   ]
  },
  {
   "cell_type": "markdown",
   "metadata": {},
   "source": [
    "<p style=\"font-family: Arials; line-height: 1.5; font-size: 16px; font-weight: bold; letter-spacing: 2px; color: rgba(0,0,0,.7)\">1. Find branch that has most sale for 3 months long.</p>"
   ]
  },
  {
   "cell_type": "code",
   "execution_count": 47,
   "metadata": {},
   "outputs": [
    {
     "name": "stdout",
     "output_type": "stream",
     "text": [
      "A    340\n",
      "B    332\n",
      "C    328\n",
      "Name: branch, dtype: int64\n"
     ]
    },
    {
     "data": {
      "image/png": "[encoded data removed]",
      "image/svg+xml": "<?xml version=\"1.0\" encoding=\"utf-8\" standalone=\"no\"?>\n<!DOCTYPE svg PUBLIC \"-//W3C//DTD SVG 1.1//EN\"\n  \"http://www.w3.org/Graphics/SVG/1.1/DTD/svg11.dtd\">\n<svg height=\"231.84pt\" version=\"1.1\" viewBox=\"0 0 231.84 231.84\" width=\"231.84pt\" xmlns=\"http://www.w3.org/2000/svg\" xmlns:xlink=\"http://www.w3.org/1999/xlink\">\n <metadata>\n  <rdf:RDF xmlns:cc=\"http://creativecommons.org/ns#\" xmlns:dc=\"http://purl.org/dc/elements/1.1/\" xmlns:rdf=\"http://www.w3.org/1999/02/22-rdf-syntax-ns#\">\n   <cc:Work>\n    <dc:type rdf:resource=\"http://purl.org/dc/dcmitype/StillImage\"/>\n    <dc:date>2021-11-12T11:32:38.229456</dc:date>\n    <dc:format>image/svg+xml</dc:format>\n    <dc:creator>\n     <cc:Agent>\n      <dc:title>Matplotlib v3.4.3, https://matplotlib.org/</dc:title>\n     </cc:Agent>\n    </dc:creator>\n   </cc:Work>\n  </rdf:RDF>\n </metadata>\n <defs>\n  <style type=\"text/css\">*{stroke-linecap:butt;stroke-linejoin:round;}</style>\n </defs>\n <g id=\"figure_1\">\n  <g id=\"patch_1\">\n   <path d=\"M 0 231.84 \nL 231.84 231.84 \nL 231.84 0 \nL 0 0 \nz\n\"/>\n  </g>\n  <g id=\"axes_1\">\n   <g id=\"patch_2\">\n    <path d=\"M 201.15648 117.65952 \nC 201.15648 102.084326 196.972797 86.791357 189.044378 73.385133 \nC 181.115959 59.978909 169.730133 48.945276 156.081487 41.44187 \nC 142.43284 33.938463 127.016005 30.237209 111.448496 30.726437 \nC 95.880988 31.215666 80.726978 35.877649 67.576407 44.223255 \nL 114.18048 117.65952 \nL 201.15648 117.65952 \nz\n\" style=\"fill:#2a3f3c;opacity:0.5;stroke:#2a3f3c;stroke-linejoin:miter;\"/>\n   </g>\n   <g id=\"patch_3\">\n    <path d=\"M 67.576407 44.223255 \nC 54.738744 52.370284 44.259034 63.742958 37.186601 77.20254 \nC 30.114168 90.662122 26.693215 105.74387 27.266279 120.93766 \nC 27.839342 136.13145 32.386636 150.912659 40.452842 163.801258 \nC 48.519049 176.689857 59.825651 187.240817 73.24053 194.397679 \nL 114.18048 117.65952 \nL 67.576407 44.223255 \nz\n\" style=\"fill:#4c4c36;opacity:0.5;stroke:#4c4c36;stroke-linejoin:miter;\"/>\n   </g>\n   <g id=\"patch_4\">\n    <path d=\"M 73.24053 194.397679 \nC 86.492019 201.467373 101.35153 204.985491 116.366191 204.608052 \nC 131.380853 204.230614 146.044831 199.970335 158.924371 192.24376 \nC 171.803911 184.517185 182.46511 173.584616 189.865582 160.514974 \nC 197.266053 147.445333 201.15648 132.678925 201.15648 117.65952 \nL 114.18048 117.65952 \nL 73.24053 194.397679 \nz\n\" style=\"fill:#393841;opacity:0.5;stroke:#393841;stroke-linejoin:miter;\"/>\n   </g>\n   <g id=\"patch_5\">\n    <path d=\"M 202.896 115.92 \nC 202.896 100.344806 198.712317 85.051837 190.783898 71.645613 \nC 182.855479 58.239389 171.469653 47.205756 157.821007 39.70235 \nC 144.17236 32.198943 128.755525 28.497689 113.188016 28.986917 \nC 97.620508 29.476146 82.466498 34.138129 69.315927 42.483735 \nL 115.92 115.92 \nL 202.896 115.92 \nz\n\" style=\"fill:#8dd3c7;\"/>\n   </g>\n   <g id=\"patch_6\">\n    <path d=\"M 69.315927 42.483735 \nC 56.478264 50.630764 45.998554 62.003438 38.926121 75.46302 \nC 31.853688 88.922602 28.432735 104.00435 29.005799 119.19814 \nC 29.578862 134.39193 34.126156 149.173139 42.192362 162.061738 \nC 50.258569 174.950337 61.565171 185.501297 74.98005 192.658159 \nL 115.92 115.92 \nL 69.315927 42.483735 \nz\n\" style=\"fill:#feffb3;\"/>\n   </g>\n   <g id=\"patch_7\">\n    <path d=\"M 74.98005 192.658159 \nC 88.231539 199.727853 103.09105 203.245971 118.105711 202.868532 \nC 133.120373 202.491094 147.784351 198.230815 160.663891 190.50424 \nC 173.543431 182.777665 184.20463 171.845096 191.605102 158.775454 \nC 199.005573 145.705813 202.896 130.939405 202.896 115.92 \nL 115.92 115.92 \nL 74.98005 192.658159 \nz\n\" style=\"fill:#bfbbd9;\"/>\n   </g>\n   <g id=\"matplotlib.axis_1\"/>\n   <g id=\"matplotlib.axis_2\"/>\n   <g id=\"text_1\">\n    <!-- A -->\n    <g style=\"fill:#ffffff;\" transform=\"translate(162.011107 34.83996)scale(0.1 -0.1)\">\n     <defs>\n      <path d=\"M 2188 4044 \nL 1331 1722 \nL 3047 1722 \nL 2188 4044 \nz\nM 1831 4666 \nL 2547 4666 \nL 4325 0 \nL 3669 0 \nL 3244 1197 \nL 1141 1197 \nL 716 0 \nL 50 0 \nL 1831 4666 \nz\n\" id=\"DejaVuSans-41\" transform=\"scale(0.015625)\"/>\n     </defs>\n     <use xlink:href=\"#DejaVuSans-41\"/>\n    </g>\n   </g>\n   <g id=\"text_2\">\n    <!-- 34.0% -->\n    <g style=\"fill:#ffffff;\" transform=\"translate(125.17701 72.948785)scale(0.1 -0.1)\">\n     <defs>\n      <path d=\"M 2597 2516 \nQ 3050 2419 3304 2112 \nQ 3559 1806 3559 1356 \nQ 3559 666 3084 287 \nQ 2609 -91 1734 -91 \nQ 1441 -91 1130 -33 \nQ 819 25 488 141 \nL 488 750 \nQ 750 597 1062 519 \nQ 1375 441 1716 441 \nQ 2309 441 2620 675 \nQ 2931 909 2931 1356 \nQ 2931 1769 2642 2001 \nQ 2353 2234 1838 2234 \nL 1294 2234 \nL 1294 2753 \nL 1863 2753 \nQ 2328 2753 2575 2939 \nQ 2822 3125 2822 3475 \nQ 2822 3834 2567 4026 \nQ 2313 4219 1838 4219 \nQ 1578 4219 1281 4162 \nQ 984 4106 628 3988 \nL 628 4550 \nQ 988 4650 1302 4700 \nQ 1616 4750 1894 4750 \nQ 2613 4750 3031 4423 \nQ 3450 4097 3450 3541 \nQ 3450 3153 3228 2886 \nQ 3006 2619 2597 2516 \nz\n\" id=\"DejaVuSans-33\" transform=\"scale(0.015625)\"/>\n      <path d=\"M 2419 4116 \nL 825 1625 \nL 2419 1625 \nL 2419 4116 \nz\nM 2253 4666 \nL 3047 4666 \nL 3047 1625 \nL 3713 1625 \nL 3713 1100 \nL 3047 1100 \nL 3047 0 \nL 2419 0 \nL 2419 1100 \nL 313 1100 \nL 313 1709 \nL 2253 4666 \nz\n\" id=\"DejaVuSans-34\" transform=\"scale(0.015625)\"/>\n      <path d=\"M 684 794 \nL 1344 794 \nL 1344 0 \nL 684 0 \nL 684 794 \nz\n\" id=\"DejaVuSans-2e\" transform=\"scale(0.015625)\"/>\n      <path d=\"M 2034 4250 \nQ 1547 4250 1301 3770 \nQ 1056 3291 1056 2328 \nQ 1056 1369 1301 889 \nQ 1547 409 2034 409 \nQ 2525 409 2770 889 \nQ 3016 1369 3016 2328 \nQ 3016 3291 2770 3770 \nQ 2525 4250 2034 4250 \nz\nM 2034 4750 \nQ 2819 4750 3233 4129 \nQ 3647 3509 3647 2328 \nQ 3647 1150 3233 529 \nQ 2819 -91 2034 -91 \nQ 1250 -91 836 529 \nQ 422 1150 422 2328 \nQ 422 3509 836 4129 \nQ 1250 4750 2034 4750 \nz\n\" id=\"DejaVuSans-30\" transform=\"scale(0.015625)\"/>\n      <path d=\"M 4653 2053 \nQ 4381 2053 4226 1822 \nQ 4072 1591 4072 1178 \nQ 4072 772 4226 539 \nQ 4381 306 4653 306 \nQ 4919 306 5073 539 \nQ 5228 772 5228 1178 \nQ 5228 1588 5073 1820 \nQ 4919 2053 4653 2053 \nz\nM 4653 2450 \nQ 5147 2450 5437 2106 \nQ 5728 1763 5728 1178 \nQ 5728 594 5436 251 \nQ 5144 -91 4653 -91 \nQ 4153 -91 3862 251 \nQ 3572 594 3572 1178 \nQ 3572 1766 3864 2108 \nQ 4156 2450 4653 2450 \nz\nM 1428 4353 \nQ 1159 4353 1004 4120 \nQ 850 3888 850 3481 \nQ 850 3069 1003 2837 \nQ 1156 2606 1428 2606 \nQ 1700 2606 1854 2837 \nQ 2009 3069 2009 3481 \nQ 2009 3884 1853 4118 \nQ 1697 4353 1428 4353 \nz\nM 4250 4750 \nL 4750 4750 \nL 1831 -91 \nL 1331 -91 \nL 4250 4750 \nz\nM 1428 4750 \nQ 1922 4750 2215 4408 \nQ 2509 4066 2509 3481 \nQ 2509 2891 2217 2550 \nQ 1925 2209 1428 2209 \nQ 931 2209 642 2551 \nQ 353 2894 353 3481 \nQ 353 4063 643 4406 \nQ 934 4750 1428 4750 \nz\n\" id=\"DejaVuSans-25\" transform=\"scale(0.015625)\"/>\n     </defs>\n     <use xlink:href=\"#DejaVuSans-33\"/>\n     <use x=\"63.623047\" xlink:href=\"#DejaVuSans-34\"/>\n     <use x=\"127.246094\" xlink:href=\"#DejaVuSans-2e\"/>\n     <use x=\"159.033203\" xlink:href=\"#DejaVuSans-30\"/>\n     <use x=\"222.65625\" xlink:href=\"#DejaVuSans-25\"/>\n    </g>\n   </g>\n   <g id=\"text_3\">\n    <!-- B -->\n    <g style=\"fill:#ffffff;\" transform=\"translate(13.453441 122.285329)scale(0.1 -0.1)\">\n     <defs>\n      <path d=\"M 1259 2228 \nL 1259 519 \nL 2272 519 \nQ 2781 519 3026 730 \nQ 3272 941 3272 1375 \nQ 3272 1813 3026 2020 \nQ 2781 2228 2272 2228 \nL 1259 2228 \nz\nM 1259 4147 \nL 1259 2741 \nL 2194 2741 \nQ 2656 2741 2882 2914 \nQ 3109 3088 3109 3444 \nQ 3109 3797 2882 3972 \nQ 2656 4147 2194 4147 \nL 1259 4147 \nz\nM 628 4666 \nL 2241 4666 \nQ 2963 4666 3353 4366 \nQ 3744 4066 3744 3513 \nQ 3744 3084 3544 2831 \nQ 3344 2578 2956 2516 \nQ 3422 2416 3680 2098 \nQ 3938 1781 3938 1306 \nQ 3938 681 3513 340 \nQ 3088 0 2303 0 \nL 628 0 \nL 628 4666 \nz\n\" id=\"DejaVuSans-42\" transform=\"scale(0.015625)\"/>\n     </defs>\n     <use xlink:href=\"#DejaVuSans-42\"/>\n    </g>\n   </g>\n   <g id=\"text_4\">\n    <!-- 33.2% -->\n    <g style=\"fill:#ffffff;\" transform=\"translate(47.887886 120.646259)scale(0.1 -0.1)\">\n     <defs>\n      <path d=\"M 1228 531 \nL 3431 531 \nL 3431 0 \nL 469 0 \nL 469 531 \nQ 828 903 1448 1529 \nQ 2069 2156 2228 2338 \nQ 2531 2678 2651 2914 \nQ 2772 3150 2772 3378 \nQ 2772 3750 2511 3984 \nQ 2250 4219 1831 4219 \nQ 1534 4219 1204 4116 \nQ 875 4013 500 3803 \nL 500 4441 \nQ 881 4594 1212 4672 \nQ 1544 4750 1819 4750 \nQ 2544 4750 2975 4387 \nQ 3406 4025 3406 3419 \nQ 3406 3131 3298 2873 \nQ 3191 2616 2906 2266 \nQ 2828 2175 2409 1742 \nQ 1991 1309 1228 531 \nz\n\" id=\"DejaVuSans-32\" transform=\"scale(0.015625)\"/>\n     </defs>\n     <use xlink:href=\"#DejaVuSans-33\"/>\n     <use x=\"63.623047\" xlink:href=\"#DejaVuSans-33\"/>\n     <use x=\"127.246094\" xlink:href=\"#DejaVuSans-2e\"/>\n     <use x=\"159.033203\" xlink:href=\"#DejaVuSans-32\"/>\n     <use x=\"222.65625\" xlink:href=\"#DejaVuSans-25\"/>\n    </g>\n   </g>\n   <g id=\"text_5\">\n    <!-- C -->\n    <g style=\"fill:#ffffff;\" transform=\"translate(165.13828 200.722039)scale(0.1 -0.1)\">\n     <defs>\n      <path d=\"M 4122 4306 \nL 4122 3641 \nQ 3803 3938 3442 4084 \nQ 3081 4231 2675 4231 \nQ 1875 4231 1450 3742 \nQ 1025 3253 1025 2328 \nQ 1025 1406 1450 917 \nQ 1875 428 2675 428 \nQ 3081 428 3442 575 \nQ 3803 722 4122 1019 \nL 4122 359 \nQ 3791 134 3420 21 \nQ 3050 -91 2638 -91 \nQ 1578 -91 968 557 \nQ 359 1206 359 2328 \nQ 359 3453 968 4101 \nQ 1578 4750 2638 4750 \nQ 3056 4750 3426 4639 \nQ 3797 4528 4122 4306 \nz\n\" id=\"DejaVuSans-43\" transform=\"scale(0.015625)\"/>\n     </defs>\n     <use xlink:href=\"#DejaVuSans-43\"/>\n    </g>\n   </g>\n   <g id=\"text_6\">\n    <!-- 32.8% -->\n    <g style=\"fill:#ffffff;\" transform=\"translate(126.882741 163.429919)scale(0.1 -0.1)\">\n     <defs>\n      <path d=\"M 2034 2216 \nQ 1584 2216 1326 1975 \nQ 1069 1734 1069 1313 \nQ 1069 891 1326 650 \nQ 1584 409 2034 409 \nQ 2484 409 2743 651 \nQ 3003 894 3003 1313 \nQ 3003 1734 2745 1975 \nQ 2488 2216 2034 2216 \nz\nM 1403 2484 \nQ 997 2584 770 2862 \nQ 544 3141 544 3541 \nQ 544 4100 942 4425 \nQ 1341 4750 2034 4750 \nQ 2731 4750 3128 4425 \nQ 3525 4100 3525 3541 \nQ 3525 3141 3298 2862 \nQ 3072 2584 2669 2484 \nQ 3125 2378 3379 2068 \nQ 3634 1759 3634 1313 \nQ 3634 634 3220 271 \nQ 2806 -91 2034 -91 \nQ 1263 -91 848 271 \nQ 434 634 434 1313 \nQ 434 1759 690 2068 \nQ 947 2378 1403 2484 \nz\nM 1172 3481 \nQ 1172 3119 1398 2916 \nQ 1625 2713 2034 2713 \nQ 2441 2713 2670 2916 \nQ 2900 3119 2900 3481 \nQ 2900 3844 2670 4047 \nQ 2441 4250 2034 4250 \nQ 1625 4250 1398 4047 \nQ 1172 3844 1172 3481 \nz\n\" id=\"DejaVuSans-38\" transform=\"scale(0.015625)\"/>\n     </defs>\n     <use xlink:href=\"#DejaVuSans-33\"/>\n     <use x=\"63.623047\" xlink:href=\"#DejaVuSans-32\"/>\n     <use x=\"127.246094\" xlink:href=\"#DejaVuSans-2e\"/>\n     <use x=\"159.033203\" xlink:href=\"#DejaVuSans-38\"/>\n     <use x=\"222.65625\" xlink:href=\"#DejaVuSans-25\"/>\n    </g>\n   </g>\n  </g>\n </g>\n</svg>\n",
      "text/plain": [
       "<Figure size 432x288 with 1 Axes>"
      ]
     },
     "metadata": {},
     "output_type": "display_data"
    }
   ],
   "source": [
    "# Calculate the quantity of each branch\n",
    "branch = df.branch.value_counts().sort_values(ascending= False)\n",
    "name = list(df['branch'].unique())\n",
    "name.sort()\n",
    "pie_chart = plt.pie(branch,labels=name,autopct='%1.1f%%',shadow=True)\n",
    "print(branch)\n",
    "\n",
    "plt.show()"
   ]
  },
  {
   "cell_type": "markdown",
   "metadata": {},
   "source": [
    "<p style=\"font-family: Arials; line-height: 1.5; font-size: 16px; font-weight: bold; letter-spacing: 2px; color: rgba(0,0,0,.7)\">2. Gender make purchases more often</p>"
   ]
  },
  {
   "cell_type": "code",
   "execution_count": 48,
   "metadata": {},
   "outputs": [
    {
     "data": {
      "image/png": "[encoded data removed]",
      "image/svg+xml": "<?xml version=\"1.0\" encoding=\"utf-8\" standalone=\"no\"?>\n<!DOCTYPE svg PUBLIC \"-//W3C//DTD SVG 1.1//EN\"\n  \"http://www.w3.org/Graphics/SVG/1.1/DTD/svg11.dtd\">\n<svg height=\"263.63625pt\" version=\"1.1\" viewBox=\"0 0 388.965625 263.63625\" width=\"388.965625pt\" xmlns=\"http://www.w3.org/2000/svg\" xmlns:xlink=\"http://www.w3.org/1999/xlink\">\n <metadata>\n  <rdf:RDF xmlns:cc=\"http://creativecommons.org/ns#\" xmlns:dc=\"http://purl.org/dc/elements/1.1/\" xmlns:rdf=\"http://www.w3.org/1999/02/22-rdf-syntax-ns#\">\n   <cc:Work>\n    <dc:type rdf:resource=\"http://purl.org/dc/dcmitype/StillImage\"/>\n    <dc:date>2021-11-12T11:32:38.325982</dc:date>\n    <dc:format>image/svg+xml</dc:format>\n    <dc:creator>\n     <cc:Agent>\n      <dc:title>Matplotlib v3.4.3, https://matplotlib.org/</dc:title>\n     </cc:Agent>\n    </dc:creator>\n   </cc:Work>\n  </rdf:RDF>\n </metadata>\n <defs>\n  <style type=\"text/css\">*{stroke-linecap:butt;stroke-linejoin:round;}</style>\n </defs>\n <g id=\"figure_1\">\n  <g id=\"patch_1\">\n   <path d=\"M 0 263.63625 \nL 388.965625 263.63625 \nL 388.965625 0 \nL 0 0 \nz\n\"/>\n  </g>\n  <g id=\"axes_1\">\n   <g id=\"patch_2\">\n    <path d=\"M 46.965625 239.758125 \nL 381.765625 239.758125 \nL 381.765625 22.318125 \nL 46.965625 22.318125 \nz\n\"/>\n   </g>\n   <g id=\"patch_3\">\n    <path clip-path=\"url(#p8277fc859d)\" d=\"M 62.183807 239.758125 \nL 197.456534 239.758125 \nL 197.456534 32.672411 \nL 62.183807 32.672411 \nz\n\" style=\"fill:#008000;opacity:0.5;stroke:#008000;stroke-linejoin:miter;\"/>\n   </g>\n   <g id=\"patch_4\">\n    <path clip-path=\"url(#p8277fc859d)\" d=\"M 231.274716 239.758125 \nL 366.547443 239.758125 \nL 366.547443 33.4991 \nL 231.274716 33.4991 \nz\n\" style=\"fill:#ff0000;opacity:0.5;stroke:#ff0000;stroke-linejoin:miter;\"/>\n   </g>\n   <g id=\"matplotlib.axis_1\">\n    <g id=\"xtick_1\">\n     <g id=\"line2d_1\">\n      <defs>\n       <path d=\"M 0 0 \nL 0 3.5 \n\" id=\"mff64f1220b\" style=\"stroke:#ffffff;stroke-width:0.8;\"/>\n      </defs>\n      <g>\n       <use style=\"fill:#ffffff;stroke:#ffffff;stroke-width:0.8;\" x=\"129.82017\" xlink:href=\"#mff64f1220b\" y=\"239.758125\"/>\n      </g>\n     </g>\n     <g id=\"text_1\">\n      <!-- Female -->\n      <g style=\"fill:#ffffff;\" transform=\"translate(111.742827 254.356563)scale(0.1 -0.1)\">\n       <defs>\n        <path d=\"M 628 4666 \nL 3309 4666 \nL 3309 4134 \nL 1259 4134 \nL 1259 2759 \nL 3109 2759 \nL 3109 2228 \nL 1259 2228 \nL 1259 0 \nL 628 0 \nL 628 4666 \nz\n\" id=\"DejaVuSans-46\" transform=\"scale(0.015625)\"/>\n        <path d=\"M 3597 1894 \nL 3597 1613 \nL 953 1613 \nQ 991 1019 1311 708 \nQ 1631 397 2203 397 \nQ 2534 397 2845 478 \nQ 3156 559 3463 722 \nL 3463 178 \nQ 3153 47 2828 -22 \nQ 2503 -91 2169 -91 \nQ 1331 -91 842 396 \nQ 353 884 353 1716 \nQ 353 2575 817 3079 \nQ 1281 3584 2069 3584 \nQ 2775 3584 3186 3129 \nQ 3597 2675 3597 1894 \nz\nM 3022 2063 \nQ 3016 2534 2758 2815 \nQ 2500 3097 2075 3097 \nQ 1594 3097 1305 2825 \nQ 1016 2553 972 2059 \nL 3022 2063 \nz\n\" id=\"DejaVuSans-65\" transform=\"scale(0.015625)\"/>\n        <path d=\"M 3328 2828 \nQ 3544 3216 3844 3400 \nQ 4144 3584 4550 3584 \nQ 5097 3584 5394 3201 \nQ 5691 2819 5691 2113 \nL 5691 0 \nL 5113 0 \nL 5113 2094 \nQ 5113 2597 4934 2840 \nQ 4756 3084 4391 3084 \nQ 3944 3084 3684 2787 \nQ 3425 2491 3425 1978 \nL 3425 0 \nL 2847 0 \nL 2847 2094 \nQ 2847 2600 2669 2842 \nQ 2491 3084 2119 3084 \nQ 1678 3084 1418 2786 \nQ 1159 2488 1159 1978 \nL 1159 0 \nL 581 0 \nL 581 3500 \nL 1159 3500 \nL 1159 2956 \nQ 1356 3278 1631 3431 \nQ 1906 3584 2284 3584 \nQ 2666 3584 2933 3390 \nQ 3200 3197 3328 2828 \nz\n\" id=\"DejaVuSans-6d\" transform=\"scale(0.015625)\"/>\n        <path d=\"M 2194 1759 \nQ 1497 1759 1228 1600 \nQ 959 1441 959 1056 \nQ 959 750 1161 570 \nQ 1363 391 1709 391 \nQ 2188 391 2477 730 \nQ 2766 1069 2766 1631 \nL 2766 1759 \nL 2194 1759 \nz\nM 3341 1997 \nL 3341 0 \nL 2766 0 \nL 2766 531 \nQ 2569 213 2275 61 \nQ 1981 -91 1556 -91 \nQ 1019 -91 701 211 \nQ 384 513 384 1019 \nQ 384 1609 779 1909 \nQ 1175 2209 1959 2209 \nL 2766 2209 \nL 2766 2266 \nQ 2766 2663 2505 2880 \nQ 2244 3097 1772 3097 \nQ 1472 3097 1187 3025 \nQ 903 2953 641 2809 \nL 641 3341 \nQ 956 3463 1253 3523 \nQ 1550 3584 1831 3584 \nQ 2591 3584 2966 3190 \nQ 3341 2797 3341 1997 \nz\n\" id=\"DejaVuSans-61\" transform=\"scale(0.015625)\"/>\n        <path d=\"M 603 4863 \nL 1178 4863 \nL 1178 0 \nL 603 0 \nL 603 4863 \nz\n\" id=\"DejaVuSans-6c\" transform=\"scale(0.015625)\"/>\n       </defs>\n       <use xlink:href=\"#DejaVuSans-46\"/>\n       <use x=\"52.019531\" xlink:href=\"#DejaVuSans-65\"/>\n       <use x=\"113.542969\" xlink:href=\"#DejaVuSans-6d\"/>\n       <use x=\"210.955078\" xlink:href=\"#DejaVuSans-61\"/>\n       <use x=\"272.234375\" xlink:href=\"#DejaVuSans-6c\"/>\n       <use x=\"300.017578\" xlink:href=\"#DejaVuSans-65\"/>\n      </g>\n     </g>\n    </g>\n    <g id=\"xtick_2\">\n     <g id=\"line2d_2\">\n      <g>\n       <use style=\"fill:#ffffff;stroke:#ffffff;stroke-width:0.8;\" x=\"298.91108\" xlink:href=\"#mff64f1220b\" y=\"239.758125\"/>\n      </g>\n     </g>\n     <g id=\"text_2\">\n      <!-- Male -->\n      <g style=\"fill:#ffffff;\" transform=\"translate(287.06733 254.356563)scale(0.1 -0.1)\">\n       <defs>\n        <path d=\"M 628 4666 \nL 1569 4666 \nL 2759 1491 \nL 3956 4666 \nL 4897 4666 \nL 4897 0 \nL 4281 0 \nL 4281 4097 \nL 3078 897 \nL 2444 897 \nL 1241 4097 \nL 1241 0 \nL 628 0 \nL 628 4666 \nz\n\" id=\"DejaVuSans-4d\" transform=\"scale(0.015625)\"/>\n       </defs>\n       <use xlink:href=\"#DejaVuSans-4d\"/>\n       <use x=\"86.279297\" xlink:href=\"#DejaVuSans-61\"/>\n       <use x=\"147.558594\" xlink:href=\"#DejaVuSans-6c\"/>\n       <use x=\"175.341797\" xlink:href=\"#DejaVuSans-65\"/>\n      </g>\n     </g>\n    </g>\n   </g>\n   <g id=\"matplotlib.axis_2\">\n    <g id=\"ytick_1\">\n     <g id=\"line2d_3\">\n      <defs>\n       <path d=\"M 0 0 \nL -3.5 0 \n\" id=\"m9b111b5d78\" style=\"stroke:#ffffff;stroke-width:0.8;\"/>\n      </defs>\n      <g>\n       <use style=\"fill:#ffffff;stroke:#ffffff;stroke-width:0.8;\" x=\"46.965625\" xlink:href=\"#m9b111b5d78\" y=\"239.758125\"/>\n      </g>\n     </g>\n     <g id=\"text_3\">\n      <!-- 0 -->\n      <g style=\"fill:#ffffff;\" transform=\"translate(33.603125 243.557344)scale(0.1 -0.1)\">\n       <defs>\n        <path d=\"M 2034 4250 \nQ 1547 4250 1301 3770 \nQ 1056 3291 1056 2328 \nQ 1056 1369 1301 889 \nQ 1547 409 2034 409 \nQ 2525 409 2770 889 \nQ 3016 1369 3016 2328 \nQ 3016 3291 2770 3770 \nQ 2525 4250 2034 4250 \nz\nM 2034 4750 \nQ 2819 4750 3233 4129 \nQ 3647 3509 3647 2328 \nQ 3647 1150 3233 529 \nQ 2819 -91 2034 -91 \nQ 1250 -91 836 529 \nQ 422 1150 422 2328 \nQ 422 3509 836 4129 \nQ 1250 4750 2034 4750 \nz\n\" id=\"DejaVuSans-30\" transform=\"scale(0.015625)\"/>\n       </defs>\n       <use xlink:href=\"#DejaVuSans-30\"/>\n      </g>\n     </g>\n    </g>\n    <g id=\"ytick_2\">\n     <g id=\"line2d_4\">\n      <g>\n       <use style=\"fill:#ffffff;stroke:#ffffff;stroke-width:0.8;\" x=\"46.965625\" xlink:href=\"#m9b111b5d78\" y=\"198.423651\"/>\n      </g>\n     </g>\n     <g id=\"text_4\">\n      <!-- 100 -->\n      <g style=\"fill:#ffffff;\" transform=\"translate(20.878125 202.22287)scale(0.1 -0.1)\">\n       <defs>\n        <path d=\"M 794 531 \nL 1825 531 \nL 1825 4091 \nL 703 3866 \nL 703 4441 \nL 1819 4666 \nL 2450 4666 \nL 2450 531 \nL 3481 531 \nL 3481 0 \nL 794 0 \nL 794 531 \nz\n\" id=\"DejaVuSans-31\" transform=\"scale(0.015625)\"/>\n       </defs>\n       <use xlink:href=\"#DejaVuSans-31\"/>\n       <use x=\"63.623047\" xlink:href=\"#DejaVuSans-30\"/>\n       <use x=\"127.246094\" xlink:href=\"#DejaVuSans-30\"/>\n      </g>\n     </g>\n    </g>\n    <g id=\"ytick_3\">\n     <g id=\"line2d_5\">\n      <g>\n       <use style=\"fill:#ffffff;stroke:#ffffff;stroke-width:0.8;\" x=\"46.965625\" xlink:href=\"#m9b111b5d78\" y=\"157.089177\"/>\n      </g>\n     </g>\n     <g id=\"text_5\">\n      <!-- 200 -->\n      <g style=\"fill:#ffffff;\" transform=\"translate(20.878125 160.888396)scale(0.1 -0.1)\">\n       <defs>\n        <path d=\"M 1228 531 \nL 3431 531 \nL 3431 0 \nL 469 0 \nL 469 531 \nQ 828 903 1448 1529 \nQ 2069 2156 2228 2338 \nQ 2531 2678 2651 2914 \nQ 2772 3150 2772 3378 \nQ 2772 3750 2511 3984 \nQ 2250 4219 1831 4219 \nQ 1534 4219 1204 4116 \nQ 875 4013 500 3803 \nL 500 4441 \nQ 881 4594 1212 4672 \nQ 1544 4750 1819 4750 \nQ 2544 4750 2975 4387 \nQ 3406 4025 3406 3419 \nQ 3406 3131 3298 2873 \nQ 3191 2616 2906 2266 \nQ 2828 2175 2409 1742 \nQ 1991 1309 1228 531 \nz\n\" id=\"DejaVuSans-32\" transform=\"scale(0.015625)\"/>\n       </defs>\n       <use xlink:href=\"#DejaVuSans-32\"/>\n       <use x=\"63.623047\" xlink:href=\"#DejaVuSans-30\"/>\n       <use x=\"127.246094\" xlink:href=\"#DejaVuSans-30\"/>\n      </g>\n     </g>\n    </g>\n    <g id=\"ytick_4\">\n     <g id=\"line2d_6\">\n      <g>\n       <use style=\"fill:#ffffff;stroke:#ffffff;stroke-width:0.8;\" x=\"46.965625\" xlink:href=\"#m9b111b5d78\" y=\"115.754703\"/>\n      </g>\n     </g>\n     <g id=\"text_6\">\n      <!-- 300 -->\n      <g style=\"fill:#ffffff;\" transform=\"translate(20.878125 119.553922)scale(0.1 -0.1)\">\n       <defs>\n        <path d=\"M 2597 2516 \nQ 3050 2419 3304 2112 \nQ 3559 1806 3559 1356 \nQ 3559 666 3084 287 \nQ 2609 -91 1734 -91 \nQ 1441 -91 1130 -33 \nQ 819 25 488 141 \nL 488 750 \nQ 750 597 1062 519 \nQ 1375 441 1716 441 \nQ 2309 441 2620 675 \nQ 2931 909 2931 1356 \nQ 2931 1769 2642 2001 \nQ 2353 2234 1838 2234 \nL 1294 2234 \nL 1294 2753 \nL 1863 2753 \nQ 2328 2753 2575 2939 \nQ 2822 3125 2822 3475 \nQ 2822 3834 2567 4026 \nQ 2313 4219 1838 4219 \nQ 1578 4219 1281 4162 \nQ 984 4106 628 3988 \nL 628 4550 \nQ 988 4650 1302 4700 \nQ 1616 4750 1894 4750 \nQ 2613 4750 3031 4423 \nQ 3450 4097 3450 3541 \nQ 3450 3153 3228 2886 \nQ 3006 2619 2597 2516 \nz\n\" id=\"DejaVuSans-33\" transform=\"scale(0.015625)\"/>\n       </defs>\n       <use xlink:href=\"#DejaVuSans-33\"/>\n       <use x=\"63.623047\" xlink:href=\"#DejaVuSans-30\"/>\n       <use x=\"127.246094\" xlink:href=\"#DejaVuSans-30\"/>\n      </g>\n     </g>\n    </g>\n    <g id=\"ytick_5\">\n     <g id=\"line2d_7\">\n      <g>\n       <use style=\"fill:#ffffff;stroke:#ffffff;stroke-width:0.8;\" x=\"46.965625\" xlink:href=\"#m9b111b5d78\" y=\"74.420229\"/>\n      </g>\n     </g>\n     <g id=\"text_7\">\n      <!-- 400 -->\n      <g style=\"fill:#ffffff;\" transform=\"translate(20.878125 78.219448)scale(0.1 -0.1)\">\n       <defs>\n        <path d=\"M 2419 4116 \nL 825 1625 \nL 2419 1625 \nL 2419 4116 \nz\nM 2253 4666 \nL 3047 4666 \nL 3047 1625 \nL 3713 1625 \nL 3713 1100 \nL 3047 1100 \nL 3047 0 \nL 2419 0 \nL 2419 1100 \nL 313 1100 \nL 313 1709 \nL 2253 4666 \nz\n\" id=\"DejaVuSans-34\" transform=\"scale(0.015625)\"/>\n       </defs>\n       <use xlink:href=\"#DejaVuSans-34\"/>\n       <use x=\"63.623047\" xlink:href=\"#DejaVuSans-30\"/>\n       <use x=\"127.246094\" xlink:href=\"#DejaVuSans-30\"/>\n      </g>\n     </g>\n    </g>\n    <g id=\"ytick_6\">\n     <g id=\"line2d_8\">\n      <g>\n       <use style=\"fill:#ffffff;stroke:#ffffff;stroke-width:0.8;\" x=\"46.965625\" xlink:href=\"#m9b111b5d78\" y=\"33.085755\"/>\n      </g>\n     </g>\n     <g id=\"text_8\">\n      <!-- 500 -->\n      <g style=\"fill:#ffffff;\" transform=\"translate(20.878125 36.884974)scale(0.1 -0.1)\">\n       <defs>\n        <path d=\"M 691 4666 \nL 3169 4666 \nL 3169 4134 \nL 1269 4134 \nL 1269 2991 \nQ 1406 3038 1543 3061 \nQ 1681 3084 1819 3084 \nQ 2600 3084 3056 2656 \nQ 3513 2228 3513 1497 \nQ 3513 744 3044 326 \nQ 2575 -91 1722 -91 \nQ 1428 -91 1123 -41 \nQ 819 9 494 109 \nL 494 744 \nQ 775 591 1075 516 \nQ 1375 441 1709 441 \nQ 2250 441 2565 725 \nQ 2881 1009 2881 1497 \nQ 2881 1984 2565 2268 \nQ 2250 2553 1709 2553 \nQ 1456 2553 1204 2497 \nQ 953 2441 691 2322 \nL 691 4666 \nz\n\" id=\"DejaVuSans-35\" transform=\"scale(0.015625)\"/>\n       </defs>\n       <use xlink:href=\"#DejaVuSans-35\"/>\n       <use x=\"63.623047\" xlink:href=\"#DejaVuSans-30\"/>\n       <use x=\"127.246094\" xlink:href=\"#DejaVuSans-30\"/>\n      </g>\n     </g>\n    </g>\n    <g id=\"text_9\">\n     <!-- Count -->\n     <g style=\"fill:#ffffff;\" transform=\"translate(14.798438 145.886563)rotate(-90)scale(0.1 -0.1)\">\n      <defs>\n       <path d=\"M 4122 4306 \nL 4122 3641 \nQ 3803 3938 3442 4084 \nQ 3081 4231 2675 4231 \nQ 1875 4231 1450 3742 \nQ 1025 3253 1025 2328 \nQ 1025 1406 1450 917 \nQ 1875 428 2675 428 \nQ 3081 428 3442 575 \nQ 3803 722 4122 1019 \nL 4122 359 \nQ 3791 134 3420 21 \nQ 3050 -91 2638 -91 \nQ 1578 -91 968 557 \nQ 359 1206 359 2328 \nQ 359 3453 968 4101 \nQ 1578 4750 2638 4750 \nQ 3056 4750 3426 4639 \nQ 3797 4528 4122 4306 \nz\n\" id=\"DejaVuSans-43\" transform=\"scale(0.015625)\"/>\n       <path d=\"M 1959 3097 \nQ 1497 3097 1228 2736 \nQ 959 2375 959 1747 \nQ 959 1119 1226 758 \nQ 1494 397 1959 397 \nQ 2419 397 2687 759 \nQ 2956 1122 2956 1747 \nQ 2956 2369 2687 2733 \nQ 2419 3097 1959 3097 \nz\nM 1959 3584 \nQ 2709 3584 3137 3096 \nQ 3566 2609 3566 1747 \nQ 3566 888 3137 398 \nQ 2709 -91 1959 -91 \nQ 1206 -91 779 398 \nQ 353 888 353 1747 \nQ 353 2609 779 3096 \nQ 1206 3584 1959 3584 \nz\n\" id=\"DejaVuSans-6f\" transform=\"scale(0.015625)\"/>\n       <path d=\"M 544 1381 \nL 544 3500 \nL 1119 3500 \nL 1119 1403 \nQ 1119 906 1312 657 \nQ 1506 409 1894 409 \nQ 2359 409 2629 706 \nQ 2900 1003 2900 1516 \nL 2900 3500 \nL 3475 3500 \nL 3475 0 \nL 2900 0 \nL 2900 538 \nQ 2691 219 2414 64 \nQ 2138 -91 1772 -91 \nQ 1169 -91 856 284 \nQ 544 659 544 1381 \nz\nM 1991 3584 \nL 1991 3584 \nz\n\" id=\"DejaVuSans-75\" transform=\"scale(0.015625)\"/>\n       <path d=\"M 3513 2113 \nL 3513 0 \nL 2938 0 \nL 2938 2094 \nQ 2938 2591 2744 2837 \nQ 2550 3084 2163 3084 \nQ 1697 3084 1428 2787 \nQ 1159 2491 1159 1978 \nL 1159 0 \nL 581 0 \nL 581 3500 \nL 1159 3500 \nL 1159 2956 \nQ 1366 3272 1645 3428 \nQ 1925 3584 2291 3584 \nQ 2894 3584 3203 3211 \nQ 3513 2838 3513 2113 \nz\n\" id=\"DejaVuSans-6e\" transform=\"scale(0.015625)\"/>\n       <path d=\"M 1172 4494 \nL 1172 3500 \nL 2356 3500 \nL 2356 3053 \nL 1172 3053 \nL 1172 1153 \nQ 1172 725 1289 603 \nQ 1406 481 1766 481 \nL 2356 481 \nL 2356 0 \nL 1766 0 \nQ 1100 0 847 248 \nQ 594 497 594 1153 \nL 594 3053 \nL 172 3053 \nL 172 3500 \nL 594 3500 \nL 594 4494 \nL 1172 4494 \nz\n\" id=\"DejaVuSans-74\" transform=\"scale(0.015625)\"/>\n      </defs>\n      <use xlink:href=\"#DejaVuSans-43\"/>\n      <use x=\"69.824219\" xlink:href=\"#DejaVuSans-6f\"/>\n      <use x=\"131.005859\" xlink:href=\"#DejaVuSans-75\"/>\n      <use x=\"194.384766\" xlink:href=\"#DejaVuSans-6e\"/>\n      <use x=\"257.763672\" xlink:href=\"#DejaVuSans-74\"/>\n     </g>\n    </g>\n   </g>\n   <g id=\"patch_5\">\n    <path d=\"M 46.965625 239.758125 \nL 46.965625 22.318125 \n\" style=\"fill:none;stroke:#ffffff;stroke-linecap:square;stroke-linejoin:miter;stroke-width:0.8;\"/>\n   </g>\n   <g id=\"patch_6\">\n    <path d=\"M 381.765625 239.758125 \nL 381.765625 22.318125 \n\" style=\"fill:none;stroke:#ffffff;stroke-linecap:square;stroke-linejoin:miter;stroke-width:0.8;\"/>\n   </g>\n   <g id=\"patch_7\">\n    <path d=\"M 46.965625 239.758125 \nL 381.765625 239.758125 \n\" style=\"fill:none;stroke:#ffffff;stroke-linecap:square;stroke-linejoin:miter;stroke-width:0.8;\"/>\n   </g>\n   <g id=\"patch_8\">\n    <path d=\"M 46.965625 22.318125 \nL 381.765625 22.318125 \n\" style=\"fill:none;stroke:#ffffff;stroke-linecap:square;stroke-linejoin:miter;stroke-width:0.8;\"/>\n   </g>\n   <g id=\"text_10\">\n    <!-- Gender -->\n    <g style=\"fill:#ffffff;\" transform=\"translate(192.254688 16.318125)scale(0.12 -0.12)\">\n     <defs>\n      <path d=\"M 3809 666 \nL 3809 1919 \nL 2778 1919 \nL 2778 2438 \nL 4434 2438 \nL 4434 434 \nQ 4069 175 3628 42 \nQ 3188 -91 2688 -91 \nQ 1594 -91 976 548 \nQ 359 1188 359 2328 \nQ 359 3472 976 4111 \nQ 1594 4750 2688 4750 \nQ 3144 4750 3555 4637 \nQ 3966 4525 4313 4306 \nL 4313 3634 \nQ 3963 3931 3569 4081 \nQ 3175 4231 2741 4231 \nQ 1884 4231 1454 3753 \nQ 1025 3275 1025 2328 \nQ 1025 1384 1454 906 \nQ 1884 428 2741 428 \nQ 3075 428 3337 486 \nQ 3600 544 3809 666 \nz\n\" id=\"DejaVuSans-47\" transform=\"scale(0.015625)\"/>\n      <path d=\"M 2906 2969 \nL 2906 4863 \nL 3481 4863 \nL 3481 0 \nL 2906 0 \nL 2906 525 \nQ 2725 213 2448 61 \nQ 2172 -91 1784 -91 \nQ 1150 -91 751 415 \nQ 353 922 353 1747 \nQ 353 2572 751 3078 \nQ 1150 3584 1784 3584 \nQ 2172 3584 2448 3432 \nQ 2725 3281 2906 2969 \nz\nM 947 1747 \nQ 947 1113 1208 752 \nQ 1469 391 1925 391 \nQ 2381 391 2643 752 \nQ 2906 1113 2906 1747 \nQ 2906 2381 2643 2742 \nQ 2381 3103 1925 3103 \nQ 1469 3103 1208 2742 \nQ 947 2381 947 1747 \nz\n\" id=\"DejaVuSans-64\" transform=\"scale(0.015625)\"/>\n      <path d=\"M 2631 2963 \nQ 2534 3019 2420 3045 \nQ 2306 3072 2169 3072 \nQ 1681 3072 1420 2755 \nQ 1159 2438 1159 1844 \nL 1159 0 \nL 581 0 \nL 581 3500 \nL 1159 3500 \nL 1159 2956 \nQ 1341 3275 1631 3429 \nQ 1922 3584 2338 3584 \nQ 2397 3584 2469 3576 \nQ 2541 3569 2628 3553 \nL 2631 2963 \nz\n\" id=\"DejaVuSans-72\" transform=\"scale(0.015625)\"/>\n     </defs>\n     <use xlink:href=\"#DejaVuSans-47\"/>\n     <use x=\"77.490234\" xlink:href=\"#DejaVuSans-65\"/>\n     <use x=\"139.013672\" xlink:href=\"#DejaVuSans-6e\"/>\n     <use x=\"202.392578\" xlink:href=\"#DejaVuSans-64\"/>\n     <use x=\"265.869141\" xlink:href=\"#DejaVuSans-65\"/>\n     <use x=\"327.392578\" xlink:href=\"#DejaVuSans-72\"/>\n    </g>\n   </g>\n  </g>\n </g>\n <defs>\n  <clipPath id=\"p8277fc859d\">\n   <rect height=\"217.44\" width=\"334.8\" x=\"46.965625\" y=\"22.318125\"/>\n  </clipPath>\n </defs>\n</svg>\n",
      "text/plain": [
       "<Figure size 432x288 with 1 Axes>"
      ]
     },
     "metadata": {},
     "output_type": "display_data"
    }
   ],
   "source": [
    "# Calculate the quantity of each branch\n",
    "gend = df.gender.value_counts()\n",
    "# Visualize on bar chart\n",
    "gender = list(df['gender'].unique())\n",
    "gender.sort()\n",
    "y_pos = np.arange(len(gender))\n",
    "\n",
    "barlist = plt.bar(y_pos, gend, align='center', alpha=0.5)\n",
    "barlist[1].set_color('r')\n",
    "barlist[0].set_color('g')\n",
    "plt.xticks(y_pos, gender)\n",
    "plt.ylabel('Count')\n",
    "plt.title('Gender')\n",
    "\n",
    "plt.show()"
   ]
  },
  {
   "cell_type": "markdown",
   "metadata": {},
   "source": [
    "\n",
    "<p style=\"font-family: Arials; line-height: 1.5; font-size: 16px; font-weight: bold; letter-spacing: 2px; color: rgba(0,0,0,.7)\">3. What is the average total sale per month</p>"
   ]
  },
  {
   "cell_type": "code",
   "execution_count": 49,
   "metadata": {},
   "outputs": [
    {
     "data": {
      "image/png": "[encoded data removed]",
      "image/svg+xml": "<?xml version=\"1.0\" encoding=\"utf-8\" standalone=\"no\"?>\n<!DOCTYPE svg PUBLIC \"-//W3C//DTD SVG 1.1//EN\"\n  \"http://www.w3.org/Graphics/SVG/1.1/DTD/svg11.dtd\">\n<svg height=\"248.518125pt\" version=\"1.1\" viewBox=\"0 0 368.925 248.518125\" width=\"368.925pt\" xmlns=\"http://www.w3.org/2000/svg\" xmlns:xlink=\"http://www.w3.org/1999/xlink\">\n <metadata>\n  <rdf:RDF xmlns:cc=\"http://creativecommons.org/ns#\" xmlns:dc=\"http://purl.org/dc/elements/1.1/\" xmlns:rdf=\"http://www.w3.org/1999/02/22-rdf-syntax-ns#\">\n   <cc:Work>\n    <dc:type rdf:resource=\"http://purl.org/dc/dcmitype/StillImage\"/>\n    <dc:date>2021-11-12T11:32:38.482742</dc:date>\n    <dc:format>image/svg+xml</dc:format>\n    <dc:creator>\n     <cc:Agent>\n      <dc:title>Matplotlib v3.4.3, https://matplotlib.org/</dc:title>\n     </cc:Agent>\n    </dc:creator>\n   </cc:Work>\n  </rdf:RDF>\n </metadata>\n <defs>\n  <style type=\"text/css\">*{stroke-linecap:butt;stroke-linejoin:round;}</style>\n </defs>\n <g id=\"figure_1\">\n  <g id=\"patch_1\">\n   <path d=\"M -0 248.518125 \nL 368.925 248.518125 \nL 368.925 0 \nL -0 0 \nz\n\"/>\n  </g>\n  <g id=\"axes_1\">\n   <g id=\"patch_2\">\n    <path d=\"M 26.925 224.64 \nL 361.725 224.64 \nL 361.725 7.2 \nL 26.925 7.2 \nz\n\"/>\n   </g>\n   <g id=\"patch_3\">\n    <path clip-path=\"url(#p5b6e417699)\" d=\"M 42.143182 224.64 \nL 45.186818 224.64 \nL 45.186818 144.106667 \nL 42.143182 144.106667 \nz\n\" style=\"fill:#8dd3c7;\"/>\n   </g>\n   <g id=\"patch_4\">\n    <path clip-path=\"url(#p5b6e417699)\" d=\"M 45.186818 224.64 \nL 48.230455 224.64 \nL 48.230455 132.601905 \nL 45.186818 132.601905 \nz\n\" style=\"fill:#8dd3c7;\"/>\n   </g>\n   <g id=\"patch_5\">\n    <path clip-path=\"url(#p5b6e417699)\" d=\"M 48.230455 224.64 \nL 51.274091 224.64 \nL 51.274091 92.335238 \nL 48.230455 92.335238 \nz\n\" style=\"fill:#8dd3c7;\"/>\n   </g>\n   <g id=\"patch_6\">\n    <path clip-path=\"url(#p5b6e417699)\" d=\"M 51.274091 224.64 \nL 54.317727 224.64 \nL 54.317727 121.097143 \nL 51.274091 121.097143 \nz\n\" style=\"fill:#8dd3c7;\"/>\n   </g>\n   <g id=\"patch_7\">\n    <path clip-path=\"url(#p5b6e417699)\" d=\"M 54.317727 224.64 \nL 57.361364 224.64 \nL 57.361364 103.84 \nL 54.317727 103.84 \nz\n\" style=\"fill:#8dd3c7;\"/>\n   </g>\n   <g id=\"patch_8\">\n    <path clip-path=\"url(#p5b6e417699)\" d=\"M 57.361364 224.64 \nL 60.405 224.64 \nL 60.405 92.335238 \nL 57.361364 92.335238 \nz\n\" style=\"fill:#8dd3c7;\"/>\n   </g>\n   <g id=\"patch_9\">\n    <path clip-path=\"url(#p5b6e417699)\" d=\"M 60.405 224.64 \nL 63.448636 224.64 \nL 63.448636 17.554286 \nL 60.405 17.554286 \nz\n\" style=\"fill:#8dd3c7;\"/>\n   </g>\n   <g id=\"patch_10\">\n    <path clip-path=\"url(#p5b6e417699)\" d=\"M 63.448636 224.64 \nL 66.492273 224.64 \nL 66.492273 23.306667 \nL 63.448636 23.306667 \nz\n\" style=\"fill:#8dd3c7;\"/>\n   </g>\n   <g id=\"patch_11\">\n    <path clip-path=\"url(#p5b6e417699)\" d=\"M 66.492273 224.64 \nL 69.535909 224.64 \nL 69.535909 34.811429 \nL 66.492273 34.811429 \nz\n\" style=\"fill:#8dd3c7;\"/>\n   </g>\n   <g id=\"patch_12\">\n    <path clip-path=\"url(#p5b6e417699)\" d=\"M 69.535909 224.64 \nL 72.579545 224.64 \nL 72.579545 144.106667 \nL 69.535909 144.106667 \nz\n\" style=\"fill:#8dd3c7;\"/>\n   </g>\n   <g id=\"patch_13\">\n    <path clip-path=\"url(#p5b6e417699)\" d=\"M 72.579545 224.64 \nL 75.623182 224.64 \nL 75.623182 126.849524 \nL 72.579545 126.849524 \nz\n\" style=\"fill:#8dd3c7;\"/>\n   </g>\n   <g id=\"patch_14\">\n    <path clip-path=\"url(#p5b6e417699)\" d=\"M 75.623182 224.64 \nL 78.666818 224.64 \nL 78.666818 103.84 \nL 75.623182 103.84 \nz\n\" style=\"fill:#8dd3c7;\"/>\n   </g>\n   <g id=\"patch_15\">\n    <path clip-path=\"url(#p5b6e417699)\" d=\"M 78.666818 224.64 \nL 81.710455 224.64 \nL 81.710455 121.097143 \nL 78.666818 121.097143 \nz\n\" style=\"fill:#8dd3c7;\"/>\n   </g>\n   <g id=\"patch_16\">\n    <path clip-path=\"url(#p5b6e417699)\" d=\"M 81.710455 224.64 \nL 84.754091 224.64 \nL 84.754091 52.068571 \nL 81.710455 52.068571 \nz\n\" style=\"fill:#8dd3c7;\"/>\n   </g>\n   <g id=\"patch_17\">\n    <path clip-path=\"url(#p5b6e417699)\" d=\"M 84.754091 224.64 \nL 87.797727 224.64 \nL 87.797727 126.849524 \nL 84.754091 126.849524 \nz\n\" style=\"fill:#8dd3c7;\"/>\n   </g>\n   <g id=\"patch_18\">\n    <path clip-path=\"url(#p5b6e417699)\" d=\"M 87.797727 224.64 \nL 90.841364 224.64 \nL 90.841364 86.582857 \nL 87.797727 86.582857 \nz\n\" style=\"fill:#8dd3c7;\"/>\n   </g>\n   <g id=\"patch_19\">\n    <path clip-path=\"url(#p5b6e417699)\" d=\"M 90.841364 224.64 \nL 93.885 224.64 \nL 93.885 86.582857 \nL 90.841364 86.582857 \nz\n\" style=\"fill:#8dd3c7;\"/>\n   </g>\n   <g id=\"patch_20\">\n    <path clip-path=\"url(#p5b6e417699)\" d=\"M 93.885 224.64 \nL 96.928636 224.64 \nL 96.928636 92.335238 \nL 93.885 92.335238 \nz\n\" style=\"fill:#8dd3c7;\"/>\n   </g>\n   <g id=\"patch_21\">\n    <path clip-path=\"url(#p5b6e417699)\" d=\"M 96.928636 224.64 \nL 99.972273 224.64 \nL 99.972273 144.106667 \nL 96.928636 144.106667 \nz\n\" style=\"fill:#8dd3c7;\"/>\n   </g>\n   <g id=\"patch_22\">\n    <path clip-path=\"url(#p5b6e417699)\" d=\"M 99.972273 224.64 \nL 103.015909 224.64 \nL 103.015909 69.325714 \nL 99.972273 69.325714 \nz\n\" style=\"fill:#8dd3c7;\"/>\n   </g>\n   <g id=\"patch_23\">\n    <path clip-path=\"url(#p5b6e417699)\" d=\"M 103.015909 224.64 \nL 106.059545 224.64 \nL 106.059545 132.601905 \nL 103.015909 132.601905 \nz\n\" style=\"fill:#8dd3c7;\"/>\n   </g>\n   <g id=\"patch_24\">\n    <path clip-path=\"url(#p5b6e417699)\" d=\"M 106.059545 224.64 \nL 109.103182 224.64 \nL 109.103182 138.354286 \nL 106.059545 138.354286 \nz\n\" style=\"fill:#8dd3c7;\"/>\n   </g>\n   <g id=\"patch_25\">\n    <path clip-path=\"url(#p5b6e417699)\" d=\"M 109.103182 224.64 \nL 112.146818 224.64 \nL 112.146818 167.11619 \nL 109.103182 167.11619 \nz\n\" style=\"fill:#8dd3c7;\"/>\n   </g>\n   <g id=\"patch_26\">\n    <path clip-path=\"url(#p5b6e417699)\" d=\"M 112.146818 224.64 \nL 115.190455 224.64 \nL 115.190455 126.849524 \nL 112.146818 126.849524 \nz\n\" style=\"fill:#8dd3c7;\"/>\n   </g>\n   <g id=\"patch_27\">\n    <path clip-path=\"url(#p5b6e417699)\" d=\"M 115.190455 224.64 \nL 118.234091 224.64 \nL 118.234091 149.859048 \nL 115.190455 149.859048 \nz\n\" style=\"fill:#8dd3c7;\"/>\n   </g>\n   <g id=\"patch_28\">\n    <path clip-path=\"url(#p5b6e417699)\" d=\"M 118.234091 224.64 \nL 121.277727 224.64 \nL 121.277727 121.097143 \nL 118.234091 121.097143 \nz\n\" style=\"fill:#8dd3c7;\"/>\n   </g>\n   <g id=\"patch_29\">\n    <path clip-path=\"url(#p5b6e417699)\" d=\"M 121.277727 224.64 \nL 124.321364 224.64 \nL 124.321364 144.106667 \nL 121.277727 144.106667 \nz\n\" style=\"fill:#8dd3c7;\"/>\n   </g>\n   <g id=\"patch_30\">\n    <path clip-path=\"url(#p5b6e417699)\" d=\"M 124.321364 224.64 \nL 127.365 224.64 \nL 127.365 126.849524 \nL 124.321364 126.849524 \nz\n\" style=\"fill:#8dd3c7;\"/>\n   </g>\n   <g id=\"patch_31\">\n    <path clip-path=\"url(#p5b6e417699)\" d=\"M 127.365 224.64 \nL 130.408636 224.64 \nL 130.408636 161.36381 \nL 127.365 161.36381 \nz\n\" style=\"fill:#8dd3c7;\"/>\n   </g>\n   <g id=\"patch_32\">\n    <path clip-path=\"url(#p5b6e417699)\" d=\"M 130.408636 224.64 \nL 133.452273 224.64 \nL 133.452273 138.354286 \nL 130.408636 138.354286 \nz\n\" style=\"fill:#8dd3c7;\"/>\n   </g>\n   <g id=\"patch_33\">\n    <path clip-path=\"url(#p5b6e417699)\" d=\"M 133.452273 224.64 \nL 136.495909 224.64 \nL 136.495909 167.11619 \nL 133.452273 167.11619 \nz\n\" style=\"fill:#8dd3c7;\"/>\n   </g>\n   <g id=\"patch_34\">\n    <path clip-path=\"url(#p5b6e417699)\" d=\"M 136.495909 224.64 \nL 139.539545 224.64 \nL 139.539545 144.106667 \nL 136.495909 144.106667 \nz\n\" style=\"fill:#8dd3c7;\"/>\n   </g>\n   <g id=\"patch_35\">\n    <path clip-path=\"url(#p5b6e417699)\" d=\"M 139.539545 224.64 \nL 142.583182 224.64 \nL 142.583182 161.36381 \nL 139.539545 161.36381 \nz\n\" style=\"fill:#8dd3c7;\"/>\n   </g>\n   <g id=\"patch_36\">\n    <path clip-path=\"url(#p5b6e417699)\" d=\"M 142.583182 224.64 \nL 145.626818 224.64 \nL 145.626818 149.859048 \nL 142.583182 149.859048 \nz\n\" style=\"fill:#8dd3c7;\"/>\n   </g>\n   <g id=\"patch_37\">\n    <path clip-path=\"url(#p5b6e417699)\" d=\"M 145.626818 224.64 \nL 148.670455 224.64 \nL 148.670455 167.11619 \nL 145.626818 167.11619 \nz\n\" style=\"fill:#8dd3c7;\"/>\n   </g>\n   <g id=\"patch_38\">\n    <path clip-path=\"url(#p5b6e417699)\" d=\"M 148.670455 224.64 \nL 151.714091 224.64 \nL 151.714091 178.620952 \nL 148.670455 178.620952 \nz\n\" style=\"fill:#8dd3c7;\"/>\n   </g>\n   <g id=\"patch_39\">\n    <path clip-path=\"url(#p5b6e417699)\" d=\"M 151.714091 224.64 \nL 154.757727 224.64 \nL 154.757727 178.620952 \nL 151.714091 178.620952 \nz\n\" style=\"fill:#8dd3c7;\"/>\n   </g>\n   <g id=\"patch_40\">\n    <path clip-path=\"url(#p5b6e417699)\" d=\"M 154.757727 224.64 \nL 157.801364 224.64 \nL 157.801364 126.849524 \nL 154.757727 126.849524 \nz\n\" style=\"fill:#8dd3c7;\"/>\n   </g>\n   <g id=\"patch_41\">\n    <path clip-path=\"url(#p5b6e417699)\" d=\"M 157.801364 224.64 \nL 160.845 224.64 \nL 160.845 161.36381 \nL 157.801364 161.36381 \nz\n\" style=\"fill:#8dd3c7;\"/>\n   </g>\n   <g id=\"patch_42\">\n    <path clip-path=\"url(#p5b6e417699)\" d=\"M 160.845 224.64 \nL 163.888636 224.64 \nL 163.888636 178.620952 \nL 160.845 178.620952 \nz\n\" style=\"fill:#8dd3c7;\"/>\n   </g>\n   <g id=\"patch_43\">\n    <path clip-path=\"url(#p5b6e417699)\" d=\"M 163.888636 224.64 \nL 166.932273 224.64 \nL 166.932273 172.868571 \nL 163.888636 172.868571 \nz\n\" style=\"fill:#8dd3c7;\"/>\n   </g>\n   <g id=\"patch_44\">\n    <path clip-path=\"url(#p5b6e417699)\" d=\"M 166.932273 224.64 \nL 169.975909 224.64 \nL 169.975909 167.11619 \nL 166.932273 167.11619 \nz\n\" style=\"fill:#8dd3c7;\"/>\n   </g>\n   <g id=\"patch_45\">\n    <path clip-path=\"url(#p5b6e417699)\" d=\"M 169.975909 224.64 \nL 173.019545 224.64 \nL 173.019545 178.620952 \nL 169.975909 178.620952 \nz\n\" style=\"fill:#8dd3c7;\"/>\n   </g>\n   <g id=\"patch_46\">\n    <path clip-path=\"url(#p5b6e417699)\" d=\"M 173.019545 224.64 \nL 176.063182 224.64 \nL 176.063182 155.611429 \nL 173.019545 155.611429 \nz\n\" style=\"fill:#8dd3c7;\"/>\n   </g>\n   <g id=\"patch_47\">\n    <path clip-path=\"url(#p5b6e417699)\" d=\"M 176.063182 224.64 \nL 179.106818 224.64 \nL 179.106818 172.868571 \nL 176.063182 172.868571 \nz\n\" style=\"fill:#8dd3c7;\"/>\n   </g>\n   <g id=\"patch_48\">\n    <path clip-path=\"url(#p5b6e417699)\" d=\"M 179.106818 224.64 \nL 182.150455 224.64 \nL 182.150455 167.11619 \nL 179.106818 167.11619 \nz\n\" style=\"fill:#8dd3c7;\"/>\n   </g>\n   <g id=\"patch_49\">\n    <path clip-path=\"url(#p5b6e417699)\" d=\"M 182.150455 224.64 \nL 185.194091 224.64 \nL 185.194091 172.868571 \nL 182.150455 172.868571 \nz\n\" style=\"fill:#8dd3c7;\"/>\n   </g>\n   <g id=\"patch_50\">\n    <path clip-path=\"url(#p5b6e417699)\" d=\"M 185.194091 224.64 \nL 188.237727 224.64 \nL 188.237727 201.630476 \nL 185.194091 201.630476 \nz\n\" style=\"fill:#8dd3c7;\"/>\n   </g>\n   <g id=\"patch_51\">\n    <path clip-path=\"url(#p5b6e417699)\" d=\"M 188.237727 224.64 \nL 191.281364 224.64 \nL 191.281364 155.611429 \nL 188.237727 155.611429 \nz\n\" style=\"fill:#8dd3c7;\"/>\n   </g>\n   <g id=\"patch_52\">\n    <path clip-path=\"url(#p5b6e417699)\" d=\"M 191.281364 224.64 \nL 194.325 224.64 \nL 194.325 178.620952 \nL 191.281364 178.620952 \nz\n\" style=\"fill:#8dd3c7;\"/>\n   </g>\n   <g id=\"patch_53\">\n    <path clip-path=\"url(#p5b6e417699)\" d=\"M 194.325 224.64 \nL 197.368636 224.64 \nL 197.368636 172.868571 \nL 194.325 172.868571 \nz\n\" style=\"fill:#8dd3c7;\"/>\n   </g>\n   <g id=\"patch_54\">\n    <path clip-path=\"url(#p5b6e417699)\" d=\"M 197.368636 224.64 \nL 200.412273 224.64 \nL 200.412273 195.878095 \nL 197.368636 195.878095 \nz\n\" style=\"fill:#8dd3c7;\"/>\n   </g>\n   <g id=\"patch_55\">\n    <path clip-path=\"url(#p5b6e417699)\" d=\"M 200.412273 224.64 \nL 203.455909 224.64 \nL 203.455909 167.11619 \nL 200.412273 167.11619 \nz\n\" style=\"fill:#8dd3c7;\"/>\n   </g>\n   <g id=\"patch_56\">\n    <path clip-path=\"url(#p5b6e417699)\" d=\"M 203.455909 224.64 \nL 206.499545 224.64 \nL 206.499545 207.382857 \nL 203.455909 207.382857 \nz\n\" style=\"fill:#8dd3c7;\"/>\n   </g>\n   <g id=\"patch_57\">\n    <path clip-path=\"url(#p5b6e417699)\" d=\"M 206.499545 224.64 \nL 209.543182 224.64 \nL 209.543182 184.373333 \nL 206.499545 184.373333 \nz\n\" style=\"fill:#8dd3c7;\"/>\n   </g>\n   <g id=\"patch_58\">\n    <path clip-path=\"url(#p5b6e417699)\" d=\"M 209.543182 224.64 \nL 212.586818 224.64 \nL 212.586818 184.373333 \nL 209.543182 184.373333 \nz\n\" style=\"fill:#8dd3c7;\"/>\n   </g>\n   <g id=\"patch_59\">\n    <path clip-path=\"url(#p5b6e417699)\" d=\"M 212.586818 224.64 \nL 215.630455 224.64 \nL 215.630455 201.630476 \nL 212.586818 201.630476 \nz\n\" style=\"fill:#8dd3c7;\"/>\n   </g>\n   <g id=\"patch_60\">\n    <path clip-path=\"url(#p5b6e417699)\" d=\"M 215.630455 224.64 \nL 218.674091 224.64 \nL 218.674091 190.125714 \nL 215.630455 190.125714 \nz\n\" style=\"fill:#8dd3c7;\"/>\n   </g>\n   <g id=\"patch_61\">\n    <path clip-path=\"url(#p5b6e417699)\" d=\"M 218.674091 224.64 \nL 221.717727 224.64 \nL 221.717727 190.125714 \nL 218.674091 190.125714 \nz\n\" style=\"fill:#8dd3c7;\"/>\n   </g>\n   <g id=\"patch_62\">\n    <path clip-path=\"url(#p5b6e417699)\" d=\"M 221.717727 224.64 \nL 224.761364 224.64 \nL 224.761364 161.36381 \nL 221.717727 161.36381 \nz\n\" style=\"fill:#8dd3c7;\"/>\n   </g>\n   <g id=\"patch_63\">\n    <path clip-path=\"url(#p5b6e417699)\" d=\"M 224.761364 224.64 \nL 227.805 224.64 \nL 227.805 190.125714 \nL 224.761364 190.125714 \nz\n\" style=\"fill:#8dd3c7;\"/>\n   </g>\n   <g id=\"patch_64\">\n    <path clip-path=\"url(#p5b6e417699)\" d=\"M 227.805 224.64 \nL 230.848636 224.64 \nL 230.848636 218.887619 \nL 227.805 218.887619 \nz\n\" style=\"fill:#8dd3c7;\"/>\n   </g>\n   <g id=\"patch_65\">\n    <path clip-path=\"url(#p5b6e417699)\" d=\"M 230.848636 224.64 \nL 233.892273 224.64 \nL 233.892273 201.630476 \nL 230.848636 201.630476 \nz\n\" style=\"fill:#8dd3c7;\"/>\n   </g>\n   <g id=\"patch_66\">\n    <path clip-path=\"url(#p5b6e417699)\" d=\"M 233.892273 224.64 \nL 236.935909 224.64 \nL 236.935909 207.382857 \nL 233.892273 207.382857 \nz\n\" style=\"fill:#8dd3c7;\"/>\n   </g>\n   <g id=\"patch_67\">\n    <path clip-path=\"url(#p5b6e417699)\" d=\"M 236.935909 224.64 \nL 239.979545 224.64 \nL 239.979545 190.125714 \nL 236.935909 190.125714 \nz\n\" style=\"fill:#8dd3c7;\"/>\n   </g>\n   <g id=\"patch_68\">\n    <path clip-path=\"url(#p5b6e417699)\" d=\"M 239.979545 224.64 \nL 243.023182 224.64 \nL 243.023182 195.878095 \nL 239.979545 195.878095 \nz\n\" style=\"fill:#8dd3c7;\"/>\n   </g>\n   <g id=\"patch_69\">\n    <path clip-path=\"url(#p5b6e417699)\" d=\"M 243.023182 224.64 \nL 246.066818 224.64 \nL 246.066818 201.630476 \nL 243.023182 201.630476 \nz\n\" style=\"fill:#8dd3c7;\"/>\n   </g>\n   <g id=\"patch_70\">\n    <path clip-path=\"url(#p5b6e417699)\" d=\"M 246.066818 224.64 \nL 249.110455 224.64 \nL 249.110455 190.125714 \nL 246.066818 190.125714 \nz\n\" style=\"fill:#8dd3c7;\"/>\n   </g>\n   <g id=\"patch_71\">\n    <path clip-path=\"url(#p5b6e417699)\" d=\"M 249.110455 224.64 \nL 252.154091 224.64 \nL 252.154091 195.878095 \nL 249.110455 195.878095 \nz\n\" style=\"fill:#8dd3c7;\"/>\n   </g>\n   <g id=\"patch_72\">\n    <path clip-path=\"url(#p5b6e417699)\" d=\"M 252.154091 224.64 \nL 255.197727 224.64 \nL 255.197727 195.878095 \nL 252.154091 195.878095 \nz\n\" style=\"fill:#8dd3c7;\"/>\n   </g>\n   <g id=\"patch_73\">\n    <path clip-path=\"url(#p5b6e417699)\" d=\"M 255.197727 224.64 \nL 258.241364 224.64 \nL 258.241364 184.373333 \nL 255.197727 184.373333 \nz\n\" style=\"fill:#8dd3c7;\"/>\n   </g>\n   <g id=\"patch_74\">\n    <path clip-path=\"url(#p5b6e417699)\" d=\"M 258.241364 224.64 \nL 261.285 224.64 \nL 261.285 190.125714 \nL 258.241364 190.125714 \nz\n\" style=\"fill:#8dd3c7;\"/>\n   </g>\n   <g id=\"patch_75\">\n    <path clip-path=\"url(#p5b6e417699)\" d=\"M 261.285 224.64 \nL 264.328636 224.64 \nL 264.328636 190.125714 \nL 261.285 190.125714 \nz\n\" style=\"fill:#8dd3c7;\"/>\n   </g>\n   <g id=\"patch_76\">\n    <path clip-path=\"url(#p5b6e417699)\" d=\"M 264.328636 224.64 \nL 267.372273 224.64 \nL 267.372273 195.878095 \nL 264.328636 195.878095 \nz\n\" style=\"fill:#8dd3c7;\"/>\n   </g>\n   <g id=\"patch_77\">\n    <path clip-path=\"url(#p5b6e417699)\" d=\"M 267.372273 224.64 \nL 270.415909 224.64 \nL 270.415909 201.630476 \nL 267.372273 201.630476 \nz\n\" style=\"fill:#8dd3c7;\"/>\n   </g>\n   <g id=\"patch_78\">\n    <path clip-path=\"url(#p5b6e417699)\" d=\"M 270.415909 224.64 \nL 273.459545 224.64 \nL 273.459545 195.878095 \nL 270.415909 195.878095 \nz\n\" style=\"fill:#8dd3c7;\"/>\n   </g>\n   <g id=\"patch_79\">\n    <path clip-path=\"url(#p5b6e417699)\" d=\"M 273.459545 224.64 \nL 276.503182 224.64 \nL 276.503182 207.382857 \nL 273.459545 207.382857 \nz\n\" style=\"fill:#8dd3c7;\"/>\n   </g>\n   <g id=\"patch_80\">\n    <path clip-path=\"url(#p5b6e417699)\" d=\"M 276.503182 224.64 \nL 279.546818 224.64 \nL 279.546818 207.382857 \nL 276.503182 207.382857 \nz\n\" style=\"fill:#8dd3c7;\"/>\n   </g>\n   <g id=\"patch_81\">\n    <path clip-path=\"url(#p5b6e417699)\" d=\"M 279.546818 224.64 \nL 282.590455 224.64 \nL 282.590455 207.382857 \nL 279.546818 207.382857 \nz\n\" style=\"fill:#8dd3c7;\"/>\n   </g>\n   <g id=\"patch_82\">\n    <path clip-path=\"url(#p5b6e417699)\" d=\"M 282.590455 224.64 \nL 285.634091 224.64 \nL 285.634091 172.868571 \nL 282.590455 172.868571 \nz\n\" style=\"fill:#8dd3c7;\"/>\n   </g>\n   <g id=\"patch_83\">\n    <path clip-path=\"url(#p5b6e417699)\" d=\"M 285.634091 224.64 \nL 288.677727 224.64 \nL 288.677727 213.135238 \nL 285.634091 213.135238 \nz\n\" style=\"fill:#8dd3c7;\"/>\n   </g>\n   <g id=\"patch_84\">\n    <path clip-path=\"url(#p5b6e417699)\" d=\"M 288.677727 224.64 \nL 291.721364 224.64 \nL 291.721364 207.382857 \nL 288.677727 207.382857 \nz\n\" style=\"fill:#8dd3c7;\"/>\n   </g>\n   <g id=\"patch_85\">\n    <path clip-path=\"url(#p5b6e417699)\" d=\"M 291.721364 224.64 \nL 294.765 224.64 \nL 294.765 201.630476 \nL 291.721364 201.630476 \nz\n\" style=\"fill:#8dd3c7;\"/>\n   </g>\n   <g id=\"patch_86\">\n    <path clip-path=\"url(#p5b6e417699)\" d=\"M 294.765 224.64 \nL 297.808636 224.64 \nL 297.808636 213.135238 \nL 294.765 213.135238 \nz\n\" style=\"fill:#8dd3c7;\"/>\n   </g>\n   <g id=\"patch_87\">\n    <path clip-path=\"url(#p5b6e417699)\" d=\"M 297.808636 224.64 \nL 300.852273 224.64 \nL 300.852273 218.887619 \nL 297.808636 218.887619 \nz\n\" style=\"fill:#8dd3c7;\"/>\n   </g>\n   <g id=\"patch_88\">\n    <path clip-path=\"url(#p5b6e417699)\" d=\"M 300.852273 224.64 \nL 303.895909 224.64 \nL 303.895909 207.382857 \nL 300.852273 207.382857 \nz\n\" style=\"fill:#8dd3c7;\"/>\n   </g>\n   <g id=\"patch_89\">\n    <path clip-path=\"url(#p5b6e417699)\" d=\"M 303.895909 224.64 \nL 306.939545 224.64 \nL 306.939545 224.64 \nL 303.895909 224.64 \nz\n\" style=\"fill:#8dd3c7;\"/>\n   </g>\n   <g id=\"patch_90\">\n    <path clip-path=\"url(#p5b6e417699)\" d=\"M 306.939545 224.64 \nL 309.983182 224.64 \nL 309.983182 213.135238 \nL 306.939545 213.135238 \nz\n\" style=\"fill:#8dd3c7;\"/>\n   </g>\n   <g id=\"patch_91\">\n    <path clip-path=\"url(#p5b6e417699)\" d=\"M 309.983182 224.64 \nL 313.026818 224.64 \nL 313.026818 207.382857 \nL 309.983182 207.382857 \nz\n\" style=\"fill:#8dd3c7;\"/>\n   </g>\n   <g id=\"patch_92\">\n    <path clip-path=\"url(#p5b6e417699)\" d=\"M 313.026818 224.64 \nL 316.070455 224.64 \nL 316.070455 195.878095 \nL 313.026818 195.878095 \nz\n\" style=\"fill:#8dd3c7;\"/>\n   </g>\n   <g id=\"patch_93\">\n    <path clip-path=\"url(#p5b6e417699)\" d=\"M 316.070455 224.64 \nL 319.114091 224.64 \nL 319.114091 195.878095 \nL 316.070455 195.878095 \nz\n\" style=\"fill:#8dd3c7;\"/>\n   </g>\n   <g id=\"patch_94\">\n    <path clip-path=\"url(#p5b6e417699)\" d=\"M 319.114091 224.64 \nL 322.157727 224.64 \nL 322.157727 213.135238 \nL 319.114091 213.135238 \nz\n\" style=\"fill:#8dd3c7;\"/>\n   </g>\n   <g id=\"patch_95\">\n    <path clip-path=\"url(#p5b6e417699)\" d=\"M 322.157727 224.64 \nL 325.201364 224.64 \nL 325.201364 224.64 \nL 322.157727 224.64 \nz\n\" style=\"fill:#8dd3c7;\"/>\n   </g>\n   <g id=\"patch_96\">\n    <path clip-path=\"url(#p5b6e417699)\" d=\"M 325.201364 224.64 \nL 328.245 224.64 \nL 328.245 224.64 \nL 325.201364 224.64 \nz\n\" style=\"fill:#8dd3c7;\"/>\n   </g>\n   <g id=\"patch_97\">\n    <path clip-path=\"url(#p5b6e417699)\" d=\"M 328.245 224.64 \nL 331.288636 224.64 \nL 331.288636 224.64 \nL 328.245 224.64 \nz\n\" style=\"fill:#8dd3c7;\"/>\n   </g>\n   <g id=\"patch_98\">\n    <path clip-path=\"url(#p5b6e417699)\" d=\"M 331.288636 224.64 \nL 334.332273 224.64 \nL 334.332273 224.64 \nL 331.288636 224.64 \nz\n\" style=\"fill:#8dd3c7;\"/>\n   </g>\n   <g id=\"patch_99\">\n    <path clip-path=\"url(#p5b6e417699)\" d=\"M 334.332273 224.64 \nL 337.375909 224.64 \nL 337.375909 213.135238 \nL 334.332273 213.135238 \nz\n\" style=\"fill:#8dd3c7;\"/>\n   </g>\n   <g id=\"patch_100\">\n    <path clip-path=\"url(#p5b6e417699)\" d=\"M 337.375909 224.64 \nL 340.419545 224.64 \nL 340.419545 218.887619 \nL 337.375909 218.887619 \nz\n\" style=\"fill:#8dd3c7;\"/>\n   </g>\n   <g id=\"patch_101\">\n    <path clip-path=\"url(#p5b6e417699)\" d=\"M 340.419545 224.64 \nL 343.463182 224.64 \nL 343.463182 207.382857 \nL 340.419545 207.382857 \nz\n\" style=\"fill:#8dd3c7;\"/>\n   </g>\n   <g id=\"patch_102\">\n    <path clip-path=\"url(#p5b6e417699)\" d=\"M 343.463182 224.64 \nL 346.506818 224.64 \nL 346.506818 207.382857 \nL 343.463182 207.382857 \nz\n\" style=\"fill:#8dd3c7;\"/>\n   </g>\n   <g id=\"matplotlib.axis_1\">\n    <g id=\"xtick_1\">\n     <g id=\"line2d_1\">\n      <defs>\n       <path d=\"M 0 0 \nL 0 3.5 \n\" id=\"m5d4b083610\" style=\"stroke:#ffffff;stroke-width:0.8;\"/>\n      </defs>\n      <g>\n       <use style=\"fill:#ffffff;stroke:#ffffff;stroke-width:0.8;\" x=\"38.993728\" xlink:href=\"#m5d4b083610\" y=\"224.64\"/>\n      </g>\n     </g>\n     <g id=\"text_1\">\n      <!-- 0 -->\n      <g style=\"fill:#ffffff;\" transform=\"translate(35.812478 239.238437)scale(0.1 -0.1)\">\n       <defs>\n        <path d=\"M 2034 4250 \nQ 1547 4250 1301 3770 \nQ 1056 3291 1056 2328 \nQ 1056 1369 1301 889 \nQ 1547 409 2034 409 \nQ 2525 409 2770 889 \nQ 3016 1369 3016 2328 \nQ 3016 3291 2770 3770 \nQ 2525 4250 2034 4250 \nz\nM 2034 4750 \nQ 2819 4750 3233 4129 \nQ 3647 3509 3647 2328 \nQ 3647 1150 3233 529 \nQ 2819 -91 2034 -91 \nQ 1250 -91 836 529 \nQ 422 1150 422 2328 \nQ 422 3509 836 4129 \nQ 1250 4750 2034 4750 \nz\n\" id=\"DejaVuSans-30\" transform=\"scale(0.015625)\"/>\n       </defs>\n       <use xlink:href=\"#DejaVuSans-30\"/>\n      </g>\n     </g>\n    </g>\n    <g id=\"xtick_2\">\n     <g id=\"line2d_2\">\n      <g>\n       <use style=\"fill:#ffffff;stroke:#ffffff;stroke-width:0.8;\" x=\"97.980557\" xlink:href=\"#m5d4b083610\" y=\"224.64\"/>\n      </g>\n     </g>\n     <g id=\"text_2\">\n      <!-- 200 -->\n      <g style=\"fill:#ffffff;\" transform=\"translate(88.436807 239.238437)scale(0.1 -0.1)\">\n       <defs>\n        <path d=\"M 1228 531 \nL 3431 531 \nL 3431 0 \nL 469 0 \nL 469 531 \nQ 828 903 1448 1529 \nQ 2069 2156 2228 2338 \nQ 2531 2678 2651 2914 \nQ 2772 3150 2772 3378 \nQ 2772 3750 2511 3984 \nQ 2250 4219 1831 4219 \nQ 1534 4219 1204 4116 \nQ 875 4013 500 3803 \nL 500 4441 \nQ 881 4594 1212 4672 \nQ 1544 4750 1819 4750 \nQ 2544 4750 2975 4387 \nQ 3406 4025 3406 3419 \nQ 3406 3131 3298 2873 \nQ 3191 2616 2906 2266 \nQ 2828 2175 2409 1742 \nQ 1991 1309 1228 531 \nz\n\" id=\"DejaVuSans-32\" transform=\"scale(0.015625)\"/>\n       </defs>\n       <use xlink:href=\"#DejaVuSans-32\"/>\n       <use x=\"63.623047\" xlink:href=\"#DejaVuSans-30\"/>\n       <use x=\"127.246094\" xlink:href=\"#DejaVuSans-30\"/>\n      </g>\n     </g>\n    </g>\n    <g id=\"xtick_3\">\n     <g id=\"line2d_3\">\n      <g>\n       <use style=\"fill:#ffffff;stroke:#ffffff;stroke-width:0.8;\" x=\"156.967387\" xlink:href=\"#m5d4b083610\" y=\"224.64\"/>\n      </g>\n     </g>\n     <g id=\"text_3\">\n      <!-- 400 -->\n      <g style=\"fill:#ffffff;\" transform=\"translate(147.423637 239.238437)scale(0.1 -0.1)\">\n       <defs>\n        <path d=\"M 2419 4116 \nL 825 1625 \nL 2419 1625 \nL 2419 4116 \nz\nM 2253 4666 \nL 3047 4666 \nL 3047 1625 \nL 3713 1625 \nL 3713 1100 \nL 3047 1100 \nL 3047 0 \nL 2419 0 \nL 2419 1100 \nL 313 1100 \nL 313 1709 \nL 2253 4666 \nz\n\" id=\"DejaVuSans-34\" transform=\"scale(0.015625)\"/>\n       </defs>\n       <use xlink:href=\"#DejaVuSans-34\"/>\n       <use x=\"63.623047\" xlink:href=\"#DejaVuSans-30\"/>\n       <use x=\"127.246094\" xlink:href=\"#DejaVuSans-30\"/>\n      </g>\n     </g>\n    </g>\n    <g id=\"xtick_4\">\n     <g id=\"line2d_4\">\n      <g>\n       <use style=\"fill:#ffffff;stroke:#ffffff;stroke-width:0.8;\" x=\"215.954217\" xlink:href=\"#m5d4b083610\" y=\"224.64\"/>\n      </g>\n     </g>\n     <g id=\"text_4\">\n      <!-- 600 -->\n      <g style=\"fill:#ffffff;\" transform=\"translate(206.410467 239.238437)scale(0.1 -0.1)\">\n       <defs>\n        <path d=\"M 2113 2584 \nQ 1688 2584 1439 2293 \nQ 1191 2003 1191 1497 \nQ 1191 994 1439 701 \nQ 1688 409 2113 409 \nQ 2538 409 2786 701 \nQ 3034 994 3034 1497 \nQ 3034 2003 2786 2293 \nQ 2538 2584 2113 2584 \nz\nM 3366 4563 \nL 3366 3988 \nQ 3128 4100 2886 4159 \nQ 2644 4219 2406 4219 \nQ 1781 4219 1451 3797 \nQ 1122 3375 1075 2522 \nQ 1259 2794 1537 2939 \nQ 1816 3084 2150 3084 \nQ 2853 3084 3261 2657 \nQ 3669 2231 3669 1497 \nQ 3669 778 3244 343 \nQ 2819 -91 2113 -91 \nQ 1303 -91 875 529 \nQ 447 1150 447 2328 \nQ 447 3434 972 4092 \nQ 1497 4750 2381 4750 \nQ 2619 4750 2861 4703 \nQ 3103 4656 3366 4563 \nz\n\" id=\"DejaVuSans-36\" transform=\"scale(0.015625)\"/>\n       </defs>\n       <use xlink:href=\"#DejaVuSans-36\"/>\n       <use x=\"63.623047\" xlink:href=\"#DejaVuSans-30\"/>\n       <use x=\"127.246094\" xlink:href=\"#DejaVuSans-30\"/>\n      </g>\n     </g>\n    </g>\n    <g id=\"xtick_5\">\n     <g id=\"line2d_5\">\n      <g>\n       <use style=\"fill:#ffffff;stroke:#ffffff;stroke-width:0.8;\" x=\"274.941047\" xlink:href=\"#m5d4b083610\" y=\"224.64\"/>\n      </g>\n     </g>\n     <g id=\"text_5\">\n      <!-- 800 -->\n      <g style=\"fill:#ffffff;\" transform=\"translate(265.397297 239.238437)scale(0.1 -0.1)\">\n       <defs>\n        <path d=\"M 2034 2216 \nQ 1584 2216 1326 1975 \nQ 1069 1734 1069 1313 \nQ 1069 891 1326 650 \nQ 1584 409 2034 409 \nQ 2484 409 2743 651 \nQ 3003 894 3003 1313 \nQ 3003 1734 2745 1975 \nQ 2488 2216 2034 2216 \nz\nM 1403 2484 \nQ 997 2584 770 2862 \nQ 544 3141 544 3541 \nQ 544 4100 942 4425 \nQ 1341 4750 2034 4750 \nQ 2731 4750 3128 4425 \nQ 3525 4100 3525 3541 \nQ 3525 3141 3298 2862 \nQ 3072 2584 2669 2484 \nQ 3125 2378 3379 2068 \nQ 3634 1759 3634 1313 \nQ 3634 634 3220 271 \nQ 2806 -91 2034 -91 \nQ 1263 -91 848 271 \nQ 434 634 434 1313 \nQ 434 1759 690 2068 \nQ 947 2378 1403 2484 \nz\nM 1172 3481 \nQ 1172 3119 1398 2916 \nQ 1625 2713 2034 2713 \nQ 2441 2713 2670 2916 \nQ 2900 3119 2900 3481 \nQ 2900 3844 2670 4047 \nQ 2441 4250 2034 4250 \nQ 1625 4250 1398 4047 \nQ 1172 3844 1172 3481 \nz\n\" id=\"DejaVuSans-38\" transform=\"scale(0.015625)\"/>\n       </defs>\n       <use xlink:href=\"#DejaVuSans-38\"/>\n       <use x=\"63.623047\" xlink:href=\"#DejaVuSans-30\"/>\n       <use x=\"127.246094\" xlink:href=\"#DejaVuSans-30\"/>\n      </g>\n     </g>\n    </g>\n    <g id=\"xtick_6\">\n     <g id=\"line2d_6\">\n      <g>\n       <use style=\"fill:#ffffff;stroke:#ffffff;stroke-width:0.8;\" x=\"333.927877\" xlink:href=\"#m5d4b083610\" y=\"224.64\"/>\n      </g>\n     </g>\n     <g id=\"text_6\">\n      <!-- 1000 -->\n      <g style=\"fill:#ffffff;\" transform=\"translate(321.202877 239.238437)scale(0.1 -0.1)\">\n       <defs>\n        <path d=\"M 794 531 \nL 1825 531 \nL 1825 4091 \nL 703 3866 \nL 703 4441 \nL 1819 4666 \nL 2450 4666 \nL 2450 531 \nL 3481 531 \nL 3481 0 \nL 794 0 \nL 794 531 \nz\n\" id=\"DejaVuSans-31\" transform=\"scale(0.015625)\"/>\n       </defs>\n       <use xlink:href=\"#DejaVuSans-31\"/>\n       <use x=\"63.623047\" xlink:href=\"#DejaVuSans-30\"/>\n       <use x=\"127.246094\" xlink:href=\"#DejaVuSans-30\"/>\n       <use x=\"190.869141\" xlink:href=\"#DejaVuSans-30\"/>\n      </g>\n     </g>\n    </g>\n   </g>\n   <g id=\"matplotlib.axis_2\">\n    <g id=\"ytick_1\">\n     <g id=\"line2d_7\">\n      <defs>\n       <path d=\"M 0 0 \nL -3.5 0 \n\" id=\"m4ce4e0132b\" style=\"stroke:#ffffff;stroke-width:0.8;\"/>\n      </defs>\n      <g>\n       <use style=\"fill:#ffffff;stroke:#ffffff;stroke-width:0.8;\" x=\"26.925\" xlink:href=\"#m4ce4e0132b\" y=\"224.64\"/>\n      </g>\n     </g>\n     <g id=\"text_7\">\n      <!-- 0 -->\n      <g style=\"fill:#ffffff;\" transform=\"translate(13.5625 228.439219)scale(0.1 -0.1)\">\n       <use xlink:href=\"#DejaVuSans-30\"/>\n      </g>\n     </g>\n    </g>\n    <g id=\"ytick_2\">\n     <g id=\"line2d_8\">\n      <g>\n       <use style=\"fill:#ffffff;stroke:#ffffff;stroke-width:0.8;\" x=\"26.925\" xlink:href=\"#m4ce4e0132b\" y=\"195.878095\"/>\n      </g>\n     </g>\n     <g id=\"text_8\">\n      <!-- 5 -->\n      <g style=\"fill:#ffffff;\" transform=\"translate(13.5625 199.677314)scale(0.1 -0.1)\">\n       <defs>\n        <path d=\"M 691 4666 \nL 3169 4666 \nL 3169 4134 \nL 1269 4134 \nL 1269 2991 \nQ 1406 3038 1543 3061 \nQ 1681 3084 1819 3084 \nQ 2600 3084 3056 2656 \nQ 3513 2228 3513 1497 \nQ 3513 744 3044 326 \nQ 2575 -91 1722 -91 \nQ 1428 -91 1123 -41 \nQ 819 9 494 109 \nL 494 744 \nQ 775 591 1075 516 \nQ 1375 441 1709 441 \nQ 2250 441 2565 725 \nQ 2881 1009 2881 1497 \nQ 2881 1984 2565 2268 \nQ 2250 2553 1709 2553 \nQ 1456 2553 1204 2497 \nQ 953 2441 691 2322 \nL 691 4666 \nz\n\" id=\"DejaVuSans-35\" transform=\"scale(0.015625)\"/>\n       </defs>\n       <use xlink:href=\"#DejaVuSans-35\"/>\n      </g>\n     </g>\n    </g>\n    <g id=\"ytick_3\">\n     <g id=\"line2d_9\">\n      <g>\n       <use style=\"fill:#ffffff;stroke:#ffffff;stroke-width:0.8;\" x=\"26.925\" xlink:href=\"#m4ce4e0132b\" y=\"167.11619\"/>\n      </g>\n     </g>\n     <g id=\"text_9\">\n      <!-- 10 -->\n      <g style=\"fill:#ffffff;\" transform=\"translate(7.2 170.915409)scale(0.1 -0.1)\">\n       <use xlink:href=\"#DejaVuSans-31\"/>\n       <use x=\"63.623047\" xlink:href=\"#DejaVuSans-30\"/>\n      </g>\n     </g>\n    </g>\n    <g id=\"ytick_4\">\n     <g id=\"line2d_10\">\n      <g>\n       <use style=\"fill:#ffffff;stroke:#ffffff;stroke-width:0.8;\" x=\"26.925\" xlink:href=\"#m4ce4e0132b\" y=\"138.354286\"/>\n      </g>\n     </g>\n     <g id=\"text_10\">\n      <!-- 15 -->\n      <g style=\"fill:#ffffff;\" transform=\"translate(7.2 142.153504)scale(0.1 -0.1)\">\n       <use xlink:href=\"#DejaVuSans-31\"/>\n       <use x=\"63.623047\" xlink:href=\"#DejaVuSans-35\"/>\n      </g>\n     </g>\n    </g>\n    <g id=\"ytick_5\">\n     <g id=\"line2d_11\">\n      <g>\n       <use style=\"fill:#ffffff;stroke:#ffffff;stroke-width:0.8;\" x=\"26.925\" xlink:href=\"#m4ce4e0132b\" y=\"109.592381\"/>\n      </g>\n     </g>\n     <g id=\"text_11\">\n      <!-- 20 -->\n      <g style=\"fill:#ffffff;\" transform=\"translate(7.2 113.3916)scale(0.1 -0.1)\">\n       <use xlink:href=\"#DejaVuSans-32\"/>\n       <use x=\"63.623047\" xlink:href=\"#DejaVuSans-30\"/>\n      </g>\n     </g>\n    </g>\n    <g id=\"ytick_6\">\n     <g id=\"line2d_12\">\n      <g>\n       <use style=\"fill:#ffffff;stroke:#ffffff;stroke-width:0.8;\" x=\"26.925\" xlink:href=\"#m4ce4e0132b\" y=\"80.830476\"/>\n      </g>\n     </g>\n     <g id=\"text_12\">\n      <!-- 25 -->\n      <g style=\"fill:#ffffff;\" transform=\"translate(7.2 84.629695)scale(0.1 -0.1)\">\n       <use xlink:href=\"#DejaVuSans-32\"/>\n       <use x=\"63.623047\" xlink:href=\"#DejaVuSans-35\"/>\n      </g>\n     </g>\n    </g>\n    <g id=\"ytick_7\">\n     <g id=\"line2d_13\">\n      <g>\n       <use style=\"fill:#ffffff;stroke:#ffffff;stroke-width:0.8;\" x=\"26.925\" xlink:href=\"#m4ce4e0132b\" y=\"52.068571\"/>\n      </g>\n     </g>\n     <g id=\"text_13\">\n      <!-- 30 -->\n      <g style=\"fill:#ffffff;\" transform=\"translate(7.2 55.86779)scale(0.1 -0.1)\">\n       <defs>\n        <path d=\"M 2597 2516 \nQ 3050 2419 3304 2112 \nQ 3559 1806 3559 1356 \nQ 3559 666 3084 287 \nQ 2609 -91 1734 -91 \nQ 1441 -91 1130 -33 \nQ 819 25 488 141 \nL 488 750 \nQ 750 597 1062 519 \nQ 1375 441 1716 441 \nQ 2309 441 2620 675 \nQ 2931 909 2931 1356 \nQ 2931 1769 2642 2001 \nQ 2353 2234 1838 2234 \nL 1294 2234 \nL 1294 2753 \nL 1863 2753 \nQ 2328 2753 2575 2939 \nQ 2822 3125 2822 3475 \nQ 2822 3834 2567 4026 \nQ 2313 4219 1838 4219 \nQ 1578 4219 1281 4162 \nQ 984 4106 628 3988 \nL 628 4550 \nQ 988 4650 1302 4700 \nQ 1616 4750 1894 4750 \nQ 2613 4750 3031 4423 \nQ 3450 4097 3450 3541 \nQ 3450 3153 3228 2886 \nQ 3006 2619 2597 2516 \nz\n\" id=\"DejaVuSans-33\" transform=\"scale(0.015625)\"/>\n       </defs>\n       <use xlink:href=\"#DejaVuSans-33\"/>\n       <use x=\"63.623047\" xlink:href=\"#DejaVuSans-30\"/>\n      </g>\n     </g>\n    </g>\n    <g id=\"ytick_8\">\n     <g id=\"line2d_14\">\n      <g>\n       <use style=\"fill:#ffffff;stroke:#ffffff;stroke-width:0.8;\" x=\"26.925\" xlink:href=\"#m4ce4e0132b\" y=\"23.306667\"/>\n      </g>\n     </g>\n     <g id=\"text_14\">\n      <!-- 35 -->\n      <g style=\"fill:#ffffff;\" transform=\"translate(7.2 27.105885)scale(0.1 -0.1)\">\n       <use xlink:href=\"#DejaVuSans-33\"/>\n       <use x=\"63.623047\" xlink:href=\"#DejaVuSans-35\"/>\n      </g>\n     </g>\n    </g>\n   </g>\n   <g id=\"patch_103\">\n    <path d=\"M 26.925 224.64 \nL 26.925 7.2 \n\" style=\"fill:none;stroke:#ffffff;stroke-linecap:square;stroke-linejoin:miter;stroke-width:0.8;\"/>\n   </g>\n   <g id=\"patch_104\">\n    <path d=\"M 361.725 224.64 \nL 361.725 7.2 \n\" style=\"fill:none;stroke:#ffffff;stroke-linecap:square;stroke-linejoin:miter;stroke-width:0.8;\"/>\n   </g>\n   <g id=\"patch_105\">\n    <path d=\"M 26.925 224.64 \nL 361.725 224.64 \n\" style=\"fill:none;stroke:#ffffff;stroke-linecap:square;stroke-linejoin:miter;stroke-width:0.8;\"/>\n   </g>\n   <g id=\"patch_106\">\n    <path d=\"M 26.925 7.2 \nL 361.725 7.2 \n\" style=\"fill:none;stroke:#ffffff;stroke-linecap:square;stroke-linejoin:miter;stroke-width:0.8;\"/>\n   </g>\n  </g>\n </g>\n <defs>\n  <clipPath id=\"p5b6e417699\">\n   <rect height=\"217.44\" width=\"334.8\" x=\"26.925\" y=\"7.2\"/>\n  </clipPath>\n </defs>\n</svg>\n",
      "text/plain": [
       "<Figure size 432x288 with 1 Axes>"
      ]
     },
     "metadata": {},
     "output_type": "display_data"
    }
   ],
   "source": [
    "# Let's see distribution on column gross_income\n",
    "plt.hist(df['total'], bins=100)\n",
    "plt.show()"
   ]
  },
  {
   "cell_type": "code",
   "execution_count": 50,
   "metadata": {},
   "outputs": [
    {
     "data": {
      "text/html": [
       "<div>\n",
       "<style scoped>\n",
       "    .dataframe tbody tr th:only-of-type {\n",
       "        vertical-align: middle;\n",
       "    }\n",
       "\n",
       "    .dataframe tbody tr th {\n",
       "        vertical-align: top;\n",
       "    }\n",
       "\n",
       "    .dataframe thead th {\n",
       "        text-align: right;\n",
       "    }\n",
       "</style>\n",
       "<table border=\"1\" class=\"dataframe\">\n",
       "  <thead>\n",
       "    <tr style=\"text-align: right;\">\n",
       "      <th></th>\n",
       "      <th>month</th>\n",
       "      <th>total</th>\n",
       "    </tr>\n",
       "  </thead>\n",
       "  <tbody>\n",
       "    <tr>\n",
       "      <th>0</th>\n",
       "      <td>1</td>\n",
       "      <td>330.374625</td>\n",
       "    </tr>\n",
       "    <tr>\n",
       "      <th>1</th>\n",
       "      <td>2</td>\n",
       "      <td>320.856020</td>\n",
       "    </tr>\n",
       "    <tr>\n",
       "      <th>2</th>\n",
       "      <td>3</td>\n",
       "      <td>317.262339</td>\n",
       "    </tr>\n",
       "  </tbody>\n",
       "</table>\n",
       "</div>"
      ],
      "text/plain": [
       "   month       total\n",
       "0      1  330.374625\n",
       "1      2  320.856020\n",
       "2      3  317.262339"
      ]
     },
     "execution_count": 50,
     "metadata": {},
     "output_type": "execute_result"
    }
   ],
   "source": [
    "# Calculate the gross income each month\n",
    "avg_gross_inc = df.groupby('month')['total'].mean().reset_index()\n",
    "avg_gross_inc"
   ]
  },
  {
   "cell_type": "code",
   "execution_count": 51,
   "metadata": {},
   "outputs": [
    {
     "data": {
      "text/plain": [
       "<AxesSubplot:>"
      ]
     },
     "execution_count": 51,
     "metadata": {},
     "output_type": "execute_result"
    },
    {
     "data": {
      "image/png": "[encoded data removed]",
      "image/svg+xml": "<?xml version=\"1.0\" encoding=\"utf-8\" standalone=\"no\"?>\n<!DOCTYPE svg PUBLIC \"-//W3C//DTD SVG 1.1//EN\"\n  \"http://www.w3.org/Graphics/SVG/1.1/DTD/svg11.dtd\">\n<svg height=\"248.518125pt\" version=\"1.1\" viewBox=\"0 0 379.065625 248.518125\" width=\"379.065625pt\" xmlns=\"http://www.w3.org/2000/svg\" xmlns:xlink=\"http://www.w3.org/1999/xlink\">\n <metadata>\n  <rdf:RDF xmlns:cc=\"http://creativecommons.org/ns#\" xmlns:dc=\"http://purl.org/dc/elements/1.1/\" xmlns:rdf=\"http://www.w3.org/1999/02/22-rdf-syntax-ns#\">\n   <cc:Work>\n    <dc:type rdf:resource=\"http://purl.org/dc/dcmitype/StillImage\"/>\n    <dc:date>2021-11-12T11:32:38.668874</dc:date>\n    <dc:format>image/svg+xml</dc:format>\n    <dc:creator>\n     <cc:Agent>\n      <dc:title>Matplotlib v3.4.3, https://matplotlib.org/</dc:title>\n     </cc:Agent>\n    </dc:creator>\n   </cc:Work>\n  </rdf:RDF>\n </metadata>\n <defs>\n  <style type=\"text/css\">*{stroke-linecap:butt;stroke-linejoin:round;}</style>\n </defs>\n <g id=\"figure_1\">\n  <g id=\"patch_1\">\n   <path d=\"M 0 248.518125 \nL 379.065625 248.518125 \nL 379.065625 0 \nL 0 0 \nz\n\"/>\n  </g>\n  <g id=\"axes_1\">\n   <g id=\"patch_2\">\n    <path d=\"M 37.065625 224.64 \nL 371.865625 224.64 \nL 371.865625 7.2 \nL 37.065625 7.2 \nz\n\"/>\n   </g>\n   <g id=\"matplotlib.axis_1\">\n    <g id=\"xtick_1\">\n     <g id=\"line2d_1\">\n      <path clip-path=\"url(#p01405198e7)\" d=\"M 49.134353 224.64 \nL 49.134353 7.2 \n\" style=\"fill:none;stroke:#ffffff;stroke-linecap:square;stroke-width:0.8;\"/>\n     </g>\n     <g id=\"line2d_2\">\n      <defs>\n       <path d=\"M 0 0 \nL 0 3.5 \n\" id=\"mf25f6ef66f\" style=\"stroke:#ffffff;stroke-width:0.8;\"/>\n      </defs>\n      <g>\n       <use style=\"fill:#ffffff;stroke:#ffffff;stroke-width:0.8;\" x=\"49.134353\" xlink:href=\"#mf25f6ef66f\" y=\"224.64\"/>\n      </g>\n     </g>\n     <g id=\"text_1\">\n      <!-- 0 -->\n      <g style=\"fill:#ffffff;\" transform=\"translate(45.953103 239.238437)scale(0.1 -0.1)\">\n       <defs>\n        <path d=\"M 2034 4250 \nQ 1547 4250 1301 3770 \nQ 1056 3291 1056 2328 \nQ 1056 1369 1301 889 \nQ 1547 409 2034 409 \nQ 2525 409 2770 889 \nQ 3016 1369 3016 2328 \nQ 3016 3291 2770 3770 \nQ 2525 4250 2034 4250 \nz\nM 2034 4750 \nQ 2819 4750 3233 4129 \nQ 3647 3509 3647 2328 \nQ 3647 1150 3233 529 \nQ 2819 -91 2034 -91 \nQ 1250 -91 836 529 \nQ 422 1150 422 2328 \nQ 422 3509 836 4129 \nQ 1250 4750 2034 4750 \nz\n\" id=\"DejaVuSans-30\" transform=\"scale(0.015625)\"/>\n       </defs>\n       <use xlink:href=\"#DejaVuSans-30\"/>\n      </g>\n     </g>\n    </g>\n    <g id=\"xtick_2\">\n     <g id=\"line2d_3\">\n      <path clip-path=\"url(#p01405198e7)\" d=\"M 108.121182 224.64 \nL 108.121182 7.2 \n\" style=\"fill:none;stroke:#ffffff;stroke-linecap:square;stroke-width:0.8;\"/>\n     </g>\n     <g id=\"line2d_4\">\n      <g>\n       <use style=\"fill:#ffffff;stroke:#ffffff;stroke-width:0.8;\" x=\"108.121182\" xlink:href=\"#mf25f6ef66f\" y=\"224.64\"/>\n      </g>\n     </g>\n     <g id=\"text_2\">\n      <!-- 200 -->\n      <g style=\"fill:#ffffff;\" transform=\"translate(98.577432 239.238437)scale(0.1 -0.1)\">\n       <defs>\n        <path d=\"M 1228 531 \nL 3431 531 \nL 3431 0 \nL 469 0 \nL 469 531 \nQ 828 903 1448 1529 \nQ 2069 2156 2228 2338 \nQ 2531 2678 2651 2914 \nQ 2772 3150 2772 3378 \nQ 2772 3750 2511 3984 \nQ 2250 4219 1831 4219 \nQ 1534 4219 1204 4116 \nQ 875 4013 500 3803 \nL 500 4441 \nQ 881 4594 1212 4672 \nQ 1544 4750 1819 4750 \nQ 2544 4750 2975 4387 \nQ 3406 4025 3406 3419 \nQ 3406 3131 3298 2873 \nQ 3191 2616 2906 2266 \nQ 2828 2175 2409 1742 \nQ 1991 1309 1228 531 \nz\n\" id=\"DejaVuSans-32\" transform=\"scale(0.015625)\"/>\n       </defs>\n       <use xlink:href=\"#DejaVuSans-32\"/>\n       <use x=\"63.623047\" xlink:href=\"#DejaVuSans-30\"/>\n       <use x=\"127.246094\" xlink:href=\"#DejaVuSans-30\"/>\n      </g>\n     </g>\n    </g>\n    <g id=\"xtick_3\">\n     <g id=\"line2d_5\">\n      <path clip-path=\"url(#p01405198e7)\" d=\"M 167.108012 224.64 \nL 167.108012 7.2 \n\" style=\"fill:none;stroke:#ffffff;stroke-linecap:square;stroke-width:0.8;\"/>\n     </g>\n     <g id=\"line2d_6\">\n      <g>\n       <use style=\"fill:#ffffff;stroke:#ffffff;stroke-width:0.8;\" x=\"167.108012\" xlink:href=\"#mf25f6ef66f\" y=\"224.64\"/>\n      </g>\n     </g>\n     <g id=\"text_3\">\n      <!-- 400 -->\n      <g style=\"fill:#ffffff;\" transform=\"translate(157.564262 239.238437)scale(0.1 -0.1)\">\n       <defs>\n        <path d=\"M 2419 4116 \nL 825 1625 \nL 2419 1625 \nL 2419 4116 \nz\nM 2253 4666 \nL 3047 4666 \nL 3047 1625 \nL 3713 1625 \nL 3713 1100 \nL 3047 1100 \nL 3047 0 \nL 2419 0 \nL 2419 1100 \nL 313 1100 \nL 313 1709 \nL 2253 4666 \nz\n\" id=\"DejaVuSans-34\" transform=\"scale(0.015625)\"/>\n       </defs>\n       <use xlink:href=\"#DejaVuSans-34\"/>\n       <use x=\"63.623047\" xlink:href=\"#DejaVuSans-30\"/>\n       <use x=\"127.246094\" xlink:href=\"#DejaVuSans-30\"/>\n      </g>\n     </g>\n    </g>\n    <g id=\"xtick_4\">\n     <g id=\"line2d_7\">\n      <path clip-path=\"url(#p01405198e7)\" d=\"M 226.094842 224.64 \nL 226.094842 7.2 \n\" style=\"fill:none;stroke:#ffffff;stroke-linecap:square;stroke-width:0.8;\"/>\n     </g>\n     <g id=\"line2d_8\">\n      <g>\n       <use style=\"fill:#ffffff;stroke:#ffffff;stroke-width:0.8;\" x=\"226.094842\" xlink:href=\"#mf25f6ef66f\" y=\"224.64\"/>\n      </g>\n     </g>\n     <g id=\"text_4\">\n      <!-- 600 -->\n      <g style=\"fill:#ffffff;\" transform=\"translate(216.551092 239.238437)scale(0.1 -0.1)\">\n       <defs>\n        <path d=\"M 2113 2584 \nQ 1688 2584 1439 2293 \nQ 1191 2003 1191 1497 \nQ 1191 994 1439 701 \nQ 1688 409 2113 409 \nQ 2538 409 2786 701 \nQ 3034 994 3034 1497 \nQ 3034 2003 2786 2293 \nQ 2538 2584 2113 2584 \nz\nM 3366 4563 \nL 3366 3988 \nQ 3128 4100 2886 4159 \nQ 2644 4219 2406 4219 \nQ 1781 4219 1451 3797 \nQ 1122 3375 1075 2522 \nQ 1259 2794 1537 2939 \nQ 1816 3084 2150 3084 \nQ 2853 3084 3261 2657 \nQ 3669 2231 3669 1497 \nQ 3669 778 3244 343 \nQ 2819 -91 2113 -91 \nQ 1303 -91 875 529 \nQ 447 1150 447 2328 \nQ 447 3434 972 4092 \nQ 1497 4750 2381 4750 \nQ 2619 4750 2861 4703 \nQ 3103 4656 3366 4563 \nz\n\" id=\"DejaVuSans-36\" transform=\"scale(0.015625)\"/>\n       </defs>\n       <use xlink:href=\"#DejaVuSans-36\"/>\n       <use x=\"63.623047\" xlink:href=\"#DejaVuSans-30\"/>\n       <use x=\"127.246094\" xlink:href=\"#DejaVuSans-30\"/>\n      </g>\n     </g>\n    </g>\n    <g id=\"xtick_5\">\n     <g id=\"line2d_9\">\n      <path clip-path=\"url(#p01405198e7)\" d=\"M 285.081672 224.64 \nL 285.081672 7.2 \n\" style=\"fill:none;stroke:#ffffff;stroke-linecap:square;stroke-width:0.8;\"/>\n     </g>\n     <g id=\"line2d_10\">\n      <g>\n       <use style=\"fill:#ffffff;stroke:#ffffff;stroke-width:0.8;\" x=\"285.081672\" xlink:href=\"#mf25f6ef66f\" y=\"224.64\"/>\n      </g>\n     </g>\n     <g id=\"text_5\">\n      <!-- 800 -->\n      <g style=\"fill:#ffffff;\" transform=\"translate(275.537922 239.238437)scale(0.1 -0.1)\">\n       <defs>\n        <path d=\"M 2034 2216 \nQ 1584 2216 1326 1975 \nQ 1069 1734 1069 1313 \nQ 1069 891 1326 650 \nQ 1584 409 2034 409 \nQ 2484 409 2743 651 \nQ 3003 894 3003 1313 \nQ 3003 1734 2745 1975 \nQ 2488 2216 2034 2216 \nz\nM 1403 2484 \nQ 997 2584 770 2862 \nQ 544 3141 544 3541 \nQ 544 4100 942 4425 \nQ 1341 4750 2034 4750 \nQ 2731 4750 3128 4425 \nQ 3525 4100 3525 3541 \nQ 3525 3141 3298 2862 \nQ 3072 2584 2669 2484 \nQ 3125 2378 3379 2068 \nQ 3634 1759 3634 1313 \nQ 3634 634 3220 271 \nQ 2806 -91 2034 -91 \nQ 1263 -91 848 271 \nQ 434 634 434 1313 \nQ 434 1759 690 2068 \nQ 947 2378 1403 2484 \nz\nM 1172 3481 \nQ 1172 3119 1398 2916 \nQ 1625 2713 2034 2713 \nQ 2441 2713 2670 2916 \nQ 2900 3119 2900 3481 \nQ 2900 3844 2670 4047 \nQ 2441 4250 2034 4250 \nQ 1625 4250 1398 4047 \nQ 1172 3844 1172 3481 \nz\n\" id=\"DejaVuSans-38\" transform=\"scale(0.015625)\"/>\n       </defs>\n       <use xlink:href=\"#DejaVuSans-38\"/>\n       <use x=\"63.623047\" xlink:href=\"#DejaVuSans-30\"/>\n       <use x=\"127.246094\" xlink:href=\"#DejaVuSans-30\"/>\n      </g>\n     </g>\n    </g>\n    <g id=\"xtick_6\">\n     <g id=\"line2d_11\">\n      <path clip-path=\"url(#p01405198e7)\" d=\"M 344.068502 224.64 \nL 344.068502 7.2 \n\" style=\"fill:none;stroke:#ffffff;stroke-linecap:square;stroke-width:0.8;\"/>\n     </g>\n     <g id=\"line2d_12\">\n      <g>\n       <use style=\"fill:#ffffff;stroke:#ffffff;stroke-width:0.8;\" x=\"344.068502\" xlink:href=\"#mf25f6ef66f\" y=\"224.64\"/>\n      </g>\n     </g>\n     <g id=\"text_6\">\n      <!-- 1000 -->\n      <g style=\"fill:#ffffff;\" transform=\"translate(331.343502 239.238437)scale(0.1 -0.1)\">\n       <defs>\n        <path d=\"M 794 531 \nL 1825 531 \nL 1825 4091 \nL 703 3866 \nL 703 4441 \nL 1819 4666 \nL 2450 4666 \nL 2450 531 \nL 3481 531 \nL 3481 0 \nL 794 0 \nL 794 531 \nz\n\" id=\"DejaVuSans-31\" transform=\"scale(0.015625)\"/>\n       </defs>\n       <use xlink:href=\"#DejaVuSans-31\"/>\n       <use x=\"63.623047\" xlink:href=\"#DejaVuSans-30\"/>\n       <use x=\"127.246094\" xlink:href=\"#DejaVuSans-30\"/>\n       <use x=\"190.869141\" xlink:href=\"#DejaVuSans-30\"/>\n      </g>\n     </g>\n    </g>\n   </g>\n   <g id=\"matplotlib.axis_2\">\n    <g id=\"ytick_1\">\n     <g id=\"line2d_13\">\n      <path clip-path=\"url(#p01405198e7)\" d=\"M 37.065625 115.92 \nL 371.865625 115.92 \n\" style=\"fill:none;stroke:#ffffff;stroke-linecap:square;stroke-width:0.8;\"/>\n     </g>\n     <g id=\"line2d_14\">\n      <defs>\n       <path d=\"M 0 0 \nL -3.5 0 \n\" id=\"m56748b75bb\" style=\"stroke:#ffffff;stroke-width:0.8;\"/>\n      </defs>\n      <g>\n       <use style=\"fill:#ffffff;stroke:#ffffff;stroke-width:0.8;\" x=\"37.065625\" xlink:href=\"#m56748b75bb\" y=\"115.92\"/>\n      </g>\n     </g>\n     <g id=\"text_7\">\n      <!-- total -->\n      <g style=\"fill:#ffffff;\" transform=\"translate(7.2 119.719219)scale(0.1 -0.1)\">\n       <defs>\n        <path d=\"M 1172 4494 \nL 1172 3500 \nL 2356 3500 \nL 2356 3053 \nL 1172 3053 \nL 1172 1153 \nQ 1172 725 1289 603 \nQ 1406 481 1766 481 \nL 2356 481 \nL 2356 0 \nL 1766 0 \nQ 1100 0 847 248 \nQ 594 497 594 1153 \nL 594 3053 \nL 172 3053 \nL 172 3500 \nL 594 3500 \nL 594 4494 \nL 1172 4494 \nz\n\" id=\"DejaVuSans-74\" transform=\"scale(0.015625)\"/>\n        <path d=\"M 1959 3097 \nQ 1497 3097 1228 2736 \nQ 959 2375 959 1747 \nQ 959 1119 1226 758 \nQ 1494 397 1959 397 \nQ 2419 397 2687 759 \nQ 2956 1122 2956 1747 \nQ 2956 2369 2687 2733 \nQ 2419 3097 1959 3097 \nz\nM 1959 3584 \nQ 2709 3584 3137 3096 \nQ 3566 2609 3566 1747 \nQ 3566 888 3137 398 \nQ 2709 -91 1959 -91 \nQ 1206 -91 779 398 \nQ 353 888 353 1747 \nQ 353 2609 779 3096 \nQ 1206 3584 1959 3584 \nz\n\" id=\"DejaVuSans-6f\" transform=\"scale(0.015625)\"/>\n        <path d=\"M 2194 1759 \nQ 1497 1759 1228 1600 \nQ 959 1441 959 1056 \nQ 959 750 1161 570 \nQ 1363 391 1709 391 \nQ 2188 391 2477 730 \nQ 2766 1069 2766 1631 \nL 2766 1759 \nL 2194 1759 \nz\nM 3341 1997 \nL 3341 0 \nL 2766 0 \nL 2766 531 \nQ 2569 213 2275 61 \nQ 1981 -91 1556 -91 \nQ 1019 -91 701 211 \nQ 384 513 384 1019 \nQ 384 1609 779 1909 \nQ 1175 2209 1959 2209 \nL 2766 2209 \nL 2766 2266 \nQ 2766 2663 2505 2880 \nQ 2244 3097 1772 3097 \nQ 1472 3097 1187 3025 \nQ 903 2953 641 2809 \nL 641 3341 \nQ 956 3463 1253 3523 \nQ 1550 3584 1831 3584 \nQ 2591 3584 2966 3190 \nQ 3341 2797 3341 1997 \nz\n\" id=\"DejaVuSans-61\" transform=\"scale(0.015625)\"/>\n        <path d=\"M 603 4863 \nL 1178 4863 \nL 1178 0 \nL 603 0 \nL 603 4863 \nz\n\" id=\"DejaVuSans-6c\" transform=\"scale(0.015625)\"/>\n       </defs>\n       <use xlink:href=\"#DejaVuSans-74\"/>\n       <use x=\"39.208984\" xlink:href=\"#DejaVuSans-6f\"/>\n       <use x=\"100.390625\" xlink:href=\"#DejaVuSans-74\"/>\n       <use x=\"139.599609\" xlink:href=\"#DejaVuSans-61\"/>\n       <use x=\"200.878906\" xlink:href=\"#DejaVuSans-6c\"/>\n      </g>\n     </g>\n    </g>\n   </g>\n   <g id=\"line2d_15\">\n    <path clip-path=\"url(#p01405198e7)\" d=\"M 85.83076 132.228 \nL 85.83076 99.612 \nL 188.151637 99.612 \nL 188.151637 132.228 \nL 85.83076 132.228 \n\" style=\"fill:none;stroke:#8dd3c7;stroke-linecap:square;\"/>\n   </g>\n   <g id=\"line2d_16\">\n    <path clip-path=\"url(#p01405198e7)\" d=\"M 85.83076 115.92 \nL 52.283807 115.92 \n\" style=\"fill:none;stroke:#8dd3c7;stroke-linecap:square;\"/>\n   </g>\n   <g id=\"line2d_17\">\n    <path clip-path=\"url(#p01405198e7)\" d=\"M 188.151637 115.92 \nL 329.860049 115.92 \n\" style=\"fill:none;stroke:#8dd3c7;stroke-linecap:square;\"/>\n   </g>\n   <g id=\"line2d_18\">\n    <path clip-path=\"url(#p01405198e7)\" d=\"M 52.283807 124.074 \nL 52.283807 107.766 \n\" style=\"fill:none;stroke:#000000;stroke-linecap:square;\"/>\n   </g>\n   <g id=\"line2d_19\">\n    <path clip-path=\"url(#p01405198e7)\" d=\"M 329.860049 124.074 \nL 329.860049 107.766 \n\" style=\"fill:none;stroke:#000000;stroke-linecap:square;\"/>\n   </g>\n   <g id=\"line2d_20\">\n    <defs>\n     <path d=\"M 0 3 \nC 0.795609 3 1.55874 2.683901 2.12132 2.12132 \nC 2.683901 1.55874 3 0.795609 3 0 \nC 3 -0.795609 2.683901 -1.55874 2.12132 -2.12132 \nC 1.55874 -2.683901 0.795609 -3 0 -3 \nC -0.795609 -3 -1.55874 -2.683901 -2.12132 -2.12132 \nC -2.683901 -1.55874 -3 -0.795609 -3 0 \nC -3 0.795609 -2.683901 1.55874 -2.12132 2.12132 \nC -1.55874 2.683901 -0.795609 3 0 3 \nz\n\" id=\"m2575b85529\" style=\"stroke:#ffffff;\"/>\n    </defs>\n    <g clip-path=\"url(#p01405198e7)\">\n     <use style=\"fill-opacity:0;stroke:#ffffff;\" x=\"344.693762\" xlink:href=\"#m2575b85529\" y=\"115.92\"/>\n     <use style=\"fill-opacity:0;stroke:#ffffff;\" x=\"351.073188\" xlink:href=\"#m2575b85529\" y=\"115.92\"/>\n     <use style=\"fill-opacity:0;stroke:#ffffff;\" x=\"350.670603\" xlink:href=\"#m2575b85529\" y=\"115.92\"/>\n     <use style=\"fill-opacity:0;stroke:#ffffff;\" x=\"345.127315\" xlink:href=\"#m2575b85529\" y=\"115.92\"/>\n     <use style=\"fill-opacity:0;stroke:#ffffff;\" x=\"354.231932\" xlink:href=\"#m2575b85529\" y=\"115.92\"/>\n     <use style=\"fill-opacity:0;stroke:#ffffff;\" x=\"355.656464\" xlink:href=\"#m2575b85529\" y=\"115.92\"/>\n     <use style=\"fill-opacity:0;stroke:#ffffff;\" x=\"350.175113\" xlink:href=\"#m2575b85529\" y=\"115.92\"/>\n     <use style=\"fill-opacity:0;stroke:#ffffff;\" x=\"356.647443\" xlink:href=\"#m2575b85529\" y=\"115.92\"/>\n     <use style=\"fill-opacity:0;stroke:#ffffff;\" x=\"350.701571\" xlink:href=\"#m2575b85529\" y=\"115.92\"/>\n    </g>\n   </g>\n   <g id=\"line2d_21\">\n    <path clip-path=\"url(#p01405198e7)\" d=\"M 124.002796 132.228 \nL 124.002796 99.612 \n\" style=\"fill:none;stroke:#bfbbd9;stroke-linecap:square;\"/>\n   </g>\n   <g id=\"patch_3\">\n    <path d=\"M 37.065625 224.64 \nL 37.065625 7.2 \n\" style=\"fill:none;stroke:#ffffff;stroke-linecap:square;stroke-linejoin:miter;stroke-width:0.8;\"/>\n   </g>\n   <g id=\"patch_4\">\n    <path d=\"M 371.865625 224.64 \nL 371.865625 7.2 \n\" style=\"fill:none;stroke:#ffffff;stroke-linecap:square;stroke-linejoin:miter;stroke-width:0.8;\"/>\n   </g>\n   <g id=\"patch_5\">\n    <path d=\"M 37.065625 224.64 \nL 371.865625 224.64 \n\" style=\"fill:none;stroke:#ffffff;stroke-linecap:square;stroke-linejoin:miter;stroke-width:0.8;\"/>\n   </g>\n   <g id=\"patch_6\">\n    <path d=\"M 37.065625 7.2 \nL 371.865625 7.2 \n\" style=\"fill:none;stroke:#ffffff;stroke-linecap:square;stroke-linejoin:miter;stroke-width:0.8;\"/>\n   </g>\n  </g>\n </g>\n <defs>\n  <clipPath id=\"p01405198e7\">\n   <rect height=\"217.44\" width=\"334.8\" x=\"37.065625\" y=\"7.2\"/>\n  </clipPath>\n </defs>\n</svg>\n",
      "text/plain": [
       "<Figure size 432x288 with 1 Axes>"
      ]
     },
     "metadata": {},
     "output_type": "display_data"
    }
   ],
   "source": [
    "# Boxplot total column all months\n",
    "df.boxplot('total', vert = False)"
   ]
  },
  {
   "cell_type": "code",
   "execution_count": 52,
   "metadata": {},
   "outputs": [
    {
     "data": {
      "text/plain": [
       "<AxesSubplot:>"
      ]
     },
     "execution_count": 52,
     "metadata": {},
     "output_type": "execute_result"
    },
    {
     "data": {
      "image/png": "[encoded data removed]",
      "image/svg+xml": "<?xml version=\"1.0\" encoding=\"utf-8\" standalone=\"no\"?>\n<!DOCTYPE svg PUBLIC \"-//W3C//DTD SVG 1.1//EN\"\n  \"http://www.w3.org/Graphics/SVG/1.1/DTD/svg11.dtd\">\n<svg height=\"248.518125pt\" version=\"1.1\" viewBox=\"0 0 379.065625 248.518125\" width=\"379.065625pt\" xmlns=\"http://www.w3.org/2000/svg\" xmlns:xlink=\"http://www.w3.org/1999/xlink\">\n <metadata>\n  <rdf:RDF xmlns:cc=\"http://creativecommons.org/ns#\" xmlns:dc=\"http://purl.org/dc/elements/1.1/\" xmlns:rdf=\"http://www.w3.org/1999/02/22-rdf-syntax-ns#\">\n   <cc:Work>\n    <dc:type rdf:resource=\"http://purl.org/dc/dcmitype/StillImage\"/>\n    <dc:date>2021-11-12T11:32:38.825647</dc:date>\n    <dc:format>image/svg+xml</dc:format>\n    <dc:creator>\n     <cc:Agent>\n      <dc:title>Matplotlib v3.4.3, https://matplotlib.org/</dc:title>\n     </cc:Agent>\n    </dc:creator>\n   </cc:Work>\n  </rdf:RDF>\n </metadata>\n <defs>\n  <style type=\"text/css\">*{stroke-linecap:butt;stroke-linejoin:round;}</style>\n </defs>\n <g id=\"figure_1\">\n  <g id=\"patch_1\">\n   <path d=\"M 0 248.518125 \nL 379.065625 248.518125 \nL 379.065625 0 \nL 0 0 \nz\n\"/>\n  </g>\n  <g id=\"axes_1\">\n   <g id=\"patch_2\">\n    <path d=\"M 37.065625 224.64 \nL 371.865625 224.64 \nL 371.865625 7.2 \nL 37.065625 7.2 \nz\n\"/>\n   </g>\n   <g id=\"matplotlib.axis_1\">\n    <g id=\"xtick_1\">\n     <g id=\"line2d_1\">\n      <path clip-path=\"url(#pf3cab3e668)\" d=\"M 48.502368 224.64 \nL 48.502368 7.2 \n\" style=\"fill:none;stroke:#ffffff;stroke-linecap:square;stroke-width:0.8;\"/>\n     </g>\n     <g id=\"line2d_2\">\n      <defs>\n       <path d=\"M 0 0 \nL 0 3.5 \n\" id=\"mcf446367c4\" style=\"stroke:#ffffff;stroke-width:0.8;\"/>\n      </defs>\n      <g>\n       <use style=\"fill:#ffffff;stroke:#ffffff;stroke-width:0.8;\" x=\"48.502368\" xlink:href=\"#mcf446367c4\" y=\"224.64\"/>\n      </g>\n     </g>\n     <g id=\"text_1\">\n      <!-- 0 -->\n      <g style=\"fill:#ffffff;\" transform=\"translate(45.321118 239.238437)scale(0.1 -0.1)\">\n       <defs>\n        <path d=\"M 2034 4250 \nQ 1547 4250 1301 3770 \nQ 1056 3291 1056 2328 \nQ 1056 1369 1301 889 \nQ 1547 409 2034 409 \nQ 2525 409 2770 889 \nQ 3016 1369 3016 2328 \nQ 3016 3291 2770 3770 \nQ 2525 4250 2034 4250 \nz\nM 2034 4750 \nQ 2819 4750 3233 4129 \nQ 3647 3509 3647 2328 \nQ 3647 1150 3233 529 \nQ 2819 -91 2034 -91 \nQ 1250 -91 836 529 \nQ 422 1150 422 2328 \nQ 422 3509 836 4129 \nQ 1250 4750 2034 4750 \nz\n\" id=\"DejaVuSans-30\" transform=\"scale(0.015625)\"/>\n       </defs>\n       <use xlink:href=\"#DejaVuSans-30\"/>\n      </g>\n     </g>\n    </g>\n    <g id=\"xtick_2\">\n     <g id=\"line2d_3\">\n      <path clip-path=\"url(#pf3cab3e668)\" d=\"M 108.078393 224.64 \nL 108.078393 7.2 \n\" style=\"fill:none;stroke:#ffffff;stroke-linecap:square;stroke-width:0.8;\"/>\n     </g>\n     <g id=\"line2d_4\">\n      <g>\n       <use style=\"fill:#ffffff;stroke:#ffffff;stroke-width:0.8;\" x=\"108.078393\" xlink:href=\"#mcf446367c4\" y=\"224.64\"/>\n      </g>\n     </g>\n     <g id=\"text_2\">\n      <!-- 200 -->\n      <g style=\"fill:#ffffff;\" transform=\"translate(98.534643 239.238437)scale(0.1 -0.1)\">\n       <defs>\n        <path d=\"M 1228 531 \nL 3431 531 \nL 3431 0 \nL 469 0 \nL 469 531 \nQ 828 903 1448 1529 \nQ 2069 2156 2228 2338 \nQ 2531 2678 2651 2914 \nQ 2772 3150 2772 3378 \nQ 2772 3750 2511 3984 \nQ 2250 4219 1831 4219 \nQ 1534 4219 1204 4116 \nQ 875 4013 500 3803 \nL 500 4441 \nQ 881 4594 1212 4672 \nQ 1544 4750 1819 4750 \nQ 2544 4750 2975 4387 \nQ 3406 4025 3406 3419 \nQ 3406 3131 3298 2873 \nQ 3191 2616 2906 2266 \nQ 2828 2175 2409 1742 \nQ 1991 1309 1228 531 \nz\n\" id=\"DejaVuSans-32\" transform=\"scale(0.015625)\"/>\n       </defs>\n       <use xlink:href=\"#DejaVuSans-32\"/>\n       <use x=\"63.623047\" xlink:href=\"#DejaVuSans-30\"/>\n       <use x=\"127.246094\" xlink:href=\"#DejaVuSans-30\"/>\n      </g>\n     </g>\n    </g>\n    <g id=\"xtick_3\">\n     <g id=\"line2d_5\">\n      <path clip-path=\"url(#pf3cab3e668)\" d=\"M 167.654418 224.64 \nL 167.654418 7.2 \n\" style=\"fill:none;stroke:#ffffff;stroke-linecap:square;stroke-width:0.8;\"/>\n     </g>\n     <g id=\"line2d_6\">\n      <g>\n       <use style=\"fill:#ffffff;stroke:#ffffff;stroke-width:0.8;\" x=\"167.654418\" xlink:href=\"#mcf446367c4\" y=\"224.64\"/>\n      </g>\n     </g>\n     <g id=\"text_3\">\n      <!-- 400 -->\n      <g style=\"fill:#ffffff;\" transform=\"translate(158.110668 239.238437)scale(0.1 -0.1)\">\n       <defs>\n        <path d=\"M 2419 4116 \nL 825 1625 \nL 2419 1625 \nL 2419 4116 \nz\nM 2253 4666 \nL 3047 4666 \nL 3047 1625 \nL 3713 1625 \nL 3713 1100 \nL 3047 1100 \nL 3047 0 \nL 2419 0 \nL 2419 1100 \nL 313 1100 \nL 313 1709 \nL 2253 4666 \nz\n\" id=\"DejaVuSans-34\" transform=\"scale(0.015625)\"/>\n       </defs>\n       <use xlink:href=\"#DejaVuSans-34\"/>\n       <use x=\"63.623047\" xlink:href=\"#DejaVuSans-30\"/>\n       <use x=\"127.246094\" xlink:href=\"#DejaVuSans-30\"/>\n      </g>\n     </g>\n    </g>\n    <g id=\"xtick_4\">\n     <g id=\"line2d_7\">\n      <path clip-path=\"url(#pf3cab3e668)\" d=\"M 227.230443 224.64 \nL 227.230443 7.2 \n\" style=\"fill:none;stroke:#ffffff;stroke-linecap:square;stroke-width:0.8;\"/>\n     </g>\n     <g id=\"line2d_8\">\n      <g>\n       <use style=\"fill:#ffffff;stroke:#ffffff;stroke-width:0.8;\" x=\"227.230443\" xlink:href=\"#mcf446367c4\" y=\"224.64\"/>\n      </g>\n     </g>\n     <g id=\"text_4\">\n      <!-- 600 -->\n      <g style=\"fill:#ffffff;\" transform=\"translate(217.686693 239.238437)scale(0.1 -0.1)\">\n       <defs>\n        <path d=\"M 2113 2584 \nQ 1688 2584 1439 2293 \nQ 1191 2003 1191 1497 \nQ 1191 994 1439 701 \nQ 1688 409 2113 409 \nQ 2538 409 2786 701 \nQ 3034 994 3034 1497 \nQ 3034 2003 2786 2293 \nQ 2538 2584 2113 2584 \nz\nM 3366 4563 \nL 3366 3988 \nQ 3128 4100 2886 4159 \nQ 2644 4219 2406 4219 \nQ 1781 4219 1451 3797 \nQ 1122 3375 1075 2522 \nQ 1259 2794 1537 2939 \nQ 1816 3084 2150 3084 \nQ 2853 3084 3261 2657 \nQ 3669 2231 3669 1497 \nQ 3669 778 3244 343 \nQ 2819 -91 2113 -91 \nQ 1303 -91 875 529 \nQ 447 1150 447 2328 \nQ 447 3434 972 4092 \nQ 1497 4750 2381 4750 \nQ 2619 4750 2861 4703 \nQ 3103 4656 3366 4563 \nz\n\" id=\"DejaVuSans-36\" transform=\"scale(0.015625)\"/>\n       </defs>\n       <use xlink:href=\"#DejaVuSans-36\"/>\n       <use x=\"63.623047\" xlink:href=\"#DejaVuSans-30\"/>\n       <use x=\"127.246094\" xlink:href=\"#DejaVuSans-30\"/>\n      </g>\n     </g>\n    </g>\n    <g id=\"xtick_5\">\n     <g id=\"line2d_9\">\n      <path clip-path=\"url(#pf3cab3e668)\" d=\"M 286.806469 224.64 \nL 286.806469 7.2 \n\" style=\"fill:none;stroke:#ffffff;stroke-linecap:square;stroke-width:0.8;\"/>\n     </g>\n     <g id=\"line2d_10\">\n      <g>\n       <use style=\"fill:#ffffff;stroke:#ffffff;stroke-width:0.8;\" x=\"286.806469\" xlink:href=\"#mcf446367c4\" y=\"224.64\"/>\n      </g>\n     </g>\n     <g id=\"text_5\">\n      <!-- 800 -->\n      <g style=\"fill:#ffffff;\" transform=\"translate(277.262719 239.238437)scale(0.1 -0.1)\">\n       <defs>\n        <path d=\"M 2034 2216 \nQ 1584 2216 1326 1975 \nQ 1069 1734 1069 1313 \nQ 1069 891 1326 650 \nQ 1584 409 2034 409 \nQ 2484 409 2743 651 \nQ 3003 894 3003 1313 \nQ 3003 1734 2745 1975 \nQ 2488 2216 2034 2216 \nz\nM 1403 2484 \nQ 997 2584 770 2862 \nQ 544 3141 544 3541 \nQ 544 4100 942 4425 \nQ 1341 4750 2034 4750 \nQ 2731 4750 3128 4425 \nQ 3525 4100 3525 3541 \nQ 3525 3141 3298 2862 \nQ 3072 2584 2669 2484 \nQ 3125 2378 3379 2068 \nQ 3634 1759 3634 1313 \nQ 3634 634 3220 271 \nQ 2806 -91 2034 -91 \nQ 1263 -91 848 271 \nQ 434 634 434 1313 \nQ 434 1759 690 2068 \nQ 947 2378 1403 2484 \nz\nM 1172 3481 \nQ 1172 3119 1398 2916 \nQ 1625 2713 2034 2713 \nQ 2441 2713 2670 2916 \nQ 2900 3119 2900 3481 \nQ 2900 3844 2670 4047 \nQ 2441 4250 2034 4250 \nQ 1625 4250 1398 4047 \nQ 1172 3844 1172 3481 \nz\n\" id=\"DejaVuSans-38\" transform=\"scale(0.015625)\"/>\n       </defs>\n       <use xlink:href=\"#DejaVuSans-38\"/>\n       <use x=\"63.623047\" xlink:href=\"#DejaVuSans-30\"/>\n       <use x=\"127.246094\" xlink:href=\"#DejaVuSans-30\"/>\n      </g>\n     </g>\n    </g>\n    <g id=\"xtick_6\">\n     <g id=\"line2d_11\">\n      <path clip-path=\"url(#pf3cab3e668)\" d=\"M 346.382494 224.64 \nL 346.382494 7.2 \n\" style=\"fill:none;stroke:#ffffff;stroke-linecap:square;stroke-width:0.8;\"/>\n     </g>\n     <g id=\"line2d_12\">\n      <g>\n       <use style=\"fill:#ffffff;stroke:#ffffff;stroke-width:0.8;\" x=\"346.382494\" xlink:href=\"#mcf446367c4\" y=\"224.64\"/>\n      </g>\n     </g>\n     <g id=\"text_6\">\n      <!-- 1000 -->\n      <g style=\"fill:#ffffff;\" transform=\"translate(333.657494 239.238437)scale(0.1 -0.1)\">\n       <defs>\n        <path d=\"M 794 531 \nL 1825 531 \nL 1825 4091 \nL 703 3866 \nL 703 4441 \nL 1819 4666 \nL 2450 4666 \nL 2450 531 \nL 3481 531 \nL 3481 0 \nL 794 0 \nL 794 531 \nz\n\" id=\"DejaVuSans-31\" transform=\"scale(0.015625)\"/>\n       </defs>\n       <use xlink:href=\"#DejaVuSans-31\"/>\n       <use x=\"63.623047\" xlink:href=\"#DejaVuSans-30\"/>\n       <use x=\"127.246094\" xlink:href=\"#DejaVuSans-30\"/>\n       <use x=\"190.869141\" xlink:href=\"#DejaVuSans-30\"/>\n      </g>\n     </g>\n    </g>\n   </g>\n   <g id=\"matplotlib.axis_2\">\n    <g id=\"ytick_1\">\n     <g id=\"line2d_13\">\n      <path clip-path=\"url(#pf3cab3e668)\" d=\"M 37.065625 115.92 \nL 371.865625 115.92 \n\" style=\"fill:none;stroke:#ffffff;stroke-linecap:square;stroke-width:0.8;\"/>\n     </g>\n     <g id=\"line2d_14\">\n      <defs>\n       <path d=\"M 0 0 \nL -3.5 0 \n\" id=\"m652d31c182\" style=\"stroke:#ffffff;stroke-width:0.8;\"/>\n      </defs>\n      <g>\n       <use style=\"fill:#ffffff;stroke:#ffffff;stroke-width:0.8;\" x=\"37.065625\" xlink:href=\"#m652d31c182\" y=\"115.92\"/>\n      </g>\n     </g>\n     <g id=\"text_7\">\n      <!-- total -->\n      <g style=\"fill:#ffffff;\" transform=\"translate(7.2 119.719219)scale(0.1 -0.1)\">\n       <defs>\n        <path d=\"M 1172 4494 \nL 1172 3500 \nL 2356 3500 \nL 2356 3053 \nL 1172 3053 \nL 1172 1153 \nQ 1172 725 1289 603 \nQ 1406 481 1766 481 \nL 2356 481 \nL 2356 0 \nL 1766 0 \nQ 1100 0 847 248 \nQ 594 497 594 1153 \nL 594 3053 \nL 172 3053 \nL 172 3500 \nL 594 3500 \nL 594 4494 \nL 1172 4494 \nz\n\" id=\"DejaVuSans-74\" transform=\"scale(0.015625)\"/>\n        <path d=\"M 1959 3097 \nQ 1497 3097 1228 2736 \nQ 959 2375 959 1747 \nQ 959 1119 1226 758 \nQ 1494 397 1959 397 \nQ 2419 397 2687 759 \nQ 2956 1122 2956 1747 \nQ 2956 2369 2687 2733 \nQ 2419 3097 1959 3097 \nz\nM 1959 3584 \nQ 2709 3584 3137 3096 \nQ 3566 2609 3566 1747 \nQ 3566 888 3137 398 \nQ 2709 -91 1959 -91 \nQ 1206 -91 779 398 \nQ 353 888 353 1747 \nQ 353 2609 779 3096 \nQ 1206 3584 1959 3584 \nz\n\" id=\"DejaVuSans-6f\" transform=\"scale(0.015625)\"/>\n        <path d=\"M 2194 1759 \nQ 1497 1759 1228 1600 \nQ 959 1441 959 1056 \nQ 959 750 1161 570 \nQ 1363 391 1709 391 \nQ 2188 391 2477 730 \nQ 2766 1069 2766 1631 \nL 2766 1759 \nL 2194 1759 \nz\nM 3341 1997 \nL 3341 0 \nL 2766 0 \nL 2766 531 \nQ 2569 213 2275 61 \nQ 1981 -91 1556 -91 \nQ 1019 -91 701 211 \nQ 384 513 384 1019 \nQ 384 1609 779 1909 \nQ 1175 2209 1959 2209 \nL 2766 2209 \nL 2766 2266 \nQ 2766 2663 2505 2880 \nQ 2244 3097 1772 3097 \nQ 1472 3097 1187 3025 \nQ 903 2953 641 2809 \nL 641 3341 \nQ 956 3463 1253 3523 \nQ 1550 3584 1831 3584 \nQ 2591 3584 2966 3190 \nQ 3341 2797 3341 1997 \nz\n\" id=\"DejaVuSans-61\" transform=\"scale(0.015625)\"/>\n        <path d=\"M 603 4863 \nL 1178 4863 \nL 1178 0 \nL 603 0 \nL 603 4863 \nz\n\" id=\"DejaVuSans-6c\" transform=\"scale(0.015625)\"/>\n       </defs>\n       <use xlink:href=\"#DejaVuSans-74\"/>\n       <use x=\"39.208984\" xlink:href=\"#DejaVuSans-6f\"/>\n       <use x=\"100.390625\" xlink:href=\"#DejaVuSans-74\"/>\n       <use x=\"139.599609\" xlink:href=\"#DejaVuSans-61\"/>\n       <use x=\"200.878906\" xlink:href=\"#DejaVuSans-6c\"/>\n      </g>\n     </g>\n    </g>\n   </g>\n   <g id=\"line2d_15\">\n    <path clip-path=\"url(#pf3cab3e668)\" d=\"M 86.008678 132.228 \nL 86.008678 99.612 \nL 194.988569 99.612 \nL 194.988569 132.228 \nL 86.008678 132.228 \n\" style=\"fill:none;stroke:#8dd3c7;stroke-linecap:square;\"/>\n   </g>\n   <g id=\"line2d_16\">\n    <path clip-path=\"url(#pf3cab3e668)\" d=\"M 86.008678 115.92 \nL 52.283807 115.92 \n\" style=\"fill:none;stroke:#8dd3c7;stroke-linecap:square;\"/>\n   </g>\n   <g id=\"line2d_17\">\n    <path clip-path=\"url(#pf3cab3e668)\" d=\"M 194.988569 115.92 \nL 356.647443 115.92 \n\" style=\"fill:none;stroke:#8dd3c7;stroke-linecap:square;\"/>\n   </g>\n   <g id=\"line2d_18\">\n    <path clip-path=\"url(#pf3cab3e668)\" d=\"M 52.283807 124.074 \nL 52.283807 107.766 \n\" style=\"fill:none;stroke:#000000;stroke-linecap:square;\"/>\n   </g>\n   <g id=\"line2d_19\">\n    <path clip-path=\"url(#pf3cab3e668)\" d=\"M 356.647443 124.074 \nL 356.647443 107.766 \n\" style=\"fill:none;stroke:#000000;stroke-linecap:square;\"/>\n   </g>\n   <g id=\"line2d_20\"/>\n   <g id=\"line2d_21\">\n    <path clip-path=\"url(#pf3cab3e668)\" d=\"M 128.971333 132.228 \nL 128.971333 99.612 \n\" style=\"fill:none;stroke:#bfbbd9;stroke-linecap:square;\"/>\n   </g>\n   <g id=\"patch_3\">\n    <path d=\"M 37.065625 224.64 \nL 37.065625 7.2 \n\" style=\"fill:none;stroke:#ffffff;stroke-linecap:square;stroke-linejoin:miter;stroke-width:0.8;\"/>\n   </g>\n   <g id=\"patch_4\">\n    <path d=\"M 371.865625 224.64 \nL 371.865625 7.2 \n\" style=\"fill:none;stroke:#ffffff;stroke-linecap:square;stroke-linejoin:miter;stroke-width:0.8;\"/>\n   </g>\n   <g id=\"patch_5\">\n    <path d=\"M 37.065625 224.64 \nL 371.865625 224.64 \n\" style=\"fill:none;stroke:#ffffff;stroke-linecap:square;stroke-linejoin:miter;stroke-width:0.8;\"/>\n   </g>\n   <g id=\"patch_6\">\n    <path d=\"M 37.065625 7.2 \nL 371.865625 7.2 \n\" style=\"fill:none;stroke:#ffffff;stroke-linecap:square;stroke-linejoin:miter;stroke-width:0.8;\"/>\n   </g>\n  </g>\n </g>\n <defs>\n  <clipPath id=\"pf3cab3e668\">\n   <rect height=\"217.44\" width=\"334.8\" x=\"37.065625\" y=\"7.2\"/>\n  </clipPath>\n </defs>\n</svg>\n",
      "text/plain": [
       "<Figure size 432x288 with 1 Axes>"
      ]
     },
     "metadata": {},
     "output_type": "display_data"
    }
   ],
   "source": [
    "# Boxplot total column first month\n",
    "df_month1 = df[df['month']==1]\n",
    "df_month1.boxplot('total', vert = False)"
   ]
  },
  {
   "cell_type": "code",
   "execution_count": 53,
   "metadata": {},
   "outputs": [
    {
     "data": {
      "text/plain": [
       "<AxesSubplot:>"
      ]
     },
     "execution_count": 53,
     "metadata": {},
     "output_type": "execute_result"
    },
    {
     "data": {
      "image/png": "[encoded data removed]",
      "image/svg+xml": "<?xml version=\"1.0\" encoding=\"utf-8\" standalone=\"no\"?>\n<!DOCTYPE svg PUBLIC \"-//W3C//DTD SVG 1.1//EN\"\n  \"http://www.w3.org/Graphics/SVG/1.1/DTD/svg11.dtd\">\n<svg height=\"248.518125pt\" version=\"1.1\" viewBox=\"0 0 379.065625 248.518125\" width=\"379.065625pt\" xmlns=\"http://www.w3.org/2000/svg\" xmlns:xlink=\"http://www.w3.org/1999/xlink\">\n <metadata>\n  <rdf:RDF xmlns:cc=\"http://creativecommons.org/ns#\" xmlns:dc=\"http://purl.org/dc/elements/1.1/\" xmlns:rdf=\"http://www.w3.org/1999/02/22-rdf-syntax-ns#\">\n   <cc:Work>\n    <dc:type rdf:resource=\"http://purl.org/dc/dcmitype/StillImage\"/>\n    <dc:date>2021-11-12T11:32:38.926272</dc:date>\n    <dc:format>image/svg+xml</dc:format>\n    <dc:creator>\n     <cc:Agent>\n      <dc:title>Matplotlib v3.4.3, https://matplotlib.org/</dc:title>\n     </cc:Agent>\n    </dc:creator>\n   </cc:Work>\n  </rdf:RDF>\n </metadata>\n <defs>\n  <style type=\"text/css\">*{stroke-linecap:butt;stroke-linejoin:round;}</style>\n </defs>\n <g id=\"figure_1\">\n  <g id=\"patch_1\">\n   <path d=\"M 0 248.518125 \nL 379.065625 248.518125 \nL 379.065625 0 \nL 0 0 \nz\n\"/>\n  </g>\n  <g id=\"axes_1\">\n   <g id=\"patch_2\">\n    <path d=\"M 37.065625 224.64 \nL 371.865625 224.64 \nL 371.865625 7.2 \nL 37.065625 7.2 \nz\n\"/>\n   </g>\n   <g id=\"matplotlib.axis_1\">\n    <g id=\"xtick_1\">\n     <g id=\"line2d_1\">\n      <path clip-path=\"url(#p92d438e8d8)\" d=\"M 49.134353 224.64 \nL 49.134353 7.2 \n\" style=\"fill:none;stroke:#ffffff;stroke-linecap:square;stroke-width:0.8;\"/>\n     </g>\n     <g id=\"line2d_2\">\n      <defs>\n       <path d=\"M 0 0 \nL 0 3.5 \n\" id=\"mf844832d2e\" style=\"stroke:#ffffff;stroke-width:0.8;\"/>\n      </defs>\n      <g>\n       <use style=\"fill:#ffffff;stroke:#ffffff;stroke-width:0.8;\" x=\"49.134353\" xlink:href=\"#mf844832d2e\" y=\"224.64\"/>\n      </g>\n     </g>\n     <g id=\"text_1\">\n      <!-- 0 -->\n      <g style=\"fill:#ffffff;\" transform=\"translate(45.953103 239.238437)scale(0.1 -0.1)\">\n       <defs>\n        <path d=\"M 2034 4250 \nQ 1547 4250 1301 3770 \nQ 1056 3291 1056 2328 \nQ 1056 1369 1301 889 \nQ 1547 409 2034 409 \nQ 2525 409 2770 889 \nQ 3016 1369 3016 2328 \nQ 3016 3291 2770 3770 \nQ 2525 4250 2034 4250 \nz\nM 2034 4750 \nQ 2819 4750 3233 4129 \nQ 3647 3509 3647 2328 \nQ 3647 1150 3233 529 \nQ 2819 -91 2034 -91 \nQ 1250 -91 836 529 \nQ 422 1150 422 2328 \nQ 422 3509 836 4129 \nQ 1250 4750 2034 4750 \nz\n\" id=\"DejaVuSans-30\" transform=\"scale(0.015625)\"/>\n       </defs>\n       <use xlink:href=\"#DejaVuSans-30\"/>\n      </g>\n     </g>\n    </g>\n    <g id=\"xtick_2\">\n     <g id=\"line2d_3\">\n      <path clip-path=\"url(#p92d438e8d8)\" d=\"M 108.121182 224.64 \nL 108.121182 7.2 \n\" style=\"fill:none;stroke:#ffffff;stroke-linecap:square;stroke-width:0.8;\"/>\n     </g>\n     <g id=\"line2d_4\">\n      <g>\n       <use style=\"fill:#ffffff;stroke:#ffffff;stroke-width:0.8;\" x=\"108.121182\" xlink:href=\"#mf844832d2e\" y=\"224.64\"/>\n      </g>\n     </g>\n     <g id=\"text_2\">\n      <!-- 200 -->\n      <g style=\"fill:#ffffff;\" transform=\"translate(98.577432 239.238437)scale(0.1 -0.1)\">\n       <defs>\n        <path d=\"M 1228 531 \nL 3431 531 \nL 3431 0 \nL 469 0 \nL 469 531 \nQ 828 903 1448 1529 \nQ 2069 2156 2228 2338 \nQ 2531 2678 2651 2914 \nQ 2772 3150 2772 3378 \nQ 2772 3750 2511 3984 \nQ 2250 4219 1831 4219 \nQ 1534 4219 1204 4116 \nQ 875 4013 500 3803 \nL 500 4441 \nQ 881 4594 1212 4672 \nQ 1544 4750 1819 4750 \nQ 2544 4750 2975 4387 \nQ 3406 4025 3406 3419 \nQ 3406 3131 3298 2873 \nQ 3191 2616 2906 2266 \nQ 2828 2175 2409 1742 \nQ 1991 1309 1228 531 \nz\n\" id=\"DejaVuSans-32\" transform=\"scale(0.015625)\"/>\n       </defs>\n       <use xlink:href=\"#DejaVuSans-32\"/>\n       <use x=\"63.623047\" xlink:href=\"#DejaVuSans-30\"/>\n       <use x=\"127.246094\" xlink:href=\"#DejaVuSans-30\"/>\n      </g>\n     </g>\n    </g>\n    <g id=\"xtick_3\">\n     <g id=\"line2d_5\">\n      <path clip-path=\"url(#p92d438e8d8)\" d=\"M 167.108012 224.64 \nL 167.108012 7.2 \n\" style=\"fill:none;stroke:#ffffff;stroke-linecap:square;stroke-width:0.8;\"/>\n     </g>\n     <g id=\"line2d_6\">\n      <g>\n       <use style=\"fill:#ffffff;stroke:#ffffff;stroke-width:0.8;\" x=\"167.108012\" xlink:href=\"#mf844832d2e\" y=\"224.64\"/>\n      </g>\n     </g>\n     <g id=\"text_3\">\n      <!-- 400 -->\n      <g style=\"fill:#ffffff;\" transform=\"translate(157.564262 239.238437)scale(0.1 -0.1)\">\n       <defs>\n        <path d=\"M 2419 4116 \nL 825 1625 \nL 2419 1625 \nL 2419 4116 \nz\nM 2253 4666 \nL 3047 4666 \nL 3047 1625 \nL 3713 1625 \nL 3713 1100 \nL 3047 1100 \nL 3047 0 \nL 2419 0 \nL 2419 1100 \nL 313 1100 \nL 313 1709 \nL 2253 4666 \nz\n\" id=\"DejaVuSans-34\" transform=\"scale(0.015625)\"/>\n       </defs>\n       <use xlink:href=\"#DejaVuSans-34\"/>\n       <use x=\"63.623047\" xlink:href=\"#DejaVuSans-30\"/>\n       <use x=\"127.246094\" xlink:href=\"#DejaVuSans-30\"/>\n      </g>\n     </g>\n    </g>\n    <g id=\"xtick_4\">\n     <g id=\"line2d_7\">\n      <path clip-path=\"url(#p92d438e8d8)\" d=\"M 226.094842 224.64 \nL 226.094842 7.2 \n\" style=\"fill:none;stroke:#ffffff;stroke-linecap:square;stroke-width:0.8;\"/>\n     </g>\n     <g id=\"line2d_8\">\n      <g>\n       <use style=\"fill:#ffffff;stroke:#ffffff;stroke-width:0.8;\" x=\"226.094842\" xlink:href=\"#mf844832d2e\" y=\"224.64\"/>\n      </g>\n     </g>\n     <g id=\"text_4\">\n      <!-- 600 -->\n      <g style=\"fill:#ffffff;\" transform=\"translate(216.551092 239.238437)scale(0.1 -0.1)\">\n       <defs>\n        <path d=\"M 2113 2584 \nQ 1688 2584 1439 2293 \nQ 1191 2003 1191 1497 \nQ 1191 994 1439 701 \nQ 1688 409 2113 409 \nQ 2538 409 2786 701 \nQ 3034 994 3034 1497 \nQ 3034 2003 2786 2293 \nQ 2538 2584 2113 2584 \nz\nM 3366 4563 \nL 3366 3988 \nQ 3128 4100 2886 4159 \nQ 2644 4219 2406 4219 \nQ 1781 4219 1451 3797 \nQ 1122 3375 1075 2522 \nQ 1259 2794 1537 2939 \nQ 1816 3084 2150 3084 \nQ 2853 3084 3261 2657 \nQ 3669 2231 3669 1497 \nQ 3669 778 3244 343 \nQ 2819 -91 2113 -91 \nQ 1303 -91 875 529 \nQ 447 1150 447 2328 \nQ 447 3434 972 4092 \nQ 1497 4750 2381 4750 \nQ 2619 4750 2861 4703 \nQ 3103 4656 3366 4563 \nz\n\" id=\"DejaVuSans-36\" transform=\"scale(0.015625)\"/>\n       </defs>\n       <use xlink:href=\"#DejaVuSans-36\"/>\n       <use x=\"63.623047\" xlink:href=\"#DejaVuSans-30\"/>\n       <use x=\"127.246094\" xlink:href=\"#DejaVuSans-30\"/>\n      </g>\n     </g>\n    </g>\n    <g id=\"xtick_5\">\n     <g id=\"line2d_9\">\n      <path clip-path=\"url(#p92d438e8d8)\" d=\"M 285.081672 224.64 \nL 285.081672 7.2 \n\" style=\"fill:none;stroke:#ffffff;stroke-linecap:square;stroke-width:0.8;\"/>\n     </g>\n     <g id=\"line2d_10\">\n      <g>\n       <use style=\"fill:#ffffff;stroke:#ffffff;stroke-width:0.8;\" x=\"285.081672\" xlink:href=\"#mf844832d2e\" y=\"224.64\"/>\n      </g>\n     </g>\n     <g id=\"text_5\">\n      <!-- 800 -->\n      <g style=\"fill:#ffffff;\" transform=\"translate(275.537922 239.238437)scale(0.1 -0.1)\">\n       <defs>\n        <path d=\"M 2034 2216 \nQ 1584 2216 1326 1975 \nQ 1069 1734 1069 1313 \nQ 1069 891 1326 650 \nQ 1584 409 2034 409 \nQ 2484 409 2743 651 \nQ 3003 894 3003 1313 \nQ 3003 1734 2745 1975 \nQ 2488 2216 2034 2216 \nz\nM 1403 2484 \nQ 997 2584 770 2862 \nQ 544 3141 544 3541 \nQ 544 4100 942 4425 \nQ 1341 4750 2034 4750 \nQ 2731 4750 3128 4425 \nQ 3525 4100 3525 3541 \nQ 3525 3141 3298 2862 \nQ 3072 2584 2669 2484 \nQ 3125 2378 3379 2068 \nQ 3634 1759 3634 1313 \nQ 3634 634 3220 271 \nQ 2806 -91 2034 -91 \nQ 1263 -91 848 271 \nQ 434 634 434 1313 \nQ 434 1759 690 2068 \nQ 947 2378 1403 2484 \nz\nM 1172 3481 \nQ 1172 3119 1398 2916 \nQ 1625 2713 2034 2713 \nQ 2441 2713 2670 2916 \nQ 2900 3119 2900 3481 \nQ 2900 3844 2670 4047 \nQ 2441 4250 2034 4250 \nQ 1625 4250 1398 4047 \nQ 1172 3844 1172 3481 \nz\n\" id=\"DejaVuSans-38\" transform=\"scale(0.015625)\"/>\n       </defs>\n       <use xlink:href=\"#DejaVuSans-38\"/>\n       <use x=\"63.623047\" xlink:href=\"#DejaVuSans-30\"/>\n       <use x=\"127.246094\" xlink:href=\"#DejaVuSans-30\"/>\n      </g>\n     </g>\n    </g>\n    <g id=\"xtick_6\">\n     <g id=\"line2d_11\">\n      <path clip-path=\"url(#p92d438e8d8)\" d=\"M 344.068502 224.64 \nL 344.068502 7.2 \n\" style=\"fill:none;stroke:#ffffff;stroke-linecap:square;stroke-width:0.8;\"/>\n     </g>\n     <g id=\"line2d_12\">\n      <g>\n       <use style=\"fill:#ffffff;stroke:#ffffff;stroke-width:0.8;\" x=\"344.068502\" xlink:href=\"#mf844832d2e\" y=\"224.64\"/>\n      </g>\n     </g>\n     <g id=\"text_6\">\n      <!-- 1000 -->\n      <g style=\"fill:#ffffff;\" transform=\"translate(331.343502 239.238437)scale(0.1 -0.1)\">\n       <defs>\n        <path d=\"M 794 531 \nL 1825 531 \nL 1825 4091 \nL 703 3866 \nL 703 4441 \nL 1819 4666 \nL 2450 4666 \nL 2450 531 \nL 3481 531 \nL 3481 0 \nL 794 0 \nL 794 531 \nz\n\" id=\"DejaVuSans-31\" transform=\"scale(0.015625)\"/>\n       </defs>\n       <use xlink:href=\"#DejaVuSans-31\"/>\n       <use x=\"63.623047\" xlink:href=\"#DejaVuSans-30\"/>\n       <use x=\"127.246094\" xlink:href=\"#DejaVuSans-30\"/>\n       <use x=\"190.869141\" xlink:href=\"#DejaVuSans-30\"/>\n      </g>\n     </g>\n    </g>\n   </g>\n   <g id=\"matplotlib.axis_2\">\n    <g id=\"ytick_1\">\n     <g id=\"line2d_13\">\n      <path clip-path=\"url(#p92d438e8d8)\" d=\"M 37.065625 115.92 \nL 371.865625 115.92 \n\" style=\"fill:none;stroke:#ffffff;stroke-linecap:square;stroke-width:0.8;\"/>\n     </g>\n     <g id=\"line2d_14\">\n      <defs>\n       <path d=\"M 0 0 \nL -3.5 0 \n\" id=\"m8ea6ad494a\" style=\"stroke:#ffffff;stroke-width:0.8;\"/>\n      </defs>\n      <g>\n       <use style=\"fill:#ffffff;stroke:#ffffff;stroke-width:0.8;\" x=\"37.065625\" xlink:href=\"#m8ea6ad494a\" y=\"115.92\"/>\n      </g>\n     </g>\n     <g id=\"text_7\">\n      <!-- total -->\n      <g style=\"fill:#ffffff;\" transform=\"translate(7.2 119.719219)scale(0.1 -0.1)\">\n       <defs>\n        <path d=\"M 1172 4494 \nL 1172 3500 \nL 2356 3500 \nL 2356 3053 \nL 1172 3053 \nL 1172 1153 \nQ 1172 725 1289 603 \nQ 1406 481 1766 481 \nL 2356 481 \nL 2356 0 \nL 1766 0 \nQ 1100 0 847 248 \nQ 594 497 594 1153 \nL 594 3053 \nL 172 3053 \nL 172 3500 \nL 594 3500 \nL 594 4494 \nL 1172 4494 \nz\n\" id=\"DejaVuSans-74\" transform=\"scale(0.015625)\"/>\n        <path d=\"M 1959 3097 \nQ 1497 3097 1228 2736 \nQ 959 2375 959 1747 \nQ 959 1119 1226 758 \nQ 1494 397 1959 397 \nQ 2419 397 2687 759 \nQ 2956 1122 2956 1747 \nQ 2956 2369 2687 2733 \nQ 2419 3097 1959 3097 \nz\nM 1959 3584 \nQ 2709 3584 3137 3096 \nQ 3566 2609 3566 1747 \nQ 3566 888 3137 398 \nQ 2709 -91 1959 -91 \nQ 1206 -91 779 398 \nQ 353 888 353 1747 \nQ 353 2609 779 3096 \nQ 1206 3584 1959 3584 \nz\n\" id=\"DejaVuSans-6f\" transform=\"scale(0.015625)\"/>\n        <path d=\"M 2194 1759 \nQ 1497 1759 1228 1600 \nQ 959 1441 959 1056 \nQ 959 750 1161 570 \nQ 1363 391 1709 391 \nQ 2188 391 2477 730 \nQ 2766 1069 2766 1631 \nL 2766 1759 \nL 2194 1759 \nz\nM 3341 1997 \nL 3341 0 \nL 2766 0 \nL 2766 531 \nQ 2569 213 2275 61 \nQ 1981 -91 1556 -91 \nQ 1019 -91 701 211 \nQ 384 513 384 1019 \nQ 384 1609 779 1909 \nQ 1175 2209 1959 2209 \nL 2766 2209 \nL 2766 2266 \nQ 2766 2663 2505 2880 \nQ 2244 3097 1772 3097 \nQ 1472 3097 1187 3025 \nQ 903 2953 641 2809 \nL 641 3341 \nQ 956 3463 1253 3523 \nQ 1550 3584 1831 3584 \nQ 2591 3584 2966 3190 \nQ 3341 2797 3341 1997 \nz\n\" id=\"DejaVuSans-61\" transform=\"scale(0.015625)\"/>\n        <path d=\"M 603 4863 \nL 1178 4863 \nL 1178 0 \nL 603 0 \nL 603 4863 \nz\n\" id=\"DejaVuSans-6c\" transform=\"scale(0.015625)\"/>\n       </defs>\n       <use xlink:href=\"#DejaVuSans-74\"/>\n       <use x=\"39.208984\" xlink:href=\"#DejaVuSans-6f\"/>\n       <use x=\"100.390625\" xlink:href=\"#DejaVuSans-74\"/>\n       <use x=\"139.599609\" xlink:href=\"#DejaVuSans-61\"/>\n       <use x=\"200.878906\" xlink:href=\"#DejaVuSans-6c\"/>\n      </g>\n     </g>\n    </g>\n   </g>\n   <g id=\"line2d_15\">\n    <path clip-path=\"url(#p92d438e8d8)\" d=\"M 86.204699 132.228 \nL 86.204699 99.612 \nL 185.705159 99.612 \nL 185.705159 132.228 \nL 86.204699 132.228 \n\" style=\"fill:none;stroke:#8dd3c7;stroke-linecap:square;\"/>\n   </g>\n   <g id=\"line2d_16\">\n    <path clip-path=\"url(#p92d438e8d8)\" d=\"M 86.204699 115.92 \nL 52.283807 115.92 \n\" style=\"fill:none;stroke:#8dd3c7;stroke-linecap:square;\"/>\n   </g>\n   <g id=\"line2d_17\">\n    <path clip-path=\"url(#p92d438e8d8)\" d=\"M 185.705159 115.92 \nL 325.369677 115.92 \n\" style=\"fill:none;stroke:#8dd3c7;stroke-linecap:square;\"/>\n   </g>\n   <g id=\"line2d_18\">\n    <path clip-path=\"url(#p92d438e8d8)\" d=\"M 52.283807 124.074 \nL 52.283807 107.766 \n\" style=\"fill:none;stroke:#000000;stroke-linecap:square;\"/>\n   </g>\n   <g id=\"line2d_19\">\n    <path clip-path=\"url(#p92d438e8d8)\" d=\"M 325.369677 124.074 \nL 325.369677 107.766 \n\" style=\"fill:none;stroke:#000000;stroke-linecap:square;\"/>\n   </g>\n   <g id=\"line2d_20\">\n    <defs>\n     <path d=\"M 0 3 \nC 0.795609 3 1.55874 2.683901 2.12132 2.12132 \nC 2.683901 1.55874 3 0.795609 3 0 \nC 3 -0.795609 2.683901 -1.55874 2.12132 -2.12132 \nC 1.55874 -2.683901 0.795609 -3 0 -3 \nC -0.795609 -3 -1.55874 -2.683901 -2.12132 -2.12132 \nC -2.683901 -1.55874 -3 -0.795609 -3 0 \nC -3 0.795609 -2.683901 1.55874 -2.12132 2.12132 \nC -1.55874 2.683901 -0.795609 3 0 3 \nz\n\" id=\"m07da3be9f0\" style=\"stroke:#ffffff;\"/>\n    </defs>\n    <g clip-path=\"url(#p92d438e8d8)\">\n     <use style=\"fill-opacity:0;stroke:#ffffff;\" x=\"355.656464\" xlink:href=\"#m07da3be9f0\" y=\"115.92\"/>\n     <use style=\"fill-opacity:0;stroke:#ffffff;\" x=\"350.175113\" xlink:href=\"#m07da3be9f0\" y=\"115.92\"/>\n     <use style=\"fill-opacity:0;stroke:#ffffff;\" x=\"356.647443\" xlink:href=\"#m07da3be9f0\" y=\"115.92\"/>\n    </g>\n   </g>\n   <g id=\"line2d_21\">\n    <path clip-path=\"url(#p92d438e8d8)\" d=\"M 123.680728 132.228 \nL 123.680728 99.612 \n\" style=\"fill:none;stroke:#bfbbd9;stroke-linecap:square;\"/>\n   </g>\n   <g id=\"patch_3\">\n    <path d=\"M 37.065625 224.64 \nL 37.065625 7.2 \n\" style=\"fill:none;stroke:#ffffff;stroke-linecap:square;stroke-linejoin:miter;stroke-width:0.8;\"/>\n   </g>\n   <g id=\"patch_4\">\n    <path d=\"M 371.865625 224.64 \nL 371.865625 7.2 \n\" style=\"fill:none;stroke:#ffffff;stroke-linecap:square;stroke-linejoin:miter;stroke-width:0.8;\"/>\n   </g>\n   <g id=\"patch_5\">\n    <path d=\"M 37.065625 224.64 \nL 371.865625 224.64 \n\" style=\"fill:none;stroke:#ffffff;stroke-linecap:square;stroke-linejoin:miter;stroke-width:0.8;\"/>\n   </g>\n   <g id=\"patch_6\">\n    <path d=\"M 37.065625 7.2 \nL 371.865625 7.2 \n\" style=\"fill:none;stroke:#ffffff;stroke-linecap:square;stroke-linejoin:miter;stroke-width:0.8;\"/>\n   </g>\n  </g>\n </g>\n <defs>\n  <clipPath id=\"p92d438e8d8\">\n   <rect height=\"217.44\" width=\"334.8\" x=\"37.065625\" y=\"7.2\"/>\n  </clipPath>\n </defs>\n</svg>\n",
      "text/plain": [
       "<Figure size 432x288 with 1 Axes>"
      ]
     },
     "metadata": {},
     "output_type": "display_data"
    }
   ],
   "source": [
    "# Boxplot total column second month\n",
    "df_month2 = df[df['month']==2]\n",
    "df_month2.boxplot('total', vert = False)"
   ]
  },
  {
   "cell_type": "code",
   "execution_count": 54,
   "metadata": {},
   "outputs": [
    {
     "data": {
      "text/plain": [
       "<AxesSubplot:>"
      ]
     },
     "execution_count": 54,
     "metadata": {},
     "output_type": "execute_result"
    },
    {
     "data": {
      "image/png": "[encoded data removed]",
      "image/svg+xml": "<?xml version=\"1.0\" encoding=\"utf-8\" standalone=\"no\"?>\n<!DOCTYPE svg PUBLIC \"-//W3C//DTD SVG 1.1//EN\"\n  \"http://www.w3.org/Graphics/SVG/1.1/DTD/svg11.dtd\">\n<svg height=\"248.518125pt\" version=\"1.1\" viewBox=\"0 0 379.065625 248.518125\" width=\"379.065625pt\" xmlns=\"http://www.w3.org/2000/svg\" xmlns:xlink=\"http://www.w3.org/1999/xlink\">\n <metadata>\n  <rdf:RDF xmlns:cc=\"http://creativecommons.org/ns#\" xmlns:dc=\"http://purl.org/dc/elements/1.1/\" xmlns:rdf=\"http://www.w3.org/1999/02/22-rdf-syntax-ns#\">\n   <cc:Work>\n    <dc:type rdf:resource=\"http://purl.org/dc/dcmitype/StillImage\"/>\n    <dc:date>2021-11-12T11:32:39.033298</dc:date>\n    <dc:format>image/svg+xml</dc:format>\n    <dc:creator>\n     <cc:Agent>\n      <dc:title>Matplotlib v3.4.3, https://matplotlib.org/</dc:title>\n     </cc:Agent>\n    </dc:creator>\n   </cc:Work>\n  </rdf:RDF>\n </metadata>\n <defs>\n  <style type=\"text/css\">*{stroke-linecap:butt;stroke-linejoin:round;}</style>\n </defs>\n <g id=\"figure_1\">\n  <g id=\"patch_1\">\n   <path d=\"M 0 248.518125 \nL 379.065625 248.518125 \nL 379.065625 0 \nL 0 0 \nz\n\"/>\n  </g>\n  <g id=\"axes_1\">\n   <g id=\"patch_2\">\n    <path d=\"M 37.065625 224.64 \nL 371.865625 224.64 \nL 371.865625 7.2 \nL 37.065625 7.2 \nz\n\"/>\n   </g>\n   <g id=\"matplotlib.axis_1\">\n    <g id=\"xtick_1\">\n     <g id=\"line2d_1\">\n      <path clip-path=\"url(#pc5a188dc34)\" d=\"M 47.360885 224.64 \nL 47.360885 7.2 \n\" style=\"fill:none;stroke:#ffffff;stroke-linecap:square;stroke-width:0.8;\"/>\n     </g>\n     <g id=\"line2d_2\">\n      <defs>\n       <path d=\"M 0 0 \nL 0 3.5 \n\" id=\"m719d128700\" style=\"stroke:#ffffff;stroke-width:0.8;\"/>\n      </defs>\n      <g>\n       <use style=\"fill:#ffffff;stroke:#ffffff;stroke-width:0.8;\" x=\"47.360885\" xlink:href=\"#m719d128700\" y=\"224.64\"/>\n      </g>\n     </g>\n     <g id=\"text_1\">\n      <!-- 0 -->\n      <g style=\"fill:#ffffff;\" transform=\"translate(44.179635 239.238437)scale(0.1 -0.1)\">\n       <defs>\n        <path d=\"M 2034 4250 \nQ 1547 4250 1301 3770 \nQ 1056 3291 1056 2328 \nQ 1056 1369 1301 889 \nQ 1547 409 2034 409 \nQ 2525 409 2770 889 \nQ 3016 1369 3016 2328 \nQ 3016 3291 2770 3770 \nQ 2525 4250 2034 4250 \nz\nM 2034 4750 \nQ 2819 4750 3233 4129 \nQ 3647 3509 3647 2328 \nQ 3647 1150 3233 529 \nQ 2819 -91 2034 -91 \nQ 1250 -91 836 529 \nQ 422 1150 422 2328 \nQ 422 3509 836 4129 \nQ 1250 4750 2034 4750 \nz\n\" id=\"DejaVuSans-30\" transform=\"scale(0.015625)\"/>\n       </defs>\n       <use xlink:href=\"#DejaVuSans-30\"/>\n      </g>\n     </g>\n    </g>\n    <g id=\"xtick_2\">\n     <g id=\"line2d_3\">\n      <path clip-path=\"url(#pc5a188dc34)\" d=\"M 107.857625 224.64 \nL 107.857625 7.2 \n\" style=\"fill:none;stroke:#ffffff;stroke-linecap:square;stroke-width:0.8;\"/>\n     </g>\n     <g id=\"line2d_4\">\n      <g>\n       <use style=\"fill:#ffffff;stroke:#ffffff;stroke-width:0.8;\" x=\"107.857625\" xlink:href=\"#m719d128700\" y=\"224.64\"/>\n      </g>\n     </g>\n     <g id=\"text_2\">\n      <!-- 200 -->\n      <g style=\"fill:#ffffff;\" transform=\"translate(98.313875 239.238437)scale(0.1 -0.1)\">\n       <defs>\n        <path d=\"M 1228 531 \nL 3431 531 \nL 3431 0 \nL 469 0 \nL 469 531 \nQ 828 903 1448 1529 \nQ 2069 2156 2228 2338 \nQ 2531 2678 2651 2914 \nQ 2772 3150 2772 3378 \nQ 2772 3750 2511 3984 \nQ 2250 4219 1831 4219 \nQ 1534 4219 1204 4116 \nQ 875 4013 500 3803 \nL 500 4441 \nQ 881 4594 1212 4672 \nQ 1544 4750 1819 4750 \nQ 2544 4750 2975 4387 \nQ 3406 4025 3406 3419 \nQ 3406 3131 3298 2873 \nQ 3191 2616 2906 2266 \nQ 2828 2175 2409 1742 \nQ 1991 1309 1228 531 \nz\n\" id=\"DejaVuSans-32\" transform=\"scale(0.015625)\"/>\n       </defs>\n       <use xlink:href=\"#DejaVuSans-32\"/>\n       <use x=\"63.623047\" xlink:href=\"#DejaVuSans-30\"/>\n       <use x=\"127.246094\" xlink:href=\"#DejaVuSans-30\"/>\n      </g>\n     </g>\n    </g>\n    <g id=\"xtick_3\">\n     <g id=\"line2d_5\">\n      <path clip-path=\"url(#pc5a188dc34)\" d=\"M 168.354365 224.64 \nL 168.354365 7.2 \n\" style=\"fill:none;stroke:#ffffff;stroke-linecap:square;stroke-width:0.8;\"/>\n     </g>\n     <g id=\"line2d_6\">\n      <g>\n       <use style=\"fill:#ffffff;stroke:#ffffff;stroke-width:0.8;\" x=\"168.354365\" xlink:href=\"#m719d128700\" y=\"224.64\"/>\n      </g>\n     </g>\n     <g id=\"text_3\">\n      <!-- 400 -->\n      <g style=\"fill:#ffffff;\" transform=\"translate(158.810615 239.238437)scale(0.1 -0.1)\">\n       <defs>\n        <path d=\"M 2419 4116 \nL 825 1625 \nL 2419 1625 \nL 2419 4116 \nz\nM 2253 4666 \nL 3047 4666 \nL 3047 1625 \nL 3713 1625 \nL 3713 1100 \nL 3047 1100 \nL 3047 0 \nL 2419 0 \nL 2419 1100 \nL 313 1100 \nL 313 1709 \nL 2253 4666 \nz\n\" id=\"DejaVuSans-34\" transform=\"scale(0.015625)\"/>\n       </defs>\n       <use xlink:href=\"#DejaVuSans-34\"/>\n       <use x=\"63.623047\" xlink:href=\"#DejaVuSans-30\"/>\n       <use x=\"127.246094\" xlink:href=\"#DejaVuSans-30\"/>\n      </g>\n     </g>\n    </g>\n    <g id=\"xtick_4\">\n     <g id=\"line2d_7\">\n      <path clip-path=\"url(#pc5a188dc34)\" d=\"M 228.851105 224.64 \nL 228.851105 7.2 \n\" style=\"fill:none;stroke:#ffffff;stroke-linecap:square;stroke-width:0.8;\"/>\n     </g>\n     <g id=\"line2d_8\">\n      <g>\n       <use style=\"fill:#ffffff;stroke:#ffffff;stroke-width:0.8;\" x=\"228.851105\" xlink:href=\"#m719d128700\" y=\"224.64\"/>\n      </g>\n     </g>\n     <g id=\"text_4\">\n      <!-- 600 -->\n      <g style=\"fill:#ffffff;\" transform=\"translate(219.307355 239.238437)scale(0.1 -0.1)\">\n       <defs>\n        <path d=\"M 2113 2584 \nQ 1688 2584 1439 2293 \nQ 1191 2003 1191 1497 \nQ 1191 994 1439 701 \nQ 1688 409 2113 409 \nQ 2538 409 2786 701 \nQ 3034 994 3034 1497 \nQ 3034 2003 2786 2293 \nQ 2538 2584 2113 2584 \nz\nM 3366 4563 \nL 3366 3988 \nQ 3128 4100 2886 4159 \nQ 2644 4219 2406 4219 \nQ 1781 4219 1451 3797 \nQ 1122 3375 1075 2522 \nQ 1259 2794 1537 2939 \nQ 1816 3084 2150 3084 \nQ 2853 3084 3261 2657 \nQ 3669 2231 3669 1497 \nQ 3669 778 3244 343 \nQ 2819 -91 2113 -91 \nQ 1303 -91 875 529 \nQ 447 1150 447 2328 \nQ 447 3434 972 4092 \nQ 1497 4750 2381 4750 \nQ 2619 4750 2861 4703 \nQ 3103 4656 3366 4563 \nz\n\" id=\"DejaVuSans-36\" transform=\"scale(0.015625)\"/>\n       </defs>\n       <use xlink:href=\"#DejaVuSans-36\"/>\n       <use x=\"63.623047\" xlink:href=\"#DejaVuSans-30\"/>\n       <use x=\"127.246094\" xlink:href=\"#DejaVuSans-30\"/>\n      </g>\n     </g>\n    </g>\n    <g id=\"xtick_5\">\n     <g id=\"line2d_9\">\n      <path clip-path=\"url(#pc5a188dc34)\" d=\"M 289.347845 224.64 \nL 289.347845 7.2 \n\" style=\"fill:none;stroke:#ffffff;stroke-linecap:square;stroke-width:0.8;\"/>\n     </g>\n     <g id=\"line2d_10\">\n      <g>\n       <use style=\"fill:#ffffff;stroke:#ffffff;stroke-width:0.8;\" x=\"289.347845\" xlink:href=\"#m719d128700\" y=\"224.64\"/>\n      </g>\n     </g>\n     <g id=\"text_5\">\n      <!-- 800 -->\n      <g style=\"fill:#ffffff;\" transform=\"translate(279.804095 239.238437)scale(0.1 -0.1)\">\n       <defs>\n        <path d=\"M 2034 2216 \nQ 1584 2216 1326 1975 \nQ 1069 1734 1069 1313 \nQ 1069 891 1326 650 \nQ 1584 409 2034 409 \nQ 2484 409 2743 651 \nQ 3003 894 3003 1313 \nQ 3003 1734 2745 1975 \nQ 2488 2216 2034 2216 \nz\nM 1403 2484 \nQ 997 2584 770 2862 \nQ 544 3141 544 3541 \nQ 544 4100 942 4425 \nQ 1341 4750 2034 4750 \nQ 2731 4750 3128 4425 \nQ 3525 4100 3525 3541 \nQ 3525 3141 3298 2862 \nQ 3072 2584 2669 2484 \nQ 3125 2378 3379 2068 \nQ 3634 1759 3634 1313 \nQ 3634 634 3220 271 \nQ 2806 -91 2034 -91 \nQ 1263 -91 848 271 \nQ 434 634 434 1313 \nQ 434 1759 690 2068 \nQ 947 2378 1403 2484 \nz\nM 1172 3481 \nQ 1172 3119 1398 2916 \nQ 1625 2713 2034 2713 \nQ 2441 2713 2670 2916 \nQ 2900 3119 2900 3481 \nQ 2900 3844 2670 4047 \nQ 2441 4250 2034 4250 \nQ 1625 4250 1398 4047 \nQ 1172 3844 1172 3481 \nz\n\" id=\"DejaVuSans-38\" transform=\"scale(0.015625)\"/>\n       </defs>\n       <use xlink:href=\"#DejaVuSans-38\"/>\n       <use x=\"63.623047\" xlink:href=\"#DejaVuSans-30\"/>\n       <use x=\"127.246094\" xlink:href=\"#DejaVuSans-30\"/>\n      </g>\n     </g>\n    </g>\n    <g id=\"xtick_6\">\n     <g id=\"line2d_11\">\n      <path clip-path=\"url(#pc5a188dc34)\" d=\"M 349.844585 224.64 \nL 349.844585 7.2 \n\" style=\"fill:none;stroke:#ffffff;stroke-linecap:square;stroke-width:0.8;\"/>\n     </g>\n     <g id=\"line2d_12\">\n      <g>\n       <use style=\"fill:#ffffff;stroke:#ffffff;stroke-width:0.8;\" x=\"349.844585\" xlink:href=\"#m719d128700\" y=\"224.64\"/>\n      </g>\n     </g>\n     <g id=\"text_6\">\n      <!-- 1000 -->\n      <g style=\"fill:#ffffff;\" transform=\"translate(337.119585 239.238437)scale(0.1 -0.1)\">\n       <defs>\n        <path d=\"M 794 531 \nL 1825 531 \nL 1825 4091 \nL 703 3866 \nL 703 4441 \nL 1819 4666 \nL 2450 4666 \nL 2450 531 \nL 3481 531 \nL 3481 0 \nL 794 0 \nL 794 531 \nz\n\" id=\"DejaVuSans-31\" transform=\"scale(0.015625)\"/>\n       </defs>\n       <use xlink:href=\"#DejaVuSans-31\"/>\n       <use x=\"63.623047\" xlink:href=\"#DejaVuSans-30\"/>\n       <use x=\"127.246094\" xlink:href=\"#DejaVuSans-30\"/>\n       <use x=\"190.869141\" xlink:href=\"#DejaVuSans-30\"/>\n      </g>\n     </g>\n    </g>\n   </g>\n   <g id=\"matplotlib.axis_2\">\n    <g id=\"ytick_1\">\n     <g id=\"line2d_13\">\n      <path clip-path=\"url(#pc5a188dc34)\" d=\"M 37.065625 115.92 \nL 371.865625 115.92 \n\" style=\"fill:none;stroke:#ffffff;stroke-linecap:square;stroke-width:0.8;\"/>\n     </g>\n     <g id=\"line2d_14\">\n      <defs>\n       <path d=\"M 0 0 \nL -3.5 0 \n\" id=\"m4d71888705\" style=\"stroke:#ffffff;stroke-width:0.8;\"/>\n      </defs>\n      <g>\n       <use style=\"fill:#ffffff;stroke:#ffffff;stroke-width:0.8;\" x=\"37.065625\" xlink:href=\"#m4d71888705\" y=\"115.92\"/>\n      </g>\n     </g>\n     <g id=\"text_7\">\n      <!-- total -->\n      <g style=\"fill:#ffffff;\" transform=\"translate(7.2 119.719219)scale(0.1 -0.1)\">\n       <defs>\n        <path d=\"M 1172 4494 \nL 1172 3500 \nL 2356 3500 \nL 2356 3053 \nL 1172 3053 \nL 1172 1153 \nQ 1172 725 1289 603 \nQ 1406 481 1766 481 \nL 2356 481 \nL 2356 0 \nL 1766 0 \nQ 1100 0 847 248 \nQ 594 497 594 1153 \nL 594 3053 \nL 172 3053 \nL 172 3500 \nL 594 3500 \nL 594 4494 \nL 1172 4494 \nz\n\" id=\"DejaVuSans-74\" transform=\"scale(0.015625)\"/>\n        <path d=\"M 1959 3097 \nQ 1497 3097 1228 2736 \nQ 959 2375 959 1747 \nQ 959 1119 1226 758 \nQ 1494 397 1959 397 \nQ 2419 397 2687 759 \nQ 2956 1122 2956 1747 \nQ 2956 2369 2687 2733 \nQ 2419 3097 1959 3097 \nz\nM 1959 3584 \nQ 2709 3584 3137 3096 \nQ 3566 2609 3566 1747 \nQ 3566 888 3137 398 \nQ 2709 -91 1959 -91 \nQ 1206 -91 779 398 \nQ 353 888 353 1747 \nQ 353 2609 779 3096 \nQ 1206 3584 1959 3584 \nz\n\" id=\"DejaVuSans-6f\" transform=\"scale(0.015625)\"/>\n        <path d=\"M 2194 1759 \nQ 1497 1759 1228 1600 \nQ 959 1441 959 1056 \nQ 959 750 1161 570 \nQ 1363 391 1709 391 \nQ 2188 391 2477 730 \nQ 2766 1069 2766 1631 \nL 2766 1759 \nL 2194 1759 \nz\nM 3341 1997 \nL 3341 0 \nL 2766 0 \nL 2766 531 \nQ 2569 213 2275 61 \nQ 1981 -91 1556 -91 \nQ 1019 -91 701 211 \nQ 384 513 384 1019 \nQ 384 1609 779 1909 \nQ 1175 2209 1959 2209 \nL 2766 2209 \nL 2766 2266 \nQ 2766 2663 2505 2880 \nQ 2244 3097 1772 3097 \nQ 1472 3097 1187 3025 \nQ 903 2953 641 2809 \nL 641 3341 \nQ 956 3463 1253 3523 \nQ 1550 3584 1831 3584 \nQ 2591 3584 2966 3190 \nQ 3341 2797 3341 1997 \nz\n\" id=\"DejaVuSans-61\" transform=\"scale(0.015625)\"/>\n        <path d=\"M 603 4863 \nL 1178 4863 \nL 1178 0 \nL 603 0 \nL 603 4863 \nz\n\" id=\"DejaVuSans-6c\" transform=\"scale(0.015625)\"/>\n       </defs>\n       <use xlink:href=\"#DejaVuSans-74\"/>\n       <use x=\"39.208984\" xlink:href=\"#DejaVuSans-6f\"/>\n       <use x=\"100.390625\" xlink:href=\"#DejaVuSans-74\"/>\n       <use x=\"139.599609\" xlink:href=\"#DejaVuSans-61\"/>\n       <use x=\"200.878906\" xlink:href=\"#DejaVuSans-6c\"/>\n      </g>\n     </g>\n    </g>\n   </g>\n   <g id=\"line2d_15\">\n    <path clip-path=\"url(#pc5a188dc34)\" d=\"M 84.00013 132.228 \nL 84.00013 99.612 \nL 187.171876 99.612 \nL 187.171876 132.228 \nL 84.00013 132.228 \n\" style=\"fill:none;stroke:#8dd3c7;stroke-linecap:square;\"/>\n   </g>\n   <g id=\"line2d_16\">\n    <path clip-path=\"url(#pc5a188dc34)\" d=\"M 84.00013 115.92 \nL 52.283807 115.92 \n\" style=\"fill:none;stroke:#8dd3c7;stroke-linecap:square;\"/>\n   </g>\n   <g id=\"line2d_17\">\n    <path clip-path=\"url(#pc5a188dc34)\" d=\"M 187.171876 115.92 \nL 335.272433 115.92 \n\" style=\"fill:none;stroke:#8dd3c7;stroke-linecap:square;\"/>\n   </g>\n   <g id=\"line2d_18\">\n    <path clip-path=\"url(#pc5a188dc34)\" d=\"M 52.283807 124.074 \nL 52.283807 107.766 \n\" style=\"fill:none;stroke:#000000;stroke-linecap:square;\"/>\n   </g>\n   <g id=\"line2d_19\">\n    <path clip-path=\"url(#pc5a188dc34)\" d=\"M 335.272433 124.074 \nL 335.272433 107.766 \n\" style=\"fill:none;stroke:#000000;stroke-linecap:square;\"/>\n   </g>\n   <g id=\"line2d_20\">\n    <defs>\n     <path d=\"M 0 3 \nC 0.795609 3 1.55874 2.683901 2.12132 2.12132 \nC 2.683901 1.55874 3 0.795609 3 0 \nC 3 -0.795609 2.683901 -1.55874 2.12132 -2.12132 \nC 1.55874 -2.683901 0.795609 -3 0 -3 \nC -0.795609 -3 -1.55874 -2.683901 -2.12132 -2.12132 \nC -2.683901 -1.55874 -3 -0.795609 -3 0 \nC -3 0.795609 -2.683901 1.55874 -2.12132 2.12132 \nC -1.55874 2.683901 -0.795609 3 0 3 \nz\n\" id=\"m0f7bb7b506\" style=\"stroke:#ffffff;\"/>\n    </defs>\n    <g clip-path=\"url(#pc5a188dc34)\">\n     <use style=\"fill-opacity:0;stroke:#ffffff;\" x=\"356.647443\" xlink:href=\"#m0f7bb7b506\" y=\"115.92\"/>\n    </g>\n   </g>\n   <g id=\"line2d_21\">\n    <path clip-path=\"url(#pc5a188dc34)\" d=\"M 119.17838 132.228 \nL 119.17838 99.612 \n\" style=\"fill:none;stroke:#bfbbd9;stroke-linecap:square;\"/>\n   </g>\n   <g id=\"patch_3\">\n    <path d=\"M 37.065625 224.64 \nL 37.065625 7.2 \n\" style=\"fill:none;stroke:#ffffff;stroke-linecap:square;stroke-linejoin:miter;stroke-width:0.8;\"/>\n   </g>\n   <g id=\"patch_4\">\n    <path d=\"M 371.865625 224.64 \nL 371.865625 7.2 \n\" style=\"fill:none;stroke:#ffffff;stroke-linecap:square;stroke-linejoin:miter;stroke-width:0.8;\"/>\n   </g>\n   <g id=\"patch_5\">\n    <path d=\"M 37.065625 224.64 \nL 371.865625 224.64 \n\" style=\"fill:none;stroke:#ffffff;stroke-linecap:square;stroke-linejoin:miter;stroke-width:0.8;\"/>\n   </g>\n   <g id=\"patch_6\">\n    <path d=\"M 37.065625 7.2 \nL 371.865625 7.2 \n\" style=\"fill:none;stroke:#ffffff;stroke-linecap:square;stroke-linejoin:miter;stroke-width:0.8;\"/>\n   </g>\n  </g>\n </g>\n <defs>\n  <clipPath id=\"pc5a188dc34\">\n   <rect height=\"217.44\" width=\"334.8\" x=\"37.065625\" y=\"7.2\"/>\n  </clipPath>\n </defs>\n</svg>\n",
      "text/plain": [
       "<Figure size 432x288 with 1 Axes>"
      ]
     },
     "metadata": {},
     "output_type": "display_data"
    }
   ],
   "source": [
    "# Boxplot total column third month\n",
    "df_month3 = df[df['month']==3]\n",
    "df_month3.boxplot('total', vert = False)"
   ]
  },
  {
   "cell_type": "code",
   "execution_count": 55,
   "metadata": {},
   "outputs": [
    {
     "data": {
      "text/plain": [
       "product_line\n",
       "Electronic accessories    170\n",
       "Fashion accessories       178\n",
       "Food and beverages        174\n",
       "Health and beauty         152\n",
       "Home and lifestyle        160\n",
       "Sports and travel         166\n",
       "Name: product_line, dtype: int64"
      ]
     },
     "execution_count": 55,
     "metadata": {},
     "output_type": "execute_result"
    }
   ],
   "source": [
    "df.groupby('product_line')['product_line'].count()"
   ]
  },
  {
   "cell_type": "code",
   "execution_count": 56,
   "metadata": {},
   "outputs": [],
   "source": [
    "# Generate text fro wordcloud\n",
    "df_product_copy = df['product_line']\n",
    "text = pd.Series(df_product_copy).str.cat(sep=\" \")"
   ]
  },
  {
   "cell_type": "code",
   "execution_count": 57,
   "metadata": {},
   "outputs": [],
   "source": [
    "word_cloud = WordCloud(background_color=\"white\").generate(text)"
   ]
  },
  {
   "cell_type": "code",
   "execution_count": 58,
   "metadata": {},
   "outputs": [
    {
     "data": {
      "image/png": "[encoded data removed]",
      "image/svg+xml": "<?xml version=\"1.0\" encoding=\"utf-8\" standalone=\"no\"?>\n<!DOCTYPE svg PUBLIC \"-//W3C//DTD SVG 1.1//EN\"\n  \"http://www.w3.org/Graphics/SVG/1.1/DTD/svg11.dtd\">\n<svg height=\"181.8pt\" version=\"1.1\" viewBox=\"0 0 349.2 181.8\" width=\"349.2pt\" xmlns=\"http://www.w3.org/2000/svg\" xmlns:xlink=\"http://www.w3.org/1999/xlink\">\n <metadata>\n  <rdf:RDF xmlns:cc=\"http://creativecommons.org/ns#\" xmlns:dc=\"http://purl.org/dc/elements/1.1/\" xmlns:rdf=\"http://www.w3.org/1999/02/22-rdf-syntax-ns#\">\n   <cc:Work>\n    <dc:type rdf:resource=\"http://purl.org/dc/dcmitype/StillImage\"/>\n    <dc:date>2021-11-12T11:32:39.206571</dc:date>\n    <dc:format>image/svg+xml</dc:format>\n    <dc:creator>\n     <cc:Agent>\n      <dc:title>Matplotlib v3.4.3, https://matplotlib.org/</dc:title>\n     </cc:Agent>\n    </dc:creator>\n   </cc:Work>\n  </rdf:RDF>\n </metadata>\n <defs>\n  <style type=\"text/css\">*{stroke-linecap:butt;stroke-linejoin:round;}</style>\n </defs>\n <g id=\"figure_1\">\n  <g id=\"patch_1\">\n   <path d=\"M 0 181.8 \nL 349.2 181.8 \nL 349.2 0 \nL 0 0 \nz\n\"/>\n  </g>\n  <g id=\"axes_1\">\n   <g clip-path=\"url(#p11696753c1)\">\n    <image height=\"168\" id=\"imagef3134a67d3\" transform=\"scale(1 -1)translate(0 -168)\" width=\"335\" x=\"7.2\" xlink:href=\"data:image/png;base64,\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\" y=\"-6.6\"/>\n   </g>\n  </g>\n </g>\n <defs>\n  <clipPath id=\"p11696753c1\">\n   <rect height=\"167.4\" width=\"334.8\" x=\"7.2\" y=\"7.2\"/>\n  </clipPath>\n </defs>\n</svg>\n",
      "text/plain": [
       "<Figure size 432x288 with 1 Axes>"
      ]
     },
     "metadata": {},
     "output_type": "display_data"
    }
   ],
   "source": [
    "\n",
    "plt.imshow(word_cloud, interpolation='bilinear')\n",
    "plt.axis(\"off\")\n",
    "plt.show()"
   ]
  },
  {
   "cell_type": "code",
   "execution_count": 87,
   "metadata": {},
   "outputs": [
    {
     "data": {
      "text/html": [
       "<div>\n",
       "<style scoped>\n",
       "    .dataframe tbody tr th:only-of-type {\n",
       "        vertical-align: middle;\n",
       "    }\n",
       "\n",
       "    .dataframe tbody tr th {\n",
       "        vertical-align: top;\n",
       "    }\n",
       "\n",
       "    .dataframe thead th {\n",
       "        text-align: right;\n",
       "    }\n",
       "</style>\n",
       "<table border=\"1\" class=\"dataframe\">\n",
       "  <thead>\n",
       "    <tr style=\"text-align: right;\">\n",
       "      <th></th>\n",
       "      <th>product_line</th>\n",
       "      <th>rating</th>\n",
       "    </tr>\n",
       "  </thead>\n",
       "  <tbody>\n",
       "    <tr>\n",
       "      <th>0</th>\n",
       "      <td>Home and lifestyle</td>\n",
       "      <td>6.837500</td>\n",
       "    </tr>\n",
       "    <tr>\n",
       "      <th>1</th>\n",
       "      <td>Sports and travel</td>\n",
       "      <td>6.916265</td>\n",
       "    </tr>\n",
       "    <tr>\n",
       "      <th>2</th>\n",
       "      <td>Electronic accessories</td>\n",
       "      <td>6.924706</td>\n",
       "    </tr>\n",
       "    <tr>\n",
       "      <th>3</th>\n",
       "      <td>Health and beauty</td>\n",
       "      <td>7.003289</td>\n",
       "    </tr>\n",
       "    <tr>\n",
       "      <th>4</th>\n",
       "      <td>Fashion accessories</td>\n",
       "      <td>7.029213</td>\n",
       "    </tr>\n",
       "    <tr>\n",
       "      <th>5</th>\n",
       "      <td>Food and beverages</td>\n",
       "      <td>7.113218</td>\n",
       "    </tr>\n",
       "  </tbody>\n",
       "</table>\n",
       "</div>"
      ],
      "text/plain": [
       "             product_line    rating\n",
       "0      Home and lifestyle  6.837500\n",
       "1       Sports and travel  6.916265\n",
       "2  Electronic accessories  6.924706\n",
       "3       Health and beauty  7.003289\n",
       "4     Fashion accessories  7.029213\n",
       "5      Food and beverages  7.113218"
      ]
     },
     "execution_count": 87,
     "metadata": {},
     "output_type": "execute_result"
    }
   ],
   "source": [
    "#Find total rating\n",
    "b=df.groupby(['product_line'])['rating'].mean().sort_values().reset_index()\n",
    "b"
   ]
  },
  {
   "cell_type": "code",
   "execution_count": 79,
   "metadata": {},
   "outputs": [
    {
     "data": {
      "text/html": [
       "<div>\n",
       "<style scoped>\n",
       "    .dataframe tbody tr th:only-of-type {\n",
       "        vertical-align: middle;\n",
       "    }\n",
       "\n",
       "    .dataframe tbody tr th {\n",
       "        vertical-align: top;\n",
       "    }\n",
       "\n",
       "    .dataframe thead th {\n",
       "        text-align: right;\n",
       "    }\n",
       "</style>\n",
       "<table border=\"1\" class=\"dataframe\">\n",
       "  <thead>\n",
       "    <tr style=\"text-align: right;\">\n",
       "      <th></th>\n",
       "      <th>product_line</th>\n",
       "      <th>rating</th>\n",
       "      <th>gross_income</th>\n",
       "    </tr>\n",
       "  </thead>\n",
       "  <tbody>\n",
       "    <tr>\n",
       "      <th>0</th>\n",
       "      <td>Home and lifestyle</td>\n",
       "      <td>6.837500</td>\n",
       "      <td>16.030331</td>\n",
       "    </tr>\n",
       "    <tr>\n",
       "      <th>1</th>\n",
       "      <td>Sports and travel</td>\n",
       "      <td>6.916265</td>\n",
       "      <td>15.812630</td>\n",
       "    </tr>\n",
       "    <tr>\n",
       "      <th>2</th>\n",
       "      <td>Electronic accessories</td>\n",
       "      <td>6.924706</td>\n",
       "      <td>15.220597</td>\n",
       "    </tr>\n",
       "    <tr>\n",
       "      <th>3</th>\n",
       "      <td>Health and beauty</td>\n",
       "      <td>7.003289</td>\n",
       "      <td>15.411572</td>\n",
       "    </tr>\n",
       "    <tr>\n",
       "      <th>4</th>\n",
       "      <td>Fashion accessories</td>\n",
       "      <td>7.029213</td>\n",
       "      <td>14.528062</td>\n",
       "    </tr>\n",
       "    <tr>\n",
       "      <th>5</th>\n",
       "      <td>Food and beverages</td>\n",
       "      <td>7.113218</td>\n",
       "      <td>15.365310</td>\n",
       "    </tr>\n",
       "  </tbody>\n",
       "</table>\n",
       "</div>"
      ],
      "text/plain": [
       "             product_line    rating  gross_income\n",
       "0      Home and lifestyle  6.837500     16.030331\n",
       "1       Sports and travel  6.916265     15.812630\n",
       "2  Electronic accessories  6.924706     15.220597\n",
       "3       Health and beauty  7.003289     15.411572\n",
       "4     Fashion accessories  7.029213     14.528062\n",
       "5      Food and beverages  7.113218     15.365310"
      ]
     },
     "execution_count": 79,
     "metadata": {},
     "output_type": "execute_result"
    }
   ],
   "source": [
    "a = df.groupby('product_line')['gross_income'].mean().sort_values().reset_index()\n",
    "\n",
    "b.merge(a)"
   ]
  },
  {
   "cell_type": "markdown",
   "metadata": {},
   "source": [
    "<p id=\"part9\"></p>\n",
    "\n",
    "# <span style=\"font-family: Arials; font-size: 16px; font-style: bold; font-weight: bold; letter-spacing: 3px; color: #FF8C00\">3 TESTING HYPOTHESES</span>\n",
    "\n",
    "<hr style=\"height: 0.5px; border: 0; background-color: #808080\">\n"
   ]
  },
  {
   "cell_type": "markdown",
   "metadata": {},
   "source": [
    "#### This part will conduct hypothesis testing single sample with two tailed test to find out whether the average daily sales is equal to total sales column mean"
   ]
  },
  {
   "cell_type": "code",
   "execution_count": 59,
   "metadata": {},
   "outputs": [
    {
     "name": "stdout",
     "output_type": "stream",
     "text": [
      "We found that mean of total sales is: 322.966749\n"
     ]
    }
   ],
   "source": [
    "# Find mean of total sales\n",
    "total_sales_mean= df.describe()['total']['mean']\n",
    "print(f\"We found that mean of total sales is: {total_sales_mean}\")"
   ]
  },
  {
   "cell_type": "markdown",
   "metadata": {},
   "source": [
    "Let's start out test by defining two hypotheses:\n",
    "1. The null hypothesis (H0) is that the average daily sales of the supermarket company is 322.96.\n",
    "2. The alternative hypothesis (H1) is that the average daily sales of the supermarket company is not 322.96.\n",
    "   \n",
    "We can write these hyphotesis in mathematical expression as below:  \n",
    "$$\n",
    "\\begin{equation}H_{0}: \\mu = 322.96 \\end{equation}\n",
    "$$\n",
    "\n",
    "$$\n",
    "\\begin{equation}H_{1}: \\mu  != 322.96 \\end{equation}   \n",
    "$$"
   ]
  },
  {
   "cell_type": "code",
   "execution_count": 60,
   "metadata": {},
   "outputs": [
    {
     "name": "stdout",
     "output_type": "stream",
     "text": [
      "t-statistic:0.10566523837234856\n",
      "p-value:0.9158691740470923\n"
     ]
    }
   ],
   "source": [
    "pop=np.random.normal(df['total'].mean(),df['total'].std(),10000)\n",
    "\n",
    "t,p=stats.ttest_1samp(df['total'],pop.mean())\n",
    "print (\"t-statistic:\" + str(t))\n",
    "print(\"p-value:\" + str(p))\n"
   ]
  },
  {
   "cell_type": "code",
   "execution_count": 61,
   "metadata": {},
   "outputs": [
    {
     "data": {
      "text/plain": [
       "<matplotlib.lines.Line2D at 0x7fae018b3be0>"
      ]
     },
     "execution_count": 61,
     "metadata": {},
     "output_type": "execute_result"
    },
    {
     "data": {
      "image/png": "[encoded data removed]",
      "image/svg+xml": "<?xml version=\"1.0\" encoding=\"utf-8\" standalone=\"no\"?>\n<!DOCTYPE svg PUBLIC \"-//W3C//DTD SVG 1.1//EN\"\n  \"http://www.w3.org/Graphics/SVG/1.1/DTD/svg11.dtd\">\n<svg height=\"248.518125pt\" version=\"1.1\" viewBox=\"0 0 375.2875 248.518125\" width=\"375.2875pt\" xmlns=\"http://www.w3.org/2000/svg\" xmlns:xlink=\"http://www.w3.org/1999/xlink\">\n <metadata>\n  <rdf:RDF xmlns:cc=\"http://creativecommons.org/ns#\" xmlns:dc=\"http://purl.org/dc/elements/1.1/\" xmlns:rdf=\"http://www.w3.org/1999/02/22-rdf-syntax-ns#\">\n   <cc:Work>\n    <dc:type rdf:resource=\"http://purl.org/dc/dcmitype/StillImage\"/>\n    <dc:date>2021-11-12T11:32:39.427045</dc:date>\n    <dc:format>image/svg+xml</dc:format>\n    <dc:creator>\n     <cc:Agent>\n      <dc:title>Matplotlib v3.4.3, https://matplotlib.org/</dc:title>\n     </cc:Agent>\n    </dc:creator>\n   </cc:Work>\n  </rdf:RDF>\n </metadata>\n <defs>\n  <style type=\"text/css\">*{stroke-linecap:butt;stroke-linejoin:round;}</style>\n </defs>\n <g id=\"figure_1\">\n  <g id=\"patch_1\">\n   <path d=\"M 0 248.518125 \nL 375.2875 248.518125 \nL 375.2875 0 \nL 0 0 \nz\n\"/>\n  </g>\n  <g id=\"axes_1\">\n   <g id=\"patch_2\">\n    <path d=\"M 33.2875 224.64 \nL 368.0875 224.64 \nL 368.0875 7.2 \nL 33.2875 7.2 \nz\n\"/>\n   </g>\n   <g id=\"patch_3\">\n    <path clip-path=\"url(#p202946b90d)\" d=\"M 48.505682 224.64 \nL 51.549318 224.64 \nL 51.549318 224.053355 \nL 48.505682 224.053355 \nz\n\" style=\"fill:#8dd3c7;\"/>\n   </g>\n   <g id=\"patch_4\">\n    <path clip-path=\"url(#p202946b90d)\" d=\"M 51.549318 224.64 \nL 54.592955 224.64 \nL 54.592955 224.64 \nL 51.549318 224.64 \nz\n\" style=\"fill:#8dd3c7;\"/>\n   </g>\n   <g id=\"patch_5\">\n    <path clip-path=\"url(#p202946b90d)\" d=\"M 54.592955 224.64 \nL 57.636591 224.64 \nL 57.636591 224.64 \nL 54.592955 224.64 \nz\n\" style=\"fill:#8dd3c7;\"/>\n   </g>\n   <g id=\"patch_6\">\n    <path clip-path=\"url(#p202946b90d)\" d=\"M 57.636591 224.64 \nL 60.680227 224.64 \nL 60.680227 224.64 \nL 57.636591 224.64 \nz\n\" style=\"fill:#8dd3c7;\"/>\n   </g>\n   <g id=\"patch_7\">\n    <path clip-path=\"url(#p202946b90d)\" d=\"M 60.680227 224.64 \nL 63.723864 224.64 \nL 63.723864 223.46671 \nL 60.680227 223.46671 \nz\n\" style=\"fill:#8dd3c7;\"/>\n   </g>\n   <g id=\"patch_8\">\n    <path clip-path=\"url(#p202946b90d)\" d=\"M 63.723864 224.64 \nL 66.7675 224.64 \nL 66.7675 224.64 \nL 63.723864 224.64 \nz\n\" style=\"fill:#8dd3c7;\"/>\n   </g>\n   <g id=\"patch_9\">\n    <path clip-path=\"url(#p202946b90d)\" d=\"M 66.7675 224.64 \nL 69.811136 224.64 \nL 69.811136 224.64 \nL 66.7675 224.64 \nz\n\" style=\"fill:#8dd3c7;\"/>\n   </g>\n   <g id=\"patch_10\">\n    <path clip-path=\"url(#p202946b90d)\" d=\"M 69.811136 224.64 \nL 72.854773 224.64 \nL 72.854773 224.053355 \nL 69.811136 224.053355 \nz\n\" style=\"fill:#8dd3c7;\"/>\n   </g>\n   <g id=\"patch_11\">\n    <path clip-path=\"url(#p202946b90d)\" d=\"M 72.854773 224.64 \nL 75.898409 224.64 \nL 75.898409 224.64 \nL 72.854773 224.64 \nz\n\" style=\"fill:#8dd3c7;\"/>\n   </g>\n   <g id=\"patch_12\">\n    <path clip-path=\"url(#p202946b90d)\" d=\"M 75.898409 224.64 \nL 78.942045 224.64 \nL 78.942045 224.053355 \nL 75.898409 224.053355 \nz\n\" style=\"fill:#8dd3c7;\"/>\n   </g>\n   <g id=\"patch_13\">\n    <path clip-path=\"url(#p202946b90d)\" d=\"M 78.942045 224.64 \nL 81.985682 224.64 \nL 81.985682 223.46671 \nL 78.942045 223.46671 \nz\n\" style=\"fill:#8dd3c7;\"/>\n   </g>\n   <g id=\"patch_14\">\n    <path clip-path=\"url(#p202946b90d)\" d=\"M 81.985682 224.64 \nL 85.029318 224.64 \nL 85.029318 224.64 \nL 81.985682 224.64 \nz\n\" style=\"fill:#8dd3c7;\"/>\n   </g>\n   <g id=\"patch_15\">\n    <path clip-path=\"url(#p202946b90d)\" d=\"M 85.029318 224.64 \nL 88.072955 224.64 \nL 88.072955 223.46671 \nL 85.029318 223.46671 \nz\n\" style=\"fill:#8dd3c7;\"/>\n   </g>\n   <g id=\"patch_16\">\n    <path clip-path=\"url(#p202946b90d)\" d=\"M 88.072955 224.64 \nL 91.116591 224.64 \nL 91.116591 222.29342 \nL 88.072955 222.29342 \nz\n\" style=\"fill:#8dd3c7;\"/>\n   </g>\n   <g id=\"patch_17\">\n    <path clip-path=\"url(#p202946b90d)\" d=\"M 91.116591 224.64 \nL 94.160227 224.64 \nL 94.160227 223.46671 \nL 91.116591 223.46671 \nz\n\" style=\"fill:#8dd3c7;\"/>\n   </g>\n   <g id=\"patch_18\">\n    <path clip-path=\"url(#p202946b90d)\" d=\"M 94.160227 224.64 \nL 97.203864 224.64 \nL 97.203864 223.46671 \nL 94.160227 223.46671 \nz\n\" style=\"fill:#8dd3c7;\"/>\n   </g>\n   <g id=\"patch_19\">\n    <path clip-path=\"url(#p202946b90d)\" d=\"M 97.203864 224.64 \nL 100.2475 224.64 \nL 100.2475 222.29342 \nL 97.203864 222.29342 \nz\n\" style=\"fill:#8dd3c7;\"/>\n   </g>\n   <g id=\"patch_20\">\n    <path clip-path=\"url(#p202946b90d)\" d=\"M 100.2475 224.64 \nL 103.291136 224.64 \nL 103.291136 220.533484 \nL 100.2475 220.533484 \nz\n\" style=\"fill:#8dd3c7;\"/>\n   </g>\n   <g id=\"patch_21\">\n    <path clip-path=\"url(#p202946b90d)\" d=\"M 103.291136 224.64 \nL 106.334773 224.64 \nL 106.334773 222.29342 \nL 103.291136 222.29342 \nz\n\" style=\"fill:#8dd3c7;\"/>\n   </g>\n   <g id=\"patch_22\">\n    <path clip-path=\"url(#p202946b90d)\" d=\"M 106.334773 224.64 \nL 109.378409 224.64 \nL 109.378409 218.773549 \nL 106.334773 218.773549 \nz\n\" style=\"fill:#8dd3c7;\"/>\n   </g>\n   <g id=\"patch_23\">\n    <path clip-path=\"url(#p202946b90d)\" d=\"M 109.378409 224.64 \nL 112.422045 224.64 \nL 112.422045 213.493743 \nL 109.378409 213.493743 \nz\n\" style=\"fill:#8dd3c7;\"/>\n   </g>\n   <g id=\"patch_24\">\n    <path clip-path=\"url(#p202946b90d)\" d=\"M 112.422045 224.64 \nL 115.465682 224.64 \nL 115.465682 214.667034 \nL 112.422045 214.667034 \nz\n\" style=\"fill:#8dd3c7;\"/>\n   </g>\n   <g id=\"patch_25\">\n    <path clip-path=\"url(#p202946b90d)\" d=\"M 115.465682 224.64 \nL 118.509318 224.64 \nL 118.509318 207.627293 \nL 115.465682 207.627293 \nz\n\" style=\"fill:#8dd3c7;\"/>\n   </g>\n   <g id=\"patch_26\">\n    <path clip-path=\"url(#p202946b90d)\" d=\"M 118.509318 224.64 \nL 121.552955 224.64 \nL 121.552955 209.387228 \nL 118.509318 209.387228 \nz\n\" style=\"fill:#8dd3c7;\"/>\n   </g>\n   <g id=\"patch_27\">\n    <path clip-path=\"url(#p202946b90d)\" d=\"M 121.552955 224.64 \nL 124.596591 224.64 \nL 124.596591 205.867357 \nL 121.552955 205.867357 \nz\n\" style=\"fill:#8dd3c7;\"/>\n   </g>\n   <g id=\"patch_28\">\n    <path clip-path=\"url(#p202946b90d)\" d=\"M 124.596591 224.64 \nL 127.640227 224.64 \nL 127.640227 200.587552 \nL 124.596591 200.587552 \nz\n\" style=\"fill:#8dd3c7;\"/>\n   </g>\n   <g id=\"patch_29\">\n    <path clip-path=\"url(#p202946b90d)\" d=\"M 127.640227 224.64 \nL 130.683864 224.64 \nL 130.683864 196.481036 \nL 127.640227 196.481036 \nz\n\" style=\"fill:#8dd3c7;\"/>\n   </g>\n   <g id=\"patch_30\">\n    <path clip-path=\"url(#p202946b90d)\" d=\"M 130.683864 224.64 \nL 133.7275 224.64 \nL 133.7275 200.000907 \nL 130.683864 200.000907 \nz\n\" style=\"fill:#8dd3c7;\"/>\n   </g>\n   <g id=\"patch_31\">\n    <path clip-path=\"url(#p202946b90d)\" d=\"M 133.7275 224.64 \nL 136.771136 224.64 \nL 136.771136 190.614585 \nL 133.7275 190.614585 \nz\n\" style=\"fill:#8dd3c7;\"/>\n   </g>\n   <g id=\"patch_32\">\n    <path clip-path=\"url(#p202946b90d)\" d=\"M 136.771136 224.64 \nL 139.814773 224.64 \nL 139.814773 180.054974 \nL 136.771136 180.054974 \nz\n\" style=\"fill:#8dd3c7;\"/>\n   </g>\n   <g id=\"patch_33\">\n    <path clip-path=\"url(#p202946b90d)\" d=\"M 139.814773 224.64 \nL 142.858409 224.64 \nL 142.858409 177.708393 \nL 139.814773 177.708393 \nz\n\" style=\"fill:#8dd3c7;\"/>\n   </g>\n   <g id=\"patch_34\">\n    <path clip-path=\"url(#p202946b90d)\" d=\"M 142.858409 224.64 \nL 145.902045 224.64 \nL 145.902045 178.295038 \nL 142.858409 178.295038 \nz\n\" style=\"fill:#8dd3c7;\"/>\n   </g>\n   <g id=\"patch_35\">\n    <path clip-path=\"url(#p202946b90d)\" d=\"M 145.902045 224.64 \nL 148.945682 224.64 \nL 148.945682 164.802202 \nL 145.902045 164.802202 \nz\n\" style=\"fill:#8dd3c7;\"/>\n   </g>\n   <g id=\"patch_36\">\n    <path clip-path=\"url(#p202946b90d)\" d=\"M 148.945682 224.64 \nL 151.989318 224.64 \nL 151.989318 163.628911 \nL 148.945682 163.628911 \nz\n\" style=\"fill:#8dd3c7;\"/>\n   </g>\n   <g id=\"patch_37\">\n    <path clip-path=\"url(#p202946b90d)\" d=\"M 151.989318 224.64 \nL 155.032955 224.64 \nL 155.032955 152.482655 \nL 151.989318 152.482655 \nz\n\" style=\"fill:#8dd3c7;\"/>\n   </g>\n   <g id=\"patch_38\">\n    <path clip-path=\"url(#p202946b90d)\" d=\"M 155.032955 224.64 \nL 158.076591 224.64 \nL 158.076591 143.682979 \nL 155.032955 143.682979 \nz\n\" style=\"fill:#8dd3c7;\"/>\n   </g>\n   <g id=\"patch_39\">\n    <path clip-path=\"url(#p202946b90d)\" d=\"M 158.076591 224.64 \nL 161.120227 224.64 \nL 161.120227 137.816528 \nL 158.076591 137.816528 \nz\n\" style=\"fill:#8dd3c7;\"/>\n   </g>\n   <g id=\"patch_40\">\n    <path clip-path=\"url(#p202946b90d)\" d=\"M 161.120227 224.64 \nL 164.163864 224.64 \nL 164.163864 125.496981 \nL 161.120227 125.496981 \nz\n\" style=\"fill:#8dd3c7;\"/>\n   </g>\n   <g id=\"patch_41\">\n    <path clip-path=\"url(#p202946b90d)\" d=\"M 164.163864 224.64 \nL 167.2075 224.64 \nL 167.2075 121.390465 \nL 164.163864 121.390465 \nz\n\" style=\"fill:#8dd3c7;\"/>\n   </g>\n   <g id=\"patch_42\">\n    <path clip-path=\"url(#p202946b90d)\" d=\"M 167.2075 224.64 \nL 170.251136 224.64 \nL 170.251136 104.964403 \nL 167.2075 104.964403 \nz\n\" style=\"fill:#8dd3c7;\"/>\n   </g>\n   <g id=\"patch_43\">\n    <path clip-path=\"url(#p202946b90d)\" d=\"M 170.251136 224.64 \nL 173.294773 224.64 \nL 173.294773 107.310983 \nL 170.251136 107.310983 \nz\n\" style=\"fill:#8dd3c7;\"/>\n   </g>\n   <g id=\"patch_44\">\n    <path clip-path=\"url(#p202946b90d)\" d=\"M 173.294773 224.64 \nL 176.338409 224.64 \nL 176.338409 89.711631 \nL 173.294773 89.711631 \nz\n\" style=\"fill:#8dd3c7;\"/>\n   </g>\n   <g id=\"patch_45\">\n    <path clip-path=\"url(#p202946b90d)\" d=\"M 176.338409 224.64 \nL 179.382045 224.64 \nL 179.382045 82.67189 \nL 176.338409 82.67189 \nz\n\" style=\"fill:#8dd3c7;\"/>\n   </g>\n   <g id=\"patch_46\">\n    <path clip-path=\"url(#p202946b90d)\" d=\"M 179.382045 224.64 \nL 182.425682 224.64 \nL 182.425682 80.32531 \nL 179.382045 80.32531 \nz\n\" style=\"fill:#8dd3c7;\"/>\n   </g>\n   <g id=\"patch_47\">\n    <path clip-path=\"url(#p202946b90d)\" d=\"M 182.425682 224.64 \nL 185.469318 224.64 \nL 185.469318 51.579701 \nL 182.425682 51.579701 \nz\n\" style=\"fill:#8dd3c7;\"/>\n   </g>\n   <g id=\"patch_48\">\n    <path clip-path=\"url(#p202946b90d)\" d=\"M 185.469318 224.64 \nL 188.512955 224.64 \nL 188.512955 57.446151 \nL 185.469318 57.446151 \nz\n\" style=\"fill:#8dd3c7;\"/>\n   </g>\n   <g id=\"patch_49\">\n    <path clip-path=\"url(#p202946b90d)\" d=\"M 188.512955 224.64 \nL 191.556591 224.64 \nL 191.556591 47.473185 \nL 188.512955 47.473185 \nz\n\" style=\"fill:#8dd3c7;\"/>\n   </g>\n   <g id=\"patch_50\">\n    <path clip-path=\"url(#p202946b90d)\" d=\"M 191.556591 224.64 \nL 194.600227 224.64 \nL 194.600227 17.554286 \nL 191.556591 17.554286 \nz\n\" style=\"fill:#8dd3c7;\"/>\n   </g>\n   <g id=\"patch_51\">\n    <path clip-path=\"url(#p202946b90d)\" d=\"M 194.600227 224.64 \nL 197.643864 224.64 \nL 197.643864 35.153638 \nL 194.600227 35.153638 \nz\n\" style=\"fill:#8dd3c7;\"/>\n   </g>\n   <g id=\"patch_52\">\n    <path clip-path=\"url(#p202946b90d)\" d=\"M 197.643864 224.64 \nL 200.6875 224.64 \nL 200.6875 29.873832 \nL 197.643864 29.873832 \nz\n\" style=\"fill:#8dd3c7;\"/>\n   </g>\n   <g id=\"patch_53\">\n    <path clip-path=\"url(#p202946b90d)\" d=\"M 200.6875 224.64 \nL 203.731136 224.64 \nL 203.731136 52.166346 \nL 200.6875 52.166346 \nz\n\" style=\"fill:#8dd3c7;\"/>\n   </g>\n   <g id=\"patch_54\">\n    <path clip-path=\"url(#p202946b90d)\" d=\"M 203.731136 224.64 \nL 206.774773 224.64 \nL 206.774773 38.086864 \nL 203.731136 38.086864 \nz\n\" style=\"fill:#8dd3c7;\"/>\n   </g>\n   <g id=\"patch_55\">\n    <path clip-path=\"url(#p202946b90d)\" d=\"M 206.774773 224.64 \nL 209.818409 224.64 \nL 209.818409 46.299895 \nL 206.774773 46.299895 \nz\n\" style=\"fill:#8dd3c7;\"/>\n   </g>\n   <g id=\"patch_56\">\n    <path clip-path=\"url(#p202946b90d)\" d=\"M 209.818409 224.64 \nL 212.862045 224.64 \nL 212.862045 48.646475 \nL 209.818409 48.646475 \nz\n\" style=\"fill:#8dd3c7;\"/>\n   </g>\n   <g id=\"patch_57\">\n    <path clip-path=\"url(#p202946b90d)\" d=\"M 212.862045 224.64 \nL 215.905682 224.64 \nL 215.905682 49.23312 \nL 212.862045 49.23312 \nz\n\" style=\"fill:#8dd3c7;\"/>\n   </g>\n   <g id=\"patch_58\">\n    <path clip-path=\"url(#p202946b90d)\" d=\"M 215.905682 224.64 \nL 218.949318 224.64 \nL 218.949318 57.446151 \nL 215.905682 57.446151 \nz\n\" style=\"fill:#8dd3c7;\"/>\n   </g>\n   <g id=\"patch_59\">\n    <path clip-path=\"url(#p202946b90d)\" d=\"M 218.949318 224.64 \nL 221.992955 224.64 \nL 221.992955 62.725957 \nL 218.949318 62.725957 \nz\n\" style=\"fill:#8dd3c7;\"/>\n   </g>\n   <g id=\"patch_60\">\n    <path clip-path=\"url(#p202946b90d)\" d=\"M 221.992955 224.64 \nL 225.036591 224.64 \nL 225.036591 67.419118 \nL 221.992955 67.419118 \nz\n\" style=\"fill:#8dd3c7;\"/>\n   </g>\n   <g id=\"patch_61\">\n    <path clip-path=\"url(#p202946b90d)\" d=\"M 225.036591 224.64 \nL 228.080227 224.64 \nL 228.080227 68.592408 \nL 225.036591 68.592408 \nz\n\" style=\"fill:#8dd3c7;\"/>\n   </g>\n   <g id=\"patch_62\">\n    <path clip-path=\"url(#p202946b90d)\" d=\"M 228.080227 224.64 \nL 231.123864 224.64 \nL 231.123864 78.565374 \nL 228.080227 78.565374 \nz\n\" style=\"fill:#8dd3c7;\"/>\n   </g>\n   <g id=\"patch_63\">\n    <path clip-path=\"url(#p202946b90d)\" d=\"M 231.123864 224.64 \nL 234.1675 224.64 \nL 234.1675 83.84518 \nL 231.123864 83.84518 \nz\n\" style=\"fill:#8dd3c7;\"/>\n   </g>\n   <g id=\"patch_64\">\n    <path clip-path=\"url(#p202946b90d)\" d=\"M 234.1675 224.64 \nL 237.211136 224.64 \nL 237.211136 89.711631 \nL 234.1675 89.711631 \nz\n\" style=\"fill:#8dd3c7;\"/>\n   </g>\n   <g id=\"patch_65\">\n    <path clip-path=\"url(#p202946b90d)\" d=\"M 237.211136 224.64 \nL 240.254773 224.64 \nL 240.254773 83.258535 \nL 237.211136 83.258535 \nz\n\" style=\"fill:#8dd3c7;\"/>\n   </g>\n   <g id=\"patch_66\">\n    <path clip-path=\"url(#p202946b90d)\" d=\"M 240.254773 224.64 \nL 243.298409 224.64 \nL 243.298409 103.204468 \nL 240.254773 103.204468 \nz\n\" style=\"fill:#8dd3c7;\"/>\n   </g>\n   <g id=\"patch_67\">\n    <path clip-path=\"url(#p202946b90d)\" d=\"M 243.298409 224.64 \nL 246.342045 224.64 \nL 246.342045 117.28395 \nL 243.298409 117.28395 \nz\n\" style=\"fill:#8dd3c7;\"/>\n   </g>\n   <g id=\"patch_68\">\n    <path clip-path=\"url(#p202946b90d)\" d=\"M 246.342045 224.64 \nL 249.385682 224.64 \nL 249.385682 128.430206 \nL 246.342045 128.430206 \nz\n\" style=\"fill:#8dd3c7;\"/>\n   </g>\n   <g id=\"patch_69\">\n    <path clip-path=\"url(#p202946b90d)\" d=\"M 249.385682 224.64 \nL 252.429318 224.64 \nL 252.429318 133.123367 \nL 249.385682 133.123367 \nz\n\" style=\"fill:#8dd3c7;\"/>\n   </g>\n   <g id=\"patch_70\">\n    <path clip-path=\"url(#p202946b90d)\" d=\"M 252.429318 224.64 \nL 255.472955 224.64 \nL 255.472955 140.163108 \nL 252.429318 140.163108 \nz\n\" style=\"fill:#8dd3c7;\"/>\n   </g>\n   <g id=\"patch_71\">\n    <path clip-path=\"url(#p202946b90d)\" d=\"M 255.472955 224.64 \nL 258.516591 224.64 \nL 258.516591 147.789494 \nL 255.472955 147.789494 \nz\n\" style=\"fill:#8dd3c7;\"/>\n   </g>\n   <g id=\"patch_72\">\n    <path clip-path=\"url(#p202946b90d)\" d=\"M 258.516591 224.64 \nL 261.560227 224.64 \nL 261.560227 159.522396 \nL 258.516591 159.522396 \nz\n\" style=\"fill:#8dd3c7;\"/>\n   </g>\n   <g id=\"patch_73\">\n    <path clip-path=\"url(#p202946b90d)\" d=\"M 261.560227 224.64 \nL 264.603864 224.64 \nL 264.603864 160.695686 \nL 261.560227 160.695686 \nz\n\" style=\"fill:#8dd3c7;\"/>\n   </g>\n   <g id=\"patch_74\">\n    <path clip-path=\"url(#p202946b90d)\" d=\"M 264.603864 224.64 \nL 267.6475 224.64 \nL 267.6475 168.908717 \nL 264.603864 168.908717 \nz\n\" style=\"fill:#8dd3c7;\"/>\n   </g>\n   <g id=\"patch_75\">\n    <path clip-path=\"url(#p202946b90d)\" d=\"M 267.6475 224.64 \nL 270.691136 224.64 \nL 270.691136 175.361813 \nL 267.6475 175.361813 \nz\n\" style=\"fill:#8dd3c7;\"/>\n   </g>\n   <g id=\"patch_76\">\n    <path clip-path=\"url(#p202946b90d)\" d=\"M 270.691136 224.64 \nL 273.734773 224.64 \nL 273.734773 188.268005 \nL 270.691136 188.268005 \nz\n\" style=\"fill:#8dd3c7;\"/>\n   </g>\n   <g id=\"patch_77\">\n    <path clip-path=\"url(#p202946b90d)\" d=\"M 273.734773 224.64 \nL 276.778409 224.64 \nL 276.778409 186.50807 \nL 273.734773 186.50807 \nz\n\" style=\"fill:#8dd3c7;\"/>\n   </g>\n   <g id=\"patch_78\">\n    <path clip-path=\"url(#p202946b90d)\" d=\"M 276.778409 224.64 \nL 279.822045 224.64 \nL 279.822045 189.441295 \nL 276.778409 189.441295 \nz\n\" style=\"fill:#8dd3c7;\"/>\n   </g>\n   <g id=\"patch_79\">\n    <path clip-path=\"url(#p202946b90d)\" d=\"M 279.822045 224.64 \nL 282.865682 224.64 \nL 282.865682 190.614585 \nL 279.822045 190.614585 \nz\n\" style=\"fill:#8dd3c7;\"/>\n   </g>\n   <g id=\"patch_80\">\n    <path clip-path=\"url(#p202946b90d)\" d=\"M 282.865682 224.64 \nL 285.909318 224.64 \nL 285.909318 195.894391 \nL 282.865682 195.894391 \nz\n\" style=\"fill:#8dd3c7;\"/>\n   </g>\n   <g id=\"patch_81\">\n    <path clip-path=\"url(#p202946b90d)\" d=\"M 285.909318 224.64 \nL 288.952955 224.64 \nL 288.952955 201.760842 \nL 285.909318 201.760842 \nz\n\" style=\"fill:#8dd3c7;\"/>\n   </g>\n   <g id=\"patch_82\">\n    <path clip-path=\"url(#p202946b90d)\" d=\"M 288.952955 224.64 \nL 291.996591 224.64 \nL 291.996591 206.454002 \nL 288.952955 206.454002 \nz\n\" style=\"fill:#8dd3c7;\"/>\n   </g>\n   <g id=\"patch_83\">\n    <path clip-path=\"url(#p202946b90d)\" d=\"M 291.996591 224.64 \nL 295.040227 224.64 \nL 295.040227 205.280712 \nL 291.996591 205.280712 \nz\n\" style=\"fill:#8dd3c7;\"/>\n   </g>\n   <g id=\"patch_84\">\n    <path clip-path=\"url(#p202946b90d)\" d=\"M 295.040227 224.64 \nL 298.083864 224.64 \nL 298.083864 216.426969 \nL 295.040227 216.426969 \nz\n\" style=\"fill:#8dd3c7;\"/>\n   </g>\n   <g id=\"patch_85\">\n    <path clip-path=\"url(#p202946b90d)\" d=\"M 298.083864 224.64 \nL 301.1275 224.64 \nL 301.1275 214.667034 \nL 298.083864 214.667034 \nz\n\" style=\"fill:#8dd3c7;\"/>\n   </g>\n   <g id=\"patch_86\">\n    <path clip-path=\"url(#p202946b90d)\" d=\"M 301.1275 224.64 \nL 304.171136 224.64 \nL 304.171136 219.360194 \nL 301.1275 219.360194 \nz\n\" style=\"fill:#8dd3c7;\"/>\n   </g>\n   <g id=\"patch_87\">\n    <path clip-path=\"url(#p202946b90d)\" d=\"M 304.171136 224.64 \nL 307.214773 224.64 \nL 307.214773 219.946839 \nL 304.171136 219.946839 \nz\n\" style=\"fill:#8dd3c7;\"/>\n   </g>\n   <g id=\"patch_88\">\n    <path clip-path=\"url(#p202946b90d)\" d=\"M 307.214773 224.64 \nL 310.258409 224.64 \nL 310.258409 219.360194 \nL 307.214773 219.360194 \nz\n\" style=\"fill:#8dd3c7;\"/>\n   </g>\n   <g id=\"patch_89\">\n    <path clip-path=\"url(#p202946b90d)\" d=\"M 310.258409 224.64 \nL 313.302045 224.64 \nL 313.302045 221.12013 \nL 310.258409 221.12013 \nz\n\" style=\"fill:#8dd3c7;\"/>\n   </g>\n   <g id=\"patch_90\">\n    <path clip-path=\"url(#p202946b90d)\" d=\"M 313.302045 224.64 \nL 316.345682 224.64 \nL 316.345682 222.29342 \nL 313.302045 222.29342 \nz\n\" style=\"fill:#8dd3c7;\"/>\n   </g>\n   <g id=\"patch_91\">\n    <path clip-path=\"url(#p202946b90d)\" d=\"M 316.345682 224.64 \nL 319.389318 224.64 \nL 319.389318 221.706775 \nL 316.345682 221.706775 \nz\n\" style=\"fill:#8dd3c7;\"/>\n   </g>\n   <g id=\"patch_92\">\n    <path clip-path=\"url(#p202946b90d)\" d=\"M 319.389318 224.64 \nL 322.432955 224.64 \nL 322.432955 222.880065 \nL 319.389318 222.880065 \nz\n\" style=\"fill:#8dd3c7;\"/>\n   </g>\n   <g id=\"patch_93\">\n    <path clip-path=\"url(#p202946b90d)\" d=\"M 322.432955 224.64 \nL 325.476591 224.64 \nL 325.476591 222.880065 \nL 322.432955 222.880065 \nz\n\" style=\"fill:#8dd3c7;\"/>\n   </g>\n   <g id=\"patch_94\">\n    <path clip-path=\"url(#p202946b90d)\" d=\"M 325.476591 224.64 \nL 328.520227 224.64 \nL 328.520227 223.46671 \nL 325.476591 223.46671 \nz\n\" style=\"fill:#8dd3c7;\"/>\n   </g>\n   <g id=\"patch_95\">\n    <path clip-path=\"url(#p202946b90d)\" d=\"M 328.520227 224.64 \nL 331.563864 224.64 \nL 331.563864 224.053355 \nL 328.520227 224.053355 \nz\n\" style=\"fill:#8dd3c7;\"/>\n   </g>\n   <g id=\"patch_96\">\n    <path clip-path=\"url(#p202946b90d)\" d=\"M 331.563864 224.64 \nL 334.6075 224.64 \nL 334.6075 223.46671 \nL 331.563864 223.46671 \nz\n\" style=\"fill:#8dd3c7;\"/>\n   </g>\n   <g id=\"patch_97\">\n    <path clip-path=\"url(#p202946b90d)\" d=\"M 334.6075 224.64 \nL 337.651136 224.64 \nL 337.651136 224.64 \nL 334.6075 224.64 \nz\n\" style=\"fill:#8dd3c7;\"/>\n   </g>\n   <g id=\"patch_98\">\n    <path clip-path=\"url(#p202946b90d)\" d=\"M 337.651136 224.64 \nL 340.694773 224.64 \nL 340.694773 222.880065 \nL 337.651136 222.880065 \nz\n\" style=\"fill:#8dd3c7;\"/>\n   </g>\n   <g id=\"patch_99\">\n    <path clip-path=\"url(#p202946b90d)\" d=\"M 340.694773 224.64 \nL 343.738409 224.64 \nL 343.738409 224.64 \nL 340.694773 224.64 \nz\n\" style=\"fill:#8dd3c7;\"/>\n   </g>\n   <g id=\"patch_100\">\n    <path clip-path=\"url(#p202946b90d)\" d=\"M 343.738409 224.64 \nL 346.782045 224.64 \nL 346.782045 224.64 \nL 343.738409 224.64 \nz\n\" style=\"fill:#8dd3c7;\"/>\n   </g>\n   <g id=\"patch_101\">\n    <path clip-path=\"url(#p202946b90d)\" d=\"M 346.782045 224.64 \nL 349.825682 224.64 \nL 349.825682 224.64 \nL 346.782045 224.64 \nz\n\" style=\"fill:#8dd3c7;\"/>\n   </g>\n   <g id=\"patch_102\">\n    <path clip-path=\"url(#p202946b90d)\" d=\"M 349.825682 224.64 \nL 352.869318 224.64 \nL 352.869318 223.46671 \nL 349.825682 223.46671 \nz\n\" style=\"fill:#8dd3c7;\"/>\n   </g>\n   <g id=\"matplotlib.axis_1\">\n    <g id=\"xtick_1\">\n     <g id=\"line2d_1\">\n      <defs>\n       <path d=\"M 0 0 \nL 0 3.5 \n\" id=\"m653cfb29e1\" style=\"stroke:#ffffff;stroke-width:0.8;\"/>\n      </defs>\n      <g>\n       <use style=\"fill:#ffffff;stroke:#ffffff;stroke-width:0.8;\" x=\"38.223514\" xlink:href=\"#m653cfb29e1\" y=\"224.64\"/>\n      </g>\n     </g>\n     <g id=\"text_1\">\n      <!-- −750 -->\n      <g style=\"fill:#ffffff;\" transform=\"translate(24.489921 239.238438)scale(0.1 -0.1)\">\n       <defs>\n        <path d=\"M 678 2272 \nL 4684 2272 \nL 4684 1741 \nL 678 1741 \nL 678 2272 \nz\n\" id=\"DejaVuSans-2212\" transform=\"scale(0.015625)\"/>\n        <path d=\"M 525 4666 \nL 3525 4666 \nL 3525 4397 \nL 1831 0 \nL 1172 0 \nL 2766 4134 \nL 525 4134 \nL 525 4666 \nz\n\" id=\"DejaVuSans-37\" transform=\"scale(0.015625)\"/>\n        <path d=\"M 691 4666 \nL 3169 4666 \nL 3169 4134 \nL 1269 4134 \nL 1269 2991 \nQ 1406 3038 1543 3061 \nQ 1681 3084 1819 3084 \nQ 2600 3084 3056 2656 \nQ 3513 2228 3513 1497 \nQ 3513 744 3044 326 \nQ 2575 -91 1722 -91 \nQ 1428 -91 1123 -41 \nQ 819 9 494 109 \nL 494 744 \nQ 775 591 1075 516 \nQ 1375 441 1709 441 \nQ 2250 441 2565 725 \nQ 2881 1009 2881 1497 \nQ 2881 1984 2565 2268 \nQ 2250 2553 1709 2553 \nQ 1456 2553 1204 2497 \nQ 953 2441 691 2322 \nL 691 4666 \nz\n\" id=\"DejaVuSans-35\" transform=\"scale(0.015625)\"/>\n        <path d=\"M 2034 4250 \nQ 1547 4250 1301 3770 \nQ 1056 3291 1056 2328 \nQ 1056 1369 1301 889 \nQ 1547 409 2034 409 \nQ 2525 409 2770 889 \nQ 3016 1369 3016 2328 \nQ 3016 3291 2770 3770 \nQ 2525 4250 2034 4250 \nz\nM 2034 4750 \nQ 2819 4750 3233 4129 \nQ 3647 3509 3647 2328 \nQ 3647 1150 3233 529 \nQ 2819 -91 2034 -91 \nQ 1250 -91 836 529 \nQ 422 1150 422 2328 \nQ 422 3509 836 4129 \nQ 1250 4750 2034 4750 \nz\n\" id=\"DejaVuSans-30\" transform=\"scale(0.015625)\"/>\n       </defs>\n       <use xlink:href=\"#DejaVuSans-2212\"/>\n       <use x=\"83.789062\" xlink:href=\"#DejaVuSans-37\"/>\n       <use x=\"147.412109\" xlink:href=\"#DejaVuSans-35\"/>\n       <use x=\"211.035156\" xlink:href=\"#DejaVuSans-30\"/>\n      </g>\n     </g>\n    </g>\n    <g id=\"xtick_2\">\n     <g id=\"line2d_2\">\n      <g>\n       <use style=\"fill:#ffffff;stroke:#ffffff;stroke-width:0.8;\" x=\"77.333307\" xlink:href=\"#m653cfb29e1\" y=\"224.64\"/>\n      </g>\n     </g>\n     <g id=\"text_2\">\n      <!-- −500 -->\n      <g style=\"fill:#ffffff;\" transform=\"translate(63.599714 239.238438)scale(0.1 -0.1)\">\n       <use xlink:href=\"#DejaVuSans-2212\"/>\n       <use x=\"83.789062\" xlink:href=\"#DejaVuSans-35\"/>\n       <use x=\"147.412109\" xlink:href=\"#DejaVuSans-30\"/>\n       <use x=\"211.035156\" xlink:href=\"#DejaVuSans-30\"/>\n      </g>\n     </g>\n    </g>\n    <g id=\"xtick_3\">\n     <g id=\"line2d_3\">\n      <g>\n       <use style=\"fill:#ffffff;stroke:#ffffff;stroke-width:0.8;\" x=\"116.4431\" xlink:href=\"#m653cfb29e1\" y=\"224.64\"/>\n      </g>\n     </g>\n     <g id=\"text_3\">\n      <!-- −250 -->\n      <g style=\"fill:#ffffff;\" transform=\"translate(102.709507 239.238438)scale(0.1 -0.1)\">\n       <defs>\n        <path d=\"M 1228 531 \nL 3431 531 \nL 3431 0 \nL 469 0 \nL 469 531 \nQ 828 903 1448 1529 \nQ 2069 2156 2228 2338 \nQ 2531 2678 2651 2914 \nQ 2772 3150 2772 3378 \nQ 2772 3750 2511 3984 \nQ 2250 4219 1831 4219 \nQ 1534 4219 1204 4116 \nQ 875 4013 500 3803 \nL 500 4441 \nQ 881 4594 1212 4672 \nQ 1544 4750 1819 4750 \nQ 2544 4750 2975 4387 \nQ 3406 4025 3406 3419 \nQ 3406 3131 3298 2873 \nQ 3191 2616 2906 2266 \nQ 2828 2175 2409 1742 \nQ 1991 1309 1228 531 \nz\n\" id=\"DejaVuSans-32\" transform=\"scale(0.015625)\"/>\n       </defs>\n       <use xlink:href=\"#DejaVuSans-2212\"/>\n       <use x=\"83.789062\" xlink:href=\"#DejaVuSans-32\"/>\n       <use x=\"147.412109\" xlink:href=\"#DejaVuSans-35\"/>\n       <use x=\"211.035156\" xlink:href=\"#DejaVuSans-30\"/>\n      </g>\n     </g>\n    </g>\n    <g id=\"xtick_4\">\n     <g id=\"line2d_4\">\n      <g>\n       <use style=\"fill:#ffffff;stroke:#ffffff;stroke-width:0.8;\" x=\"155.552893\" xlink:href=\"#m653cfb29e1\" y=\"224.64\"/>\n      </g>\n     </g>\n     <g id=\"text_4\">\n      <!-- 0 -->\n      <g style=\"fill:#ffffff;\" transform=\"translate(152.371643 239.238438)scale(0.1 -0.1)\">\n       <use xlink:href=\"#DejaVuSans-30\"/>\n      </g>\n     </g>\n    </g>\n    <g id=\"xtick_5\">\n     <g id=\"line2d_5\">\n      <g>\n       <use style=\"fill:#ffffff;stroke:#ffffff;stroke-width:0.8;\" x=\"194.662686\" xlink:href=\"#m653cfb29e1\" y=\"224.64\"/>\n      </g>\n     </g>\n     <g id=\"text_5\">\n      <!-- 250 -->\n      <g style=\"fill:#ffffff;\" transform=\"translate(185.118936 239.238438)scale(0.1 -0.1)\">\n       <use xlink:href=\"#DejaVuSans-32\"/>\n       <use x=\"63.623047\" xlink:href=\"#DejaVuSans-35\"/>\n       <use x=\"127.246094\" xlink:href=\"#DejaVuSans-30\"/>\n      </g>\n     </g>\n    </g>\n    <g id=\"xtick_6\">\n     <g id=\"line2d_6\">\n      <g>\n       <use style=\"fill:#ffffff;stroke:#ffffff;stroke-width:0.8;\" x=\"233.772479\" xlink:href=\"#m653cfb29e1\" y=\"224.64\"/>\n      </g>\n     </g>\n     <g id=\"text_6\">\n      <!-- 500 -->\n      <g style=\"fill:#ffffff;\" transform=\"translate(224.228729 239.238438)scale(0.1 -0.1)\">\n       <use xlink:href=\"#DejaVuSans-35\"/>\n       <use x=\"63.623047\" xlink:href=\"#DejaVuSans-30\"/>\n       <use x=\"127.246094\" xlink:href=\"#DejaVuSans-30\"/>\n      </g>\n     </g>\n    </g>\n    <g id=\"xtick_7\">\n     <g id=\"line2d_7\">\n      <g>\n       <use style=\"fill:#ffffff;stroke:#ffffff;stroke-width:0.8;\" x=\"272.882272\" xlink:href=\"#m653cfb29e1\" y=\"224.64\"/>\n      </g>\n     </g>\n     <g id=\"text_7\">\n      <!-- 750 -->\n      <g style=\"fill:#ffffff;\" transform=\"translate(263.338522 239.238438)scale(0.1 -0.1)\">\n       <use xlink:href=\"#DejaVuSans-37\"/>\n       <use x=\"63.623047\" xlink:href=\"#DejaVuSans-35\"/>\n       <use x=\"127.246094\" xlink:href=\"#DejaVuSans-30\"/>\n      </g>\n     </g>\n    </g>\n    <g id=\"xtick_8\">\n     <g id=\"line2d_8\">\n      <g>\n       <use style=\"fill:#ffffff;stroke:#ffffff;stroke-width:0.8;\" x=\"311.992065\" xlink:href=\"#m653cfb29e1\" y=\"224.64\"/>\n      </g>\n     </g>\n     <g id=\"text_8\">\n      <!-- 1000 -->\n      <g style=\"fill:#ffffff;\" transform=\"translate(299.267065 239.238438)scale(0.1 -0.1)\">\n       <defs>\n        <path d=\"M 794 531 \nL 1825 531 \nL 1825 4091 \nL 703 3866 \nL 703 4441 \nL 1819 4666 \nL 2450 4666 \nL 2450 531 \nL 3481 531 \nL 3481 0 \nL 794 0 \nL 794 531 \nz\n\" id=\"DejaVuSans-31\" transform=\"scale(0.015625)\"/>\n       </defs>\n       <use xlink:href=\"#DejaVuSans-31\"/>\n       <use x=\"63.623047\" xlink:href=\"#DejaVuSans-30\"/>\n       <use x=\"127.246094\" xlink:href=\"#DejaVuSans-30\"/>\n       <use x=\"190.869141\" xlink:href=\"#DejaVuSans-30\"/>\n      </g>\n     </g>\n    </g>\n    <g id=\"xtick_9\">\n     <g id=\"line2d_9\">\n      <g>\n       <use style=\"fill:#ffffff;stroke:#ffffff;stroke-width:0.8;\" x=\"351.101858\" xlink:href=\"#m653cfb29e1\" y=\"224.64\"/>\n      </g>\n     </g>\n     <g id=\"text_9\">\n      <!-- 1250 -->\n      <g style=\"fill:#ffffff;\" transform=\"translate(338.376858 239.238438)scale(0.1 -0.1)\">\n       <use xlink:href=\"#DejaVuSans-31\"/>\n       <use x=\"63.623047\" xlink:href=\"#DejaVuSans-32\"/>\n       <use x=\"127.246094\" xlink:href=\"#DejaVuSans-35\"/>\n       <use x=\"190.869141\" xlink:href=\"#DejaVuSans-30\"/>\n      </g>\n     </g>\n    </g>\n   </g>\n   <g id=\"matplotlib.axis_2\">\n    <g id=\"ytick_1\">\n     <g id=\"line2d_10\">\n      <defs>\n       <path d=\"M 0 0 \nL -3.5 0 \n\" id=\"m7de6356f99\" style=\"stroke:#ffffff;stroke-width:0.8;\"/>\n      </defs>\n      <g>\n       <use style=\"fill:#ffffff;stroke:#ffffff;stroke-width:0.8;\" x=\"33.2875\" xlink:href=\"#m7de6356f99\" y=\"224.64\"/>\n      </g>\n     </g>\n     <g id=\"text_10\">\n      <!-- 0 -->\n      <g style=\"fill:#ffffff;\" transform=\"translate(19.925 228.439219)scale(0.1 -0.1)\">\n       <use xlink:href=\"#DejaVuSans-30\"/>\n      </g>\n     </g>\n    </g>\n    <g id=\"ytick_2\">\n     <g id=\"line2d_11\">\n      <g>\n       <use style=\"fill:#ffffff;stroke:#ffffff;stroke-width:0.8;\" x=\"33.2875\" xlink:href=\"#m7de6356f99\" y=\"195.307746\"/>\n      </g>\n     </g>\n     <g id=\"text_11\">\n      <!-- 50 -->\n      <g style=\"fill:#ffffff;\" transform=\"translate(13.5625 199.106965)scale(0.1 -0.1)\">\n       <use xlink:href=\"#DejaVuSans-35\"/>\n       <use x=\"63.623047\" xlink:href=\"#DejaVuSans-30\"/>\n      </g>\n     </g>\n    </g>\n    <g id=\"ytick_3\">\n     <g id=\"line2d_12\">\n      <g>\n       <use style=\"fill:#ffffff;stroke:#ffffff;stroke-width:0.8;\" x=\"33.2875\" xlink:href=\"#m7de6356f99\" y=\"165.975492\"/>\n      </g>\n     </g>\n     <g id=\"text_12\">\n      <!-- 100 -->\n      <g style=\"fill:#ffffff;\" transform=\"translate(7.2 169.77471)scale(0.1 -0.1)\">\n       <use xlink:href=\"#DejaVuSans-31\"/>\n       <use x=\"63.623047\" xlink:href=\"#DejaVuSans-30\"/>\n       <use x=\"127.246094\" xlink:href=\"#DejaVuSans-30\"/>\n      </g>\n     </g>\n    </g>\n    <g id=\"ytick_4\">\n     <g id=\"line2d_13\">\n      <g>\n       <use style=\"fill:#ffffff;stroke:#ffffff;stroke-width:0.8;\" x=\"33.2875\" xlink:href=\"#m7de6356f99\" y=\"136.643238\"/>\n      </g>\n     </g>\n     <g id=\"text_13\">\n      <!-- 150 -->\n      <g style=\"fill:#ffffff;\" transform=\"translate(7.2 140.442456)scale(0.1 -0.1)\">\n       <use xlink:href=\"#DejaVuSans-31\"/>\n       <use x=\"63.623047\" xlink:href=\"#DejaVuSans-35\"/>\n       <use x=\"127.246094\" xlink:href=\"#DejaVuSans-30\"/>\n      </g>\n     </g>\n    </g>\n    <g id=\"ytick_5\">\n     <g id=\"line2d_14\">\n      <g>\n       <use style=\"fill:#ffffff;stroke:#ffffff;stroke-width:0.8;\" x=\"33.2875\" xlink:href=\"#m7de6356f99\" y=\"107.310983\"/>\n      </g>\n     </g>\n     <g id=\"text_14\">\n      <!-- 200 -->\n      <g style=\"fill:#ffffff;\" transform=\"translate(7.2 111.110202)scale(0.1 -0.1)\">\n       <use xlink:href=\"#DejaVuSans-32\"/>\n       <use x=\"63.623047\" xlink:href=\"#DejaVuSans-30\"/>\n       <use x=\"127.246094\" xlink:href=\"#DejaVuSans-30\"/>\n      </g>\n     </g>\n    </g>\n    <g id=\"ytick_6\">\n     <g id=\"line2d_15\">\n      <g>\n       <use style=\"fill:#ffffff;stroke:#ffffff;stroke-width:0.8;\" x=\"33.2875\" xlink:href=\"#m7de6356f99\" y=\"77.978729\"/>\n      </g>\n     </g>\n     <g id=\"text_15\">\n      <!-- 250 -->\n      <g style=\"fill:#ffffff;\" transform=\"translate(7.2 81.777948)scale(0.1 -0.1)\">\n       <use xlink:href=\"#DejaVuSans-32\"/>\n       <use x=\"63.623047\" xlink:href=\"#DejaVuSans-35\"/>\n       <use x=\"127.246094\" xlink:href=\"#DejaVuSans-30\"/>\n      </g>\n     </g>\n    </g>\n    <g id=\"ytick_7\">\n     <g id=\"line2d_16\">\n      <g>\n       <use style=\"fill:#ffffff;stroke:#ffffff;stroke-width:0.8;\" x=\"33.2875\" xlink:href=\"#m7de6356f99\" y=\"48.646475\"/>\n      </g>\n     </g>\n     <g id=\"text_16\">\n      <!-- 300 -->\n      <g style=\"fill:#ffffff;\" transform=\"translate(7.2 52.445694)scale(0.1 -0.1)\">\n       <defs>\n        <path d=\"M 2597 2516 \nQ 3050 2419 3304 2112 \nQ 3559 1806 3559 1356 \nQ 3559 666 3084 287 \nQ 2609 -91 1734 -91 \nQ 1441 -91 1130 -33 \nQ 819 25 488 141 \nL 488 750 \nQ 750 597 1062 519 \nQ 1375 441 1716 441 \nQ 2309 441 2620 675 \nQ 2931 909 2931 1356 \nQ 2931 1769 2642 2001 \nQ 2353 2234 1838 2234 \nL 1294 2234 \nL 1294 2753 \nL 1863 2753 \nQ 2328 2753 2575 2939 \nQ 2822 3125 2822 3475 \nQ 2822 3834 2567 4026 \nQ 2313 4219 1838 4219 \nQ 1578 4219 1281 4162 \nQ 984 4106 628 3988 \nL 628 4550 \nQ 988 4650 1302 4700 \nQ 1616 4750 1894 4750 \nQ 2613 4750 3031 4423 \nQ 3450 4097 3450 3541 \nQ 3450 3153 3228 2886 \nQ 3006 2619 2597 2516 \nz\n\" id=\"DejaVuSans-33\" transform=\"scale(0.015625)\"/>\n       </defs>\n       <use xlink:href=\"#DejaVuSans-33\"/>\n       <use x=\"63.623047\" xlink:href=\"#DejaVuSans-30\"/>\n       <use x=\"127.246094\" xlink:href=\"#DejaVuSans-30\"/>\n      </g>\n     </g>\n    </g>\n    <g id=\"ytick_8\">\n     <g id=\"line2d_17\">\n      <g>\n       <use style=\"fill:#ffffff;stroke:#ffffff;stroke-width:0.8;\" x=\"33.2875\" xlink:href=\"#m7de6356f99\" y=\"19.314221\"/>\n      </g>\n     </g>\n     <g id=\"text_17\">\n      <!-- 350 -->\n      <g style=\"fill:#ffffff;\" transform=\"translate(7.2 23.11344)scale(0.1 -0.1)\">\n       <use xlink:href=\"#DejaVuSans-33\"/>\n       <use x=\"63.623047\" xlink:href=\"#DejaVuSans-35\"/>\n       <use x=\"127.246094\" xlink:href=\"#DejaVuSans-30\"/>\n      </g>\n     </g>\n    </g>\n   </g>\n   <g id=\"line2d_18\">\n    <path clip-path=\"url(#p202946b90d)\" d=\"M 205.949012 224.64 \nL 205.949012 7.2 \n\" style=\"fill:none;stroke:#ffff00;stroke-dasharray:7.4,3.2;stroke-dashoffset:0;stroke-width:2;\"/>\n   </g>\n   <g id=\"line2d_19\">\n    <path clip-path=\"url(#p202946b90d)\" d=\"M 130.563698 224.64 \nL 130.563698 7.2 \n\" style=\"fill:none;stroke:#008000;stroke-dasharray:7.4,3.2;stroke-dashoffset:0;stroke-width:2;\"/>\n   </g>\n   <g id=\"line2d_20\">\n    <path clip-path=\"url(#p202946b90d)\" d=\"M 281.334327 224.64 \nL 281.334327 7.2 \n\" style=\"fill:none;stroke:#008000;stroke-dasharray:7.4,3.2;stroke-dashoffset:0;stroke-width:2;\"/>\n   </g>\n   <g id=\"line2d_21\">\n    <path clip-path=\"url(#p202946b90d)\" d=\"M 210.013172 224.64 \nL 210.013172 7.2 \n\" style=\"fill:none;stroke:#ffffff;stroke-dasharray:7.4,3.2;stroke-dashoffset:0;stroke-width:2;\"/>\n   </g>\n   <g id=\"line2d_22\">\n    <path clip-path=\"url(#p202946b90d)\" d=\"M 201.884852 224.64 \nL 201.884852 7.2 \n\" style=\"fill:none;stroke:#ffffff;stroke-dasharray:7.4,3.2;stroke-dashoffset:0;stroke-width:2;\"/>\n   </g>\n   <g id=\"patch_103\">\n    <path d=\"M 33.2875 224.64 \nL 33.2875 7.2 \n\" style=\"fill:none;stroke:#ffffff;stroke-linecap:square;stroke-linejoin:miter;stroke-width:0.8;\"/>\n   </g>\n   <g id=\"patch_104\">\n    <path d=\"M 368.0875 224.64 \nL 368.0875 7.2 \n\" style=\"fill:none;stroke:#ffffff;stroke-linecap:square;stroke-linejoin:miter;stroke-width:0.8;\"/>\n   </g>\n   <g id=\"patch_105\">\n    <path d=\"M 33.2875 224.64 \nL 368.0875 224.64 \n\" style=\"fill:none;stroke:#ffffff;stroke-linecap:square;stroke-linejoin:miter;stroke-width:0.8;\"/>\n   </g>\n   <g id=\"patch_106\">\n    <path d=\"M 33.2875 7.2 \nL 368.0875 7.2 \n\" style=\"fill:none;stroke:#ffffff;stroke-linecap:square;stroke-linejoin:miter;stroke-width:0.8;\"/>\n   </g>\n  </g>\n </g>\n <defs>\n  <clipPath id=\"p202946b90d\">\n   <rect height=\"217.44\" width=\"334.8\" x=\"33.2875\" y=\"7.2\"/>\n  </clipPath>\n </defs>\n</svg>\n",
      "text/plain": [
       "<Figure size 432x288 with 1 Axes>"
      ]
     },
     "metadata": {},
     "output_type": "display_data"
    }
   ],
   "source": [
    "\n",
    "ci = stats.norm.interval(0.95, pop.mean(), pop.std())\n",
    "plt.hist(pop, bins=100)\n",
    "plt.axvline(pop.mean(), color='yellow', linestyle='dashed', linewidth=2)\n",
    "\n",
    "plt.axvline(ci[0], color='green', linestyle='dashed', linewidth=2)\n",
    "plt.axvline(ci[1], color='green', linestyle='dashed', linewidth=2)\n",
    "\n",
    "plt.axvline(pop.mean()+t*pop.std(), color='white', linestyle='dashed', linewidth=2)\n",
    "plt.axvline(pop.mean()-t*pop.std(), color='white', linestyle='dashed', linewidth=2)\n",
    "\n"
   ]
  },
  {
   "cell_type": "markdown",
   "metadata": {},
   "source": [
    "<p id=\"part10\"></p>\n",
    "\n",
    "# <span style=\"font-family: Arials; font-size: 16px; font-style: bold; font-weight: bold; letter-spacing: 3px; color: #FF8C00\">4 FINAL CONCLUSIONS</span>\n",
    "\n",
    "<hr style=\"height: 0.5px; border: 0; background-color: #808080\">\n"
   ]
  },
  {
   "cell_type": "markdown",
   "metadata": {},
   "source": [
    "<p>Based on the test we conducted using single sample two tailed test, we can conclude that the null hypothesis (HO) is accepted because the p-value which is 0.96 is greater than the critical value of 0.05. And according to our H0 hypothesis we can said that the average daily sales of supermarket company is equal to 322.96</p>"
   ]
  }
 ],
 "metadata": {
  "interpreter": {
   "hash": "62dba6e8a54f3d0432e602eed10d41b8b4f5c6e9340808406e66655eedde92a4"
  },
  "kernelspec": {
   "display_name": "Python 3.8.12 64-bit ('Hacktiv8': conda)",
   "language": "python",
   "name": "python3"
  },
  "language_info": {
   "codemirror_mode": {
    "name": "ipython",
    "version": 3
   },
   "file_extension": ".py",
   "mimetype": "text/x-python",
   "name": "python",
   "nbconvert_exporter": "python",
   "pygments_lexer": "ipython3",
   "version": "3.8.12"
  },
  "orig_nbformat": 4
 },
 "nbformat": 4,
 "nbformat_minor": 2
}
